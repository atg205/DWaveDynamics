{
 "cells": [
  {
   "cell_type": "code",
   "execution_count": 42,
   "metadata": {},
   "outputs": [
    {
     "name": "stdout",
     "output_type": "stream",
     "text": [
      "Number of instances:  12\n",
      "['precision_2_timepoints_3.json', 'precision_2_timepoints_4.json', 'precision_2_timepoints_5.json', 'precision_2_timepoints_6.json', 'precision_3_timepoints_3.json', 'precision_3_timepoints_4.json', 'precision_3_timepoints_5.json', 'precision_3_timepoints_6.json', 'precision_4_timepoints_3.json', 'precision_4_timepoints_4.json', 'precision_4_timepoints_5.json', 'precision_4_timepoints_6.json']\n"
     ]
    }
   ],
   "source": [
    "import dimod\n",
    "import numpy\n",
    "import os\n",
    "import json\n",
    "from dimod.serialization import coo\n",
    "\n",
    "from dwave.system import DWaveSampler\n",
    "import minorminer as mm\n",
    "from dwave.embedding import embed_bqm\n",
    "\n",
    "qpu = DWaveSampler(solver=\"Advantage_system6.4\")\n",
    "qpu_graph = qpu.to_networkx_graph()\n",
    "\n",
    "path_to_ocean_instances = \"../data/instances/pruned/1\"\n",
    "path_to_velox_instances = \"../velox/instances/pruned/1\"\n",
    "instance_list = os.listdir(path_to_ocean_instances)\n",
    "instance_list = sorted(instance_list, key=lambda x: (int(x.split(\"_\")[1]), int(x[:-5].split(\"_\")[3])))\n",
    "print(\"Number of instances: \", len(instance_list))\n",
    "print(instance_list)\n",
    "  "
   ]
  },
  {
   "cell_type": "code",
   "execution_count": 51,
   "metadata": {},
   "outputs": [
    {
     "name": "stdout",
     "output_type": "stream",
     "text": [
      "Density of instance precision_2_timepoints_3.json: 0.21739130434782608\n",
      "76.0\n",
      "Density of instance precision_2_timepoints_4.json: 0.1935483870967742\n",
      "110.0\n",
      "Density of instance precision_2_timepoints_5.json: 0.16923076923076924\n",
      "144.0\n",
      "Density of instance precision_2_timepoints_6.json: 0.14893617021276595\n",
      "178.0\n",
      "Density of instance precision_3_timepoints_3.json: 0.22857142857142856\n",
      "92.5\n",
      "Density of instance precision_3_timepoints_4.json: 0.20212765957446807\n",
      "133.0\n",
      "Density of instance precision_3_timepoints_5.json: 0.17627118644067796\n",
      "173.5\n",
      "Density of instance precision_3_timepoints_6.json: 0.15492957746478872\n",
      "214.0\n",
      "Density of instance precision_4_timepoints_3.json: 0.23404255319148937\n",
      "102.0\n",
      "Density of instance precision_4_timepoints_4.json: 0.20634920634920634\n",
      "146.125\n",
      "Density of instance precision_4_timepoints_5.json: 0.17974683544303796\n",
      "190.25\n",
      "Density of instance precision_4_timepoints_6.json: 0.15789473684210525\n",
      "234.375\n"
     ]
    }
   ],
   "source": [
    "import dimod.serialization\n",
    "\n",
    "energies = []\n",
    "\n",
    "for instance in instance_list:\n",
    "  old_path = os.path.join(path_to_ocean_instances, instance)\n",
    "  with open(old_path, 'r') as f:\n",
    "    bqm = dimod.BinaryQuadraticModel.from_serializable(json.load(f))\n",
    "  num_interactions = len(bqm.quadratic)\n",
    "  num_variables = len(bqm.variables)\n",
    "  density = num_interactions / (num_variables * (num_variables - 1) / 2)\n",
    "  print(f\"Density of instance {instance}: {density}\")\n",
    "\n",
    "  var_map = {i:i+1 for i in range(num_variables)}\n",
    "  bqm.relabel_variables(var_map)\n",
    "  bqm.change_vartype(dimod.SPIN, inplace=True)\n",
    "  print(bqm.offset)\n",
    "  energies.append(-bqm.offset)\n",
    "  new_path = os.path.join(path_to_velox_instances, instance.replace(\".json\", \".coo\"))\n",
    "  with open(new_path, 'w') as f:\n",
    "    f.write(f\"# E0 = {-bqm.offset}\\n\")\n",
    "    coo.dump(bqm, f)\n",
    "\n",
    "  embedding = mm.find_embedding(dimod.to_networkx_graph(bqm), qpu_graph)\n",
    "  bqm_embedded = embed_bqm(bqm, embedding, qpu_graph)\n",
    "  bqm_embedded.relabel_variables_as_integers()\n",
    "  new_var_map = {i:i+1 for i in range(len(bqm_embedded.variables))}\n",
    "  bqm_embedded.relabel_variables(new_var_map)\n",
    "  new_emb_path = os.path.join(path_to_velox_instances, instance.replace(\".json\", \"_embedded.coo\"))\n",
    "  with open(new_emb_path, 'w') as f:\n",
    "    f.write(f\"# E0 = {-bqm_embedded.offset}\\n\")\n",
    "    coo.dump(bqm_embedded, f)"
   ]
  }
 ],
 "metadata": {
  "kernelspec": {
   "display_name": "Python 3",
   "language": "python",
   "name": "python3"
  },
  "language_info": {
   "codemirror_mode": {
    "name": "ipython",
    "version": 3
   },
   "file_extension": ".py",
   "mimetype": "text/x-python",
   "name": "python",
   "nbconvert_exporter": "python",
   "pygments_lexer": "ipython3",
   "version": "3.11.11"
  }
 },
 "nbformat": 4,
 "nbformat_minor": 2
}
