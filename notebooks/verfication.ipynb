{
 "cells": [
  {
   "cell_type": "code",
   "execution_count": 2,
   "id": "af367004",
   "metadata": {},
   "outputs": [],
   "source": [
    "\n",
    "from dwdynamics import ComplexDynamicsProblem, Objective,helpers # Difference a. We are using ComplexDynamicsProblem\n",
    "from dimod import ExactSolver\n",
    "import numpy as np\n",
    "import scipy\n",
    "import pandas as pd\n",
    "import numpy as np\n",
    "import scipy as sp\n",
    "import math\n",
    "import pprint\n",
    "import qutip as qp\n",
    "import dimod\n"
   ]
  },
  {
   "cell_type": "code",
   "execution_count": 3,
   "id": "af0f47f3",
   "metadata": {},
   "outputs": [
    {
     "name": "stdout",
     "output_type": "stream",
     "text": [
      "[[ 1.  1.  1. -1.]\n",
      " [ 1.  1. -1.  1.]\n",
      " [ 1. -1.  1.  1.]\n",
      " [-1.  1.  1.  1.]]\n"
     ]
    },
    {
     "data": {
      "text/plain": [
       "array([[ 1.,  1.,  1., -1.],\n",
       "       [ 1.,  1., -1.,  1.],\n",
       "       [ 1., -1.,  1.,  1.],\n",
       "       [-1.,  1.,  1.,  1.]])"
      ]
     },
     "execution_count": 3,
     "metadata": {},
     "output_type": "execute_result"
    }
   ],
   "source": [
    "helpers.other_entangled_hamiltonian()"
   ]
  },
  {
   "cell_type": "code",
   "execution_count": 4,
   "id": "3db76194",
   "metadata": {},
   "outputs": [
    {
     "name": "stdout",
     "output_type": "stream",
     "text": [
      "---------\n",
      "array([[ 0.70710678+0.j, -0.70710678+0.j],\n",
      "       [ 0.70710678+0.j,  0.70710678+0.j]])\n",
      "------\n",
      "---------\n",
      "array([[ 0.70710678+0.j, -0.70710678+0.j],\n",
      "       [ 0.70710678+0.j,  0.70710678+0.j]])\n",
      "------\n",
      "---------\n",
      "array([[ 0.70710678+0.j, -0.70710678+0.j],\n",
      "       [ 0.70710678+0.j,  0.70710678+0.j]])\n",
      "------\n",
      "---------\n",
      "array([[ 0.70710678+0.j, -0.70710678+0.j],\n",
      "       [ 0.70710678+0.j,  0.70710678+0.j]])\n",
      "------\n",
      "---------\n",
      "array([[ 0.70710678+0.j, -0.70710678+0.j],\n",
      "       [ 0.70710678+0.j,  0.70710678+0.j]])\n",
      "------\n",
      "---------\n",
      "array([[ 0.70710678+0.j, -0.70710678+0.j],\n",
      "       [ 0.70710678+0.j,  0.70710678+0.j]])\n",
      "------\n",
      "---------\n",
      "array([[ 0.70710678+0.j, -0.70710678+0.j],\n",
      "       [ 0.70710678+0.j,  0.70710678+0.j]])\n",
      "------\n",
      "---------\n",
      "array([[ 0.70710678+0.j, -0.70710678+0.j],\n",
      "       [ 0.70710678+0.j,  0.70710678+0.j]])\n",
      "------\n",
      "72\n"
     ]
    },
    {
     "data": {
      "text/plain": [
       "72"
      ]
     },
     "execution_count": 4,
     "metadata": {},
     "output_type": "execute_result"
    }
   ],
   "source": [
    "# We simulate evolution under the Hamiltonian 1/2 pi * Sigma_y...\n",
    "SY = np.array([[0, -1.0j], [1.0j, 0.0]])\n",
    "PSI0 = np.array([1, 0], dtype=np.complex128)  # Difference b. Initial state can now be complex.\n",
    "H = 0.25*np.pi* SY\n",
    "timepoints = 9\n",
    "problem = ComplexDynamicsProblem(\n",
    "    hamiltonian=H,      \n",
    "    initial_state = PSI0,              \n",
    "    times=tuple(range(timepoints)),             \n",
    "    num_bits_per_var=2                 \n",
    ")\n",
    "qubo = problem.qubo(objective=Objective.norm) \n",
    "print(qubo.num_variables)\n",
    "prop = sp.linalg.expm(1.0j * -H)\n",
    "my_vect = [PSI0]\n",
    "prev = PSI0\n",
    "for _ in range(timepoints-1):\n",
    "    prev = prop@prev\n",
    "    my_vect.append(prev)\n",
    "my_vect\n",
    "qubo.num_variables"
   ]
  },
  {
   "cell_type": "code",
   "execution_count": 5,
   "id": "1fbe2d8e",
   "metadata": {},
   "outputs": [
    {
     "ename": "ValueError",
     "evalue": "Maximum allowed dimension exceeded",
     "output_type": "error",
     "traceback": [
      "\u001b[31m---------------------------------------------------------------------------\u001b[39m",
      "\u001b[31mValueError\u001b[39m                                Traceback (most recent call last)",
      "\u001b[36mCell\u001b[39m\u001b[36m \u001b[39m\u001b[32mIn[5]\u001b[39m\u001b[32m, line 2\u001b[39m\n\u001b[32m      1\u001b[39m exact_solver = ExactSolver()\n\u001b[32m----> \u001b[39m\u001b[32m2\u001b[39m exact_result = \u001b[43mexact_solver\u001b[49m\u001b[43m.\u001b[49m\u001b[43msample\u001b[49m\u001b[43m(\u001b[49m\u001b[43mqubo\u001b[49m\u001b[43m)\u001b[49m\n\u001b[32m      3\u001b[39m exact_result.first.energy\n",
      "\u001b[36mFile \u001b[39m\u001b[32m~/Documents/__Dokumente/Uni/UPMC/stage gl/DWaveDynamics2/.venv/lib/python3.11/site-packages/dimod/reference/samplers/exact_solver.py:83\u001b[39m, in \u001b[36mExactSolver.sample\u001b[39m\u001b[34m(self, bqm, **kwargs)\u001b[39m\n\u001b[32m     80\u001b[39m \u001b[38;5;28;01mif\u001b[39;00m \u001b[38;5;129;01mnot\u001b[39;00m \u001b[38;5;28mlen\u001b[39m(bqm.variables):\n\u001b[32m     81\u001b[39m     \u001b[38;5;28;01mreturn\u001b[39;00m SampleSet.from_samples([], bqm.vartype, energy=[])\n\u001b[32m---> \u001b[39m\u001b[32m83\u001b[39m samples = \u001b[43m_graycode\u001b[49m\u001b[43m(\u001b[49m\u001b[43mbqm\u001b[49m\u001b[43m)\u001b[49m\n\u001b[32m     85\u001b[39m \u001b[38;5;28;01mif\u001b[39;00m bqm.vartype \u001b[38;5;129;01mis\u001b[39;00m Vartype.SPIN:\n\u001b[32m     86\u001b[39m     samples = \u001b[32m2\u001b[39m*samples - \u001b[32m1\u001b[39m\n",
      "\u001b[36mFile \u001b[39m\u001b[32m~/Documents/__Dokumente/Uni/UPMC/stage gl/DWaveDynamics2/.venv/lib/python3.11/site-packages/dimod/reference/samplers/exact_solver.py:257\u001b[39m, in \u001b[36m_graycode\u001b[39m\u001b[34m(bqm)\u001b[39m\n\u001b[32m    255\u001b[39m n = \u001b[38;5;28mlen\u001b[39m(bqm.variables)\n\u001b[32m    256\u001b[39m ns = \u001b[32m1\u001b[39m << n\n\u001b[32m--> \u001b[39m\u001b[32m257\u001b[39m samples = \u001b[43mnp\u001b[49m\u001b[43m.\u001b[49m\u001b[43mempty\u001b[49m\u001b[43m(\u001b[49m\u001b[43m(\u001b[49m\u001b[43mns\u001b[49m\u001b[43m,\u001b[49m\u001b[43m \u001b[49m\u001b[43mn\u001b[49m\u001b[43m)\u001b[49m\u001b[43m,\u001b[49m\u001b[43m \u001b[49m\u001b[43mdtype\u001b[49m\u001b[43m=\u001b[49m\u001b[43mnp\u001b[49m\u001b[43m.\u001b[49m\u001b[43mint8\u001b[49m\u001b[43m)\u001b[49m\n\u001b[32m    259\u001b[39m samples[\u001b[32m0\u001b[39m, :] = \u001b[32m0\u001b[39m\n\u001b[32m    261\u001b[39m \u001b[38;5;28;01mfor\u001b[39;00m i \u001b[38;5;129;01min\u001b[39;00m \u001b[38;5;28mrange\u001b[39m(\u001b[32m1\u001b[39m, ns):\n",
      "\u001b[31mValueError\u001b[39m: Maximum allowed dimension exceeded"
     ]
    }
   ],
   "source": [
    "exact_solver = ExactSolver()\n",
    "exact_result = exact_solver.sample(qubo)\n",
    "exact_result.first.energy"
   ]
  },
  {
   "cell_type": "code",
   "execution_count": null,
   "id": "c47bff73",
   "metadata": {},
   "outputs": [],
   "source": []
  },
  {
   "cell_type": "code",
   "execution_count": null,
   "id": "bebb15f5",
   "metadata": {},
   "outputs": [
    {
     "data": {
      "image/png": "[encoded data removed]",
      "text/plain": [
       "<Figure size 800x400 with 1 Axes>"
      ]
     },
     "metadata": {},
     "output_type": "display_data"
    }
   ],
   "source": [
    "# Let's compute baseline using QuTiP\n",
    "import qutip as qp\n",
    "\n",
    "psi_0 = qp.basis(2, 0)\n",
    "times = np.linspace(0, 3, 100)\n",
    "baseline = qp.mesolve(qp.Qobj(qp.Qobj(H)), psi_0, times, e_ops=[qp.sigmaz()]).expect[0]\n",
    "# Define sigma_z for manual computation of expected values\n",
    "SZ = np.array([[1, 0], [0, -1]])\n",
    "\n",
    "# decode_sample returns flat vector, we use reshape to form an 6x2 array of states\n",
    "#exact_vec = problem.interpret_sample(exact_result.first.sample)\n",
    "\n",
    "# Difference d.: We use complex conjugation to compute expected values. For this example it shouldn't matter though.\n",
    "# Then, for the expectation values we take only the real part, because otherwise matplotlib would complain.\n",
    "#print(exact_vec)\n",
    "exact_expect = [(state.conj() @ SZ @ state).real for state in my_vect]\n",
    "from matplotlib import pyplot as plt\n",
    "\n",
    "fig, axis = plt.subplots(figsize=(8, 4))\n",
    "\n",
    "axis.plot(times, baseline, \"k--\", label=\"QuTiP (baseline)\")\n",
    "\n",
    "axis.scatter(problem.times, exact_expect, marker=\"^\", lw=2, s=300, edgecolors=\"b\", facecolors=\"none\", label=\"Exact solver\")\n",
    "\n",
    "axis.set_ylabel(r\"$\\langle \\sigma_z \\rangle$\")\n",
    "axis.set_xlabel(\"$t$\")\n",
    "axis.legend()\n",
    "axis.set_ylim(-1,1)\n",
    "plt.show()"
   ]
  },
  {
   "cell_type": "code",
   "execution_count": null,
   "id": "f5d4e711",
   "metadata": {},
   "outputs": [
    {
     "data": {
      "text/plain": [
       "<matplotlib.legend.Legend at 0x7289bfe4ffd0>"
      ]
     },
     "execution_count": 13,
     "metadata": {},
     "output_type": "execute_result"
    },
    {
     "data": {
      "image/png": "[encoded data removed]",
      "text/plain": [
       "<Figure size 800x400 with 1 Axes>"
      ]
     },
     "metadata": {},
     "output_type": "display_data"
    }
   ],
   "source": [
    "\n",
    "\n",
    "from matplotlib import pyplot as plt\n",
    "\n",
    "fig, axis = plt.subplots(figsize=(8, 4))\n",
    "\n",
    "axis.plot(times, baseline, \"k--\", label=\"QuTiP (baseline)\")\n",
    "\n",
    "axis.scatter(problem.times, exact_expect, marker=\"^\", lw=2, s=300, edgecolors=\"b\", facecolors=\"none\", label=\"Exact solver\")\n",
    "#axis.scatter(problem.times, sa_expect, marker=\"o\", lw=2, s=100, edgecolors=\"r\", facecolors=\"none\", label=\"SA sampler\")\n",
    "#axis.scatter(problem.times, dw_expect, marker=\"s\", lw=2, s=200, edgecolors=\"g\", facecolors=\"none\", label=\"D-Wave sampler\")\n",
    "plt.title(\"Random Hamiltonian dynamics\")\n",
    "axis.set_ylabel(r\"$\\langle \\sigma_z \\rangle$\")\n",
    "axis.set_xlabel(\"$t$\")\n",
    "axis.legend()\n",
    "\n",
    "#"
   ]
  },
  {
   "cell_type": "markdown",
   "id": "4d408957",
   "metadata": {},
   "source": [
    "# Instances"
   ]
  },
  {
   "cell_type": "code",
   "execution_count": null,
   "id": "baa39b80",
   "metadata": {},
   "outputs": [],
   "source": [
    "# 1. Pauli-Z\n",
    "H1 = np.array([\n",
    "    [1, 0],\n",
    "    [0, -1]\n",
    "])\n",
    "\n",
    "# 1/math.sqrt(2)(X+Z)\n",
    "H2 = 1/math.sqrt(2)*np.matrix([\n",
    "    [1, 1],\n",
    "    [1, -1]\n",
    "])\n",
    "\n",
    "# 3. Cyclic permutation \n",
    "H3 = np.array([\n",
    "    [0, 1, 0],\n",
    "    [0, 0, 1],\n",
    "    [1, 0, 0]\n",
    "])  # !! not Hermitian !!\n",
    "\n",
    "# iY\n",
    "H4 = 1j * np.array([\n",
    "    [0, -1],\n",
    "    [1,  0]\n",
    "])  \n",
    "\n",
    "# 5.entangling on 2 qubits\n",
    "H5 = 0.5 * np.array([\n",
    "    [1, 1, 1, -1],\n",
    "    [1, 1, -1, 1],\n",
    "    [1, -1, 1, 1],\n",
    "    [-1, 1, 1, 1]\n",
    "]) "
   ]
  },
  {
   "cell_type": "code",
   "execution_count": null,
   "id": "4a1c2660",
   "metadata": {},
   "outputs": [
    {
     "data": {
      "text/plain": [
       "matrix([[ 1.00000000e+00, -2.23711432e-17],\n",
       "        [-2.23711432e-17,  1.00000000e+00]])"
      ]
     },
     "execution_count": 56,
     "metadata": {},
     "output_type": "execute_result"
    }
   ],
   "source": [
    "H2@H2"
   ]
  },
  {
   "cell_type": "markdown",
   "id": "f3af73e5",
   "metadata": {},
   "source": [
    "# Try out hermitian unitary matrices"
   ]
  },
  {
   "cell_type": "markdown",
   "id": "5aaa66c4",
   "metadata": {},
   "source": [
    "$$\n",
    "  e^{iM\\Theta} = I\\cos\\Theta+iM\\sin\\Theta \\text{ if } M^2=I\n",
    "$$\n",
    "### Pauli / Significant"
   ]
  },
  {
   "cell_type": "code",
   "execution_count": null,
   "id": "2e1aa089",
   "metadata": {},
   "outputs": [
    {
     "name": "stdout",
     "output_type": "stream",
     "text": [
      "array([[ 1.57079633,  1.57079633,  1.57079633, -1.57079633],\n",
      "       [ 1.57079633,  1.57079633, -1.57079633,  1.57079633],\n",
      "       [ 1.57079633, -1.57079633,  1.57079633,  1.57079633],\n",
      "       [-1.57079633,  1.57079633,  1.57079633,  1.57079633]])\n",
      "[[-1.00000000e+00-1.11022302e-16j -1.54074396e-32-1.11022302e-16j\n",
      "   2.77555756e-17+4.16333634e-17j  8.32667268e-17-1.52655666e-16j]\n",
      " [-2.77555756e-16-2.08166817e-16j -1.00000000e+00-1.80411242e-16j\n",
      "   2.77555756e-17-5.55111512e-17j  8.32667268e-17+1.66533454e-16j]\n",
      " [-2.31111593e-32+8.32667268e-17j  1.11022302e-16+2.77555756e-17j\n",
      "  -1.00000000e+00+1.52655666e-16j  2.77555756e-17+2.91433544e-16j]\n",
      " [-8.32667268e-17-2.08166817e-16j  2.08000434e-32+1.52655666e-16j\n",
      "  -2.77555756e-17+2.49800181e-16j -1.00000000e+00+4.16333634e-16j]]\n"
     ]
    }
   ],
   "source": [
    "import scipy.linalg\n",
    "\n",
    "\n",
    "ox = np.array([[0, 1],[1,0]])\n",
    "oz = np.array([[1,0],[0,-1]])\n",
    "s_gate = np.array([[1,0],[0,1.0j]])\n",
    "# rotation matrix\n",
    "def rot(alpha):\n",
    "    return np.array([[math.cos(alpha), -math.sin(alpha)*1.0j],[math.sin(alpha)*1.0j, math.cos(alpha)]])\n",
    "\n",
    "hadamard = 1/math.sqrt(2) * np.array([[1,1],[1,-1]])\n",
    "\n",
    "# entangled qubits\n",
    "H = np.pi * (1/2) * np.array([\n",
    "    [1, 1, 1, -1],\n",
    "    [1, 1, -1, 1],\n",
    "    [1, -1, 1, 1],\n",
    "    [-1, 1, 1, 1]\n",
    "])\n",
    "pprint.pprint(H)\n",
    "\n",
    "PSI0 = np.array([1,0,0,0], dtype=np.complex128)  \n",
    "print(sp.linalg.expm(1.0j * H))"
   ]
  },
  {
   "cell_type": "code",
   "execution_count": 11,
   "id": "e7341c53",
   "metadata": {},
   "outputs": [
    {
     "name": "stdout",
     "output_type": "stream",
     "text": [
      "[[0.        +1.57079633j 3.51240737+0.j        ]\n",
      " [3.51240737+0.j         0.        -1.57079633j]]\n",
      "----- Eigenvalues ------\n",
      "----- Eigenvectors ------\n",
      "--------------\n",
      "True\n"
     ]
    },
    {
     "data": {
      "text/plain": [
       "array([[-1.+0.00000000e+00j,  0.-6.57201340e-16j],\n",
       "       [ 0.-6.66133815e-16j, -1.+0.00000000e+00j]])"
      ]
     },
     "execution_count": 11,
     "metadata": {},
     "output_type": "execute_result"
    }
   ],
   "source": [
    "PSI0= np.array([1,0],dtype=complex)\n",
    "PT1 =np.pi*helpers.generate_pt_symmetric_real_eig(0.5)\n",
    "print(PT1)\n",
    "print(\"----- Eigenvalues ------\")\n",
    "print(\"----- Eigenvectors ------\")\n",
    "print(\"--------------\")\n",
    "print(helpers.is_ptsymmetric(PT1))\n",
    "sp.linalg.expm(PT1*1.0j)"
   ]
  },
  {
   "cell_type": "code",
   "execution_count": null,
   "id": "406b182e",
   "metadata": {},
   "outputs": [
    {
     "data": {
      "text/plain": [
       "array([[-1.+0.00000000e+00j,  0.+0.00000000e+00j,  0.+0.00000000e+00j,\n",
       "         0.+1.52695104e-16j],\n",
       "       [ 0.+0.00000000e+00j,  1.+0.00000000e+00j,  0.+0.00000000e+00j,\n",
       "         0.+0.00000000e+00j],\n",
       "       [ 0.+0.00000000e+00j,  0.+0.00000000e+00j,  1.+0.00000000e+00j,\n",
       "         0.+0.00000000e+00j],\n",
       "       [ 0.+1.52695104e-16j,  0.+0.00000000e+00j,  0.+0.00000000e+00j,\n",
       "        -1.+0.00000000e+00j]])"
      ]
     },
     "execution_count": 15,
     "metadata": {},
     "output_type": "execute_result"
    }
   ],
   "source": [
    "PSI0_2 = np.array([1,0,0,0],dtype=np.complex128)\n",
    "AB = helpers.create_entangled_hamiltonian(2)\n",
    "sp.linalg.expm(AB*1.0j*2*np.pi/1*0.5)"
   ]
  },
  {
   "cell_type": "code",
   "execution_count": null,
   "id": "a6103b94",
   "metadata": {},
   "outputs": [
    {
     "name": "stdout",
     "output_type": "stream",
     "text": [
      "[[ 0.+0.j -0.-1.j]\n",
      " [ 0.+1.j  0.+0.j]]\n",
      "[1.+0.j 0.+0.j]\n",
      "---------\n",
      "array([[ 0.54030231+0.j, -0.84147098+0.j],\n",
      "       [ 0.84147098+0.j,  0.54030231+0.j]])\n",
      "------\n",
      "24\n"
     ]
    },
    {
     "data": {
      "text/plain": [
       "np.float64(0.053511449032142444)"
      ]
     },
     "execution_count": 37,
     "metadata": {},
     "output_type": "execute_result"
    }
   ],
   "source": [
    "H = np.array([[0,-1.0j],[1.0j,0]])\n",
    "print(H)\n",
    "problem = ComplexDynamicsProblem(\n",
    "    hamiltonian=H,      \n",
    "    initial_state = PSI0,              \n",
    "    times=tuple(range(2)),             \n",
    "    num_bits_per_var=3\n",
    "    )               \n",
    "\n",
    "print(PSI0)                                        \n",
    "qubo = problem.qubo(objective=Objective.norm) \n",
    "print(qubo.num_variables)\n",
    "exact_solver = ExactSolver()            \n",
    "exact_result = exact_solver.sample(qubo)      \n",
    "exact_result.first.energy "
   ]
  },
  {
   "cell_type": "code",
   "execution_count": null,
   "id": "36a25e75",
   "metadata": {},
   "outputs": [
    {
     "data": {
      "text/plain": [
       "np.float64(0.9968251784521964)"
      ]
     },
     "execution_count": 29,
     "metadata": {},
     "output_type": "execute_result"
    }
   ],
   "source": [
    "from dwave_networkx.generators.pegasus import (get_tuple_defragmentation_fn, fragmented_edges,\n",
    "    pegasus_coordinates, pegasus_graph)\n",
    "from dwave.system import DWaveSampler, EmbeddingComposite\n",
    "\n",
    "\n",
    "# The graph fo the problem is pretty dense, we use automatic embedding to mitigate the incompatibility with actual machine\n",
    "dw_sampler = EmbeddingComposite(DWaveSampler(solver={'topology__type': 'pegasus'}))\n",
    "\n",
    "\n",
    "#dw_result = dw_sampler.sample(qubo, num_reads=1000, annealing_time=200)\n",
    "\n",
    "dw_result.first.energy"
   ]
  },
  {
   "cell_type": "code",
   "execution_count": null,
   "id": "eb124b11",
   "metadata": {},
   "outputs": [
    {
     "name": "stdout",
     "output_type": "stream",
     "text": [
      "16\n"
     ]
    },
    {
     "data": {
      "text/plain": [
       "np.float64(-5.329070518200751e-15)"
      ]
     },
     "execution_count": 11,
     "metadata": {},
     "output_type": "execute_result"
    }
   ],
   "source": [
    "print(qubo.num_variables)\n",
    "exact_solver = ExactSolver()            \n",
    "exact_result = exact_solver.sample(qubo)      \n",
    "exact_result.first.energy "
   ]
  },
  {
   "cell_type": "markdown",
   "id": "8ce68dba",
   "metadata": {},
   "source": [
    "# Compare with qutip"
   ]
  },
  {
   "cell_type": "code",
   "execution_count": 17,
   "id": "5fc928e2",
   "metadata": {},
   "outputs": [
    {
     "name": "stdout",
     "output_type": "stream",
     "text": [
      "-------\n",
      "np.pi*helpers.generate_pt_symmetric_real_eig(0.5)\n",
      "---------\n",
      "---------\n",
      "array([[1.06066017+0.j        , 0.        -0.79056942j],\n",
      "       [0.        -0.79056942j, 0.35355339+0.j        ]])\n",
      "------\n",
      "0.9631156414622319\n",
      "[np.float64(1.0), np.float64(0.0)]\n"
     ]
    },
    {
     "data": {
      "image/png": "[encoded data removed]",
      "text/plain": [
       "<Figure size 800x400 with 1 Axes>"
      ]
     },
     "metadata": {},
     "output_type": "display_data"
    }
   ],
   "source": [
    "# Let's compute baseline using QuTiP\n",
    "import qutip as qp\n",
    "\n",
    "instance = 7\n",
    "#PSI0_2 = np.array([1,0,0,0],dtype=np.complex128)\n",
    "instance_dict = helpers.get_instance(instance)\n",
    "H = 1/4*instance_dict['H']\n",
    "PSI0 = instance_dict['psi0']\n",
    "\n",
    "problem = ComplexDynamicsProblem(\n",
    "    hamiltonian=H,      \n",
    "    initial_state = PSI0,              \n",
    "    times=tuple(range(2)),             \n",
    "    num_bits_per_var=2\n",
    "    )               \n",
    "\n",
    "qubo = problem.qubo()\n",
    "\n",
    "exact_solver = ExactSolver()            \n",
    "exact_result = exact_solver.sample(qubo)      \n",
    "print(exact_result.first.energy)\n",
    "\n",
    "psi_0 = qp.basis(2, 0)\n",
    "\n",
    "times = np.linspace(0, 3, 100)\n",
    "baseline = qp.mesolve(qp.Qobj(H), psi_0, times, e_ops=[qp.sigmaz()]).expect[0]\n",
    "# Define sigma_z for manual computation of expected values\n",
    "SZ = np.array([[1, 0], [0, -1]])\n",
    "\n",
    "# decode_sample returns flat vector, we use reshape to form an 6x2 array of states\n",
    "exact_vec = problem.interpret_sample(exact_result.first.sample)\n",
    "\n",
    "# Difference d.: We use complex conjugation to compute expected values. For this example it shouldn't matter though.\n",
    "# Then, for the expectation values we take only the real part, because otherwise matplotlib would complain.\n",
    "exact_expect = [(state.conj() @ SZ @ state).real for state in exact_vec]\n",
    "from matplotlib import pyplot as plt\n",
    "print(exact_expect)\n",
    "\n",
    "fig, axis = plt.subplots(figsize=(8, 4))\n",
    "\n",
    "axis.plot(times, baseline, \"k--\", label=\"QuTiP (baseline)\")\n",
    "\n",
    "axis.scatter(problem.times, exact_expect, marker=\"^\", lw=2, s=300, edgecolors=\"b\", facecolors=\"none\", label=\"Exact solver\")\n",
    "\n",
    "axis.set_ylabel(r\"$\\langle \\sigma_z \\rangle$\")\n",
    "axis.set_xlabel(\"$t$\")\n",
    "axis.legend()\n",
    "plt.show()"
   ]
  },
  {
   "cell_type": "code",
   "execution_count": null,
   "id": "5f482c6b",
   "metadata": {},
   "outputs": [],
   "source": []
  }
 ],
 "metadata": {
  "kernelspec": {
   "display_name": ".venv",
   "language": "python",
   "name": "python3"
  },
  "language_info": {
   "codemirror_mode": {
    "name": "ipython",
    "version": 3
   },
   "file_extension": ".py",
   "mimetype": "text/x-python",
   "name": "python",
   "nbconvert_exporter": "python",
   "pygments_lexer": "ipython3",
   "version": "3.11.0rc1"
  }
 },
 "nbformat": 4,
 "nbformat_minor": 5
}
