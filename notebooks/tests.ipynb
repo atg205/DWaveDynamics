{
 "cells": [
  {
   "cell_type": "markdown",
   "metadata": {},
   "source": [
    "# Tests"
   ]
  },
  {
   "cell_type": "code",
   "execution_count": 2,
   "metadata": {},
   "outputs": [],
   "source": [
    "import numpy as np\n",
    "import networkx as nx\n",
    "from dwdynamics import ComplexDynamicsProblem, Objective # Difference a. We are using ComplexDynamicsProblem\n",
    "import dimod\n",
    "import matplotlib.pyplot as plt\n",
    "import json\n",
    "import os\n",
    "import minorminer\n",
    "from dwave_networkx.generators.pegasus import (get_tuple_defragmentation_fn, fragmented_edges,\n",
    "    pegasus_coordinates, pegasus_graph)\n",
    "from dwave.system import DWaveSampler, EmbeddingComposite\n",
    "import matplotlib.pyplot as plt"
   ]
  },
  {
   "cell_type": "code",
   "execution_count": 3,
   "metadata": {},
   "outputs": [],
   "source": [
    "def get_sampleset(topology, precision, simplify = True):\n",
    "    # We simulate evolution under the Hamiltonian 1/2 pi * Sigma_y...\n",
    "    SY = np.array([[0, -1.0j], [1.0j, 0.0]])\n",
    "    PSI0 = np.array([1, 0], dtype=np.complex128)  # Difference b. Initial state can now be complex.\n",
    "\n",
    "    # The problem object encapsulates all the data so you don't have to pass them around\n",
    "    problem = ComplexDynamicsProblem(\n",
    "        hamiltonian=0.5 * np.pi * SY,      # Evolution under hamiltonian 0.5 * np.pi * sigma_y\n",
    "        initial_state = PSI0,              # Starting at initial state |0>,\n",
    "        times=tuple(range(3)),             # With six time points 0,1,2\n",
    "        num_bits_per_var=precision                # And two bits of precision per variable\n",
    "    )\n",
    "    qubo = problem.qubo(objective=Objective.norm)  # Other choice would be to use Objective.hessian\n",
    "    num_int = qubo.num_interactions + 1\n",
    "\n",
    "    if simplify:\n",
    "        while (num_int > qubo.num_interactions):\n",
    "            num_int = qubo.num_interactions\n",
    "            for key,value in qubo.quadratic.items():\n",
    "                if value == 0:\n",
    "                    qubo.remove_interaction(key[0],key[1])\n",
    "\n",
    "            \n",
    "    assert qubo.num_variables == problem.hamiltonian.shape[0] * len(problem.times) * problem.num_bits_per_var * 2\n",
    "\n",
    "\n",
    "\n",
    "    DW_TOKEN = os.getenv(\"DW_TOKEN\")  # <- Place your token here, or use DW_TOKEN env variable, or configure D-Wave libraries to use config file\n",
    "\n",
    "\n",
    "    # The graph fo the problem is pretty dense, we use automatic embedding to mitigate the incompatibility with actual machine\n",
    "    dw_sampler = EmbeddingComposite(DWaveSampler(solver={'topology__type': topology}))\n",
    "\n",
    "\n",
    "    dw_result = dw_sampler.sample(qubo, num_reads=1000, annealing_time=200)\n",
    "\n",
    "    dw_result.first.energy\n",
    "    return dw_result\n",
    "\n"
   ]
  },
  {
   "cell_type": "code",
   "execution_count": 4,
   "metadata": {},
   "outputs": [],
   "source": [
    "for i in range(0,5):\n",
    "    topology = 'pegasus'\n",
    "    for precision in [2]:\n",
    "\n",
    "        dw_result = get_sampleset(topology, precision,simplify=False)\n",
    "        file_name = f\"../data/basic/{topology}_{precision}_{i}.json\"\n",
    "        with open(file_name,'w') as f:\n",
    "            json.dump(dw_result.to_serializable(),f)"
   ]
  },
  {
   "cell_type": "markdown",
   "metadata": {},
   "source": [
    "# Analyze"
   ]
  },
  {
   "cell_type": "code",
   "execution_count": 5,
   "metadata": {},
   "outputs": [],
   "source": [
    "import os\n",
    "import re\n",
    "import pandas as pd\n",
    "files = os.listdir('../data')"
   ]
  },
  {
   "cell_type": "code",
   "execution_count": 6,
   "metadata": {},
   "outputs": [],
   "source": [
    "import dimod.sampleset\n",
    "\n",
    "dfs = []\n",
    "\n",
    "for topology in ['pegasus', 'zephyr']:\n",
    "    for i in range(2,5):\n",
    "        regex = re.compile(rf'{topology}_{i}_')\n",
    "\n",
    "        precision_files = ([file for file in files if regex.search(file)])\n",
    "        samplesets = [dimod.SampleSet.from_serializable(json.load(open(f'../data/{f}','r'))) for f in precision_files]\n",
    "        samplesets = [s.to_pandas_dataframe()[['energy','num_occurrences']] for s in samplesets]\n",
    "        s = pd.concat(samplesets)\n",
    "        s['topology'] = topology\n",
    "        s['precision'] = i\n",
    "        s['energy'] = round(s['energy']+ 0.49)\n",
    "        dfs.append(s)\n",
    "\n",
    "\n",
    "dfs_all = pd.concat(dfs)"
   ]
  },
  {
   "cell_type": "code",
   "execution_count": 7,
   "metadata": {},
   "outputs": [
    {
     "data": {
      "application/vnd.microsoft.datawrangler.viewer.v0+json": {
       "columns": [
        {
         "name": "index",
         "rawType": "int64",
         "type": "integer"
        },
        {
         "name": "energy",
         "rawType": "float64",
         "type": "float"
        },
        {
         "name": "num_occurrences",
         "rawType": "int64",
         "type": "integer"
        }
       ],
       "conversionMethod": "pd.DataFrame",
       "ref": "aab5d969-2e64-4a90-b610-455b19d8fc4f",
       "rows": [
        [
         "0",
         "1.0",
         "3"
        ],
        [
         "1",
         "2.0",
         "72"
        ],
        [
         "2",
         "3.0",
         "222"
        ],
        [
         "3",
         "4.0",
         "388"
        ],
        [
         "4",
         "5.0",
         "530"
        ],
        [
         "5",
         "6.0",
         "555"
        ],
        [
         "6",
         "7.0",
         "512"
        ],
        [
         "7",
         "8.0",
         "464"
        ],
        [
         "8",
         "9.0",
         "367"
        ],
        [
         "9",
         "10.0",
         "303"
        ],
        [
         "10",
         "11.0",
         "235"
        ],
        [
         "11",
         "12.0",
         "174"
        ],
        [
         "12",
         "13.0",
         "153"
        ],
        [
         "13",
         "14.0",
         "130"
        ],
        [
         "14",
         "15.0",
         "89"
        ],
        [
         "15",
         "16.0",
         "81"
        ],
        [
         "16",
         "17.0",
         "77"
        ],
        [
         "17",
         "18.0",
         "74"
        ],
        [
         "18",
         "19.0",
         "57"
        ],
        [
         "19",
         "20.0",
         "63"
        ],
        [
         "20",
         "21.0",
         "60"
        ],
        [
         "21",
         "22.0",
         "51"
        ],
        [
         "22",
         "23.0",
         "51"
        ],
        [
         "23",
         "24.0",
         "35"
        ],
        [
         "24",
         "25.0",
         "49"
        ],
        [
         "25",
         "26.0",
         "29"
        ],
        [
         "26",
         "27.0",
         "25"
        ],
        [
         "27",
         "28.0",
         "29"
        ],
        [
         "28",
         "29.0",
         "15"
        ],
        [
         "29",
         "30.0",
         "18"
        ],
        [
         "30",
         "31.0",
         "12"
        ],
        [
         "31",
         "32.0",
         "11"
        ],
        [
         "32",
         "33.0",
         "9"
        ],
        [
         "33",
         "34.0",
         "9"
        ],
        [
         "34",
         "35.0",
         "10"
        ],
        [
         "35",
         "36.0",
         "6"
        ],
        [
         "36",
         "37.0",
         "9"
        ],
        [
         "37",
         "38.0",
         "5"
        ],
        [
         "38",
         "39.0",
         "3"
        ],
        [
         "39",
         "40.0",
         "5"
        ],
        [
         "40",
         "41.0",
         "3"
        ],
        [
         "41",
         "43.0",
         "1"
        ],
        [
         "42",
         "44.0",
         "3"
        ],
        [
         "43",
         "45.0",
         "1"
        ],
        [
         "44",
         "47.0",
         "1"
        ],
        [
         "45",
         "48.0",
         "1"
        ]
       ],
       "shape": {
        "columns": 2,
        "rows": 46
       }
      },
      "text/html": [
       "<div>\n",
       "<style scoped>\n",
       "    .dataframe tbody tr th:only-of-type {\n",
       "        vertical-align: middle;\n",
       "    }\n",
       "\n",
       "    .dataframe tbody tr th {\n",
       "        vertical-align: top;\n",
       "    }\n",
       "\n",
       "    .dataframe thead th {\n",
       "        text-align: right;\n",
       "    }\n",
       "</style>\n",
       "<table border=\"1\" class=\"dataframe\">\n",
       "  <thead>\n",
       "    <tr style=\"text-align: right;\">\n",
       "      <th></th>\n",
       "      <th>energy</th>\n",
       "      <th>num_occurrences</th>\n",
       "    </tr>\n",
       "  </thead>\n",
       "  <tbody>\n",
       "    <tr>\n",
       "      <th>0</th>\n",
       "      <td>1.0</td>\n",
       "      <td>3</td>\n",
       "    </tr>\n",
       "    <tr>\n",
       "      <th>1</th>\n",
       "      <td>2.0</td>\n",
       "      <td>72</td>\n",
       "    </tr>\n",
       "    <tr>\n",
       "      <th>2</th>\n",
       "      <td>3.0</td>\n",
       "      <td>222</td>\n",
       "    </tr>\n",
       "    <tr>\n",
       "      <th>3</th>\n",
       "      <td>4.0</td>\n",
       "      <td>388</td>\n",
       "    </tr>\n",
       "    <tr>\n",
       "      <th>4</th>\n",
       "      <td>5.0</td>\n",
       "      <td>530</td>\n",
       "    </tr>\n",
       "    <tr>\n",
       "      <th>5</th>\n",
       "      <td>6.0</td>\n",
       "      <td>555</td>\n",
       "    </tr>\n",
       "    <tr>\n",
       "      <th>6</th>\n",
       "      <td>7.0</td>\n",
       "      <td>512</td>\n",
       "    </tr>\n",
       "    <tr>\n",
       "      <th>7</th>\n",
       "      <td>8.0</td>\n",
       "      <td>464</td>\n",
       "    </tr>\n",
       "    <tr>\n",
       "      <th>8</th>\n",
       "      <td>9.0</td>\n",
       "      <td>367</td>\n",
       "    </tr>\n",
       "    <tr>\n",
       "      <th>9</th>\n",
       "      <td>10.0</td>\n",
       "      <td>303</td>\n",
       "    </tr>\n",
       "    <tr>\n",
       "      <th>10</th>\n",
       "      <td>11.0</td>\n",
       "      <td>235</td>\n",
       "    </tr>\n",
       "    <tr>\n",
       "      <th>11</th>\n",
       "      <td>12.0</td>\n",
       "      <td>174</td>\n",
       "    </tr>\n",
       "    <tr>\n",
       "      <th>12</th>\n",
       "      <td>13.0</td>\n",
       "      <td>153</td>\n",
       "    </tr>\n",
       "    <tr>\n",
       "      <th>13</th>\n",
       "      <td>14.0</td>\n",
       "      <td>130</td>\n",
       "    </tr>\n",
       "    <tr>\n",
       "      <th>14</th>\n",
       "      <td>15.0</td>\n",
       "      <td>89</td>\n",
       "    </tr>\n",
       "    <tr>\n",
       "      <th>15</th>\n",
       "      <td>16.0</td>\n",
       "      <td>81</td>\n",
       "    </tr>\n",
       "    <tr>\n",
       "      <th>16</th>\n",
       "      <td>17.0</td>\n",
       "      <td>77</td>\n",
       "    </tr>\n",
       "    <tr>\n",
       "      <th>17</th>\n",
       "      <td>18.0</td>\n",
       "      <td>74</td>\n",
       "    </tr>\n",
       "    <tr>\n",
       "      <th>18</th>\n",
       "      <td>19.0</td>\n",
       "      <td>57</td>\n",
       "    </tr>\n",
       "    <tr>\n",
       "      <th>19</th>\n",
       "      <td>20.0</td>\n",
       "      <td>63</td>\n",
       "    </tr>\n",
       "    <tr>\n",
       "      <th>20</th>\n",
       "      <td>21.0</td>\n",
       "      <td>60</td>\n",
       "    </tr>\n",
       "    <tr>\n",
       "      <th>21</th>\n",
       "      <td>22.0</td>\n",
       "      <td>51</td>\n",
       "    </tr>\n",
       "    <tr>\n",
       "      <th>22</th>\n",
       "      <td>23.0</td>\n",
       "      <td>51</td>\n",
       "    </tr>\n",
       "    <tr>\n",
       "      <th>23</th>\n",
       "      <td>24.0</td>\n",
       "      <td>35</td>\n",
       "    </tr>\n",
       "    <tr>\n",
       "      <th>24</th>\n",
       "      <td>25.0</td>\n",
       "      <td>49</td>\n",
       "    </tr>\n",
       "    <tr>\n",
       "      <th>25</th>\n",
       "      <td>26.0</td>\n",
       "      <td>29</td>\n",
       "    </tr>\n",
       "    <tr>\n",
       "      <th>26</th>\n",
       "      <td>27.0</td>\n",
       "      <td>25</td>\n",
       "    </tr>\n",
       "    <tr>\n",
       "      <th>27</th>\n",
       "      <td>28.0</td>\n",
       "      <td>29</td>\n",
       "    </tr>\n",
       "    <tr>\n",
       "      <th>28</th>\n",
       "      <td>29.0</td>\n",
       "      <td>15</td>\n",
       "    </tr>\n",
       "    <tr>\n",
       "      <th>29</th>\n",
       "      <td>30.0</td>\n",
       "      <td>18</td>\n",
       "    </tr>\n",
       "    <tr>\n",
       "      <th>30</th>\n",
       "      <td>31.0</td>\n",
       "      <td>12</td>\n",
       "    </tr>\n",
       "    <tr>\n",
       "      <th>31</th>\n",
       "      <td>32.0</td>\n",
       "      <td>11</td>\n",
       "    </tr>\n",
       "    <tr>\n",
       "      <th>32</th>\n",
       "      <td>33.0</td>\n",
       "      <td>9</td>\n",
       "    </tr>\n",
       "    <tr>\n",
       "      <th>33</th>\n",
       "      <td>34.0</td>\n",
       "      <td>9</td>\n",
       "    </tr>\n",
       "    <tr>\n",
       "      <th>34</th>\n",
       "      <td>35.0</td>\n",
       "      <td>10</td>\n",
       "    </tr>\n",
       "    <tr>\n",
       "      <th>35</th>\n",
       "      <td>36.0</td>\n",
       "      <td>6</td>\n",
       "    </tr>\n",
       "    <tr>\n",
       "      <th>36</th>\n",
       "      <td>37.0</td>\n",
       "      <td>9</td>\n",
       "    </tr>\n",
       "    <tr>\n",
       "      <th>37</th>\n",
       "      <td>38.0</td>\n",
       "      <td>5</td>\n",
       "    </tr>\n",
       "    <tr>\n",
       "      <th>38</th>\n",
       "      <td>39.0</td>\n",
       "      <td>3</td>\n",
       "    </tr>\n",
       "    <tr>\n",
       "      <th>39</th>\n",
       "      <td>40.0</td>\n",
       "      <td>5</td>\n",
       "    </tr>\n",
       "    <tr>\n",
       "      <th>40</th>\n",
       "      <td>41.0</td>\n",
       "      <td>3</td>\n",
       "    </tr>\n",
       "    <tr>\n",
       "      <th>41</th>\n",
       "      <td>43.0</td>\n",
       "      <td>1</td>\n",
       "    </tr>\n",
       "    <tr>\n",
       "      <th>42</th>\n",
       "      <td>44.0</td>\n",
       "      <td>3</td>\n",
       "    </tr>\n",
       "    <tr>\n",
       "      <th>43</th>\n",
       "      <td>45.0</td>\n",
       "      <td>1</td>\n",
       "    </tr>\n",
       "    <tr>\n",
       "      <th>44</th>\n",
       "      <td>47.0</td>\n",
       "      <td>1</td>\n",
       "    </tr>\n",
       "    <tr>\n",
       "      <th>45</th>\n",
       "      <td>48.0</td>\n",
       "      <td>1</td>\n",
       "    </tr>\n",
       "  </tbody>\n",
       "</table>\n",
       "</div>"
      ],
      "text/plain": [
       "    energy  num_occurrences\n",
       "0      1.0                3\n",
       "1      2.0               72\n",
       "2      3.0              222\n",
       "3      4.0              388\n",
       "4      5.0              530\n",
       "5      6.0              555\n",
       "6      7.0              512\n",
       "7      8.0              464\n",
       "8      9.0              367\n",
       "9     10.0              303\n",
       "10    11.0              235\n",
       "11    12.0              174\n",
       "12    13.0              153\n",
       "13    14.0              130\n",
       "14    15.0               89\n",
       "15    16.0               81\n",
       "16    17.0               77\n",
       "17    18.0               74\n",
       "18    19.0               57\n",
       "19    20.0               63\n",
       "20    21.0               60\n",
       "21    22.0               51\n",
       "22    23.0               51\n",
       "23    24.0               35\n",
       "24    25.0               49\n",
       "25    26.0               29\n",
       "26    27.0               25\n",
       "27    28.0               29\n",
       "28    29.0               15\n",
       "29    30.0               18\n",
       "30    31.0               12\n",
       "31    32.0               11\n",
       "32    33.0                9\n",
       "33    34.0                9\n",
       "34    35.0               10\n",
       "35    36.0                6\n",
       "36    37.0                9\n",
       "37    38.0                5\n",
       "38    39.0                3\n",
       "39    40.0                5\n",
       "40    41.0                3\n",
       "41    43.0                1\n",
       "42    44.0                3\n",
       "43    45.0                1\n",
       "44    47.0                1\n",
       "45    48.0                1"
      ]
     },
     "execution_count": 7,
     "metadata": {},
     "output_type": "execute_result"
    }
   ],
   "source": [
    "dfs_grouped =dfs_all.groupby(['topology', 'precision','energy'])['num_occurrences'].sum()\n",
    "df = dfs_grouped['pegasus',4].reset_index()\n",
    "df"
   ]
  },
  {
   "cell_type": "code",
   "execution_count": 8,
   "metadata": {},
   "outputs": [
    {
     "data": {
      "text/plain": [
       "<matplotlib.legend.Legend at 0x7297e81942d0>"
      ]
     },
     "execution_count": 8,
     "metadata": {},
     "output_type": "execute_result"
    },
    {
     "data": {
      "image/png": "[encoded data removed]",
      "text/plain": [
       "<Figure size 640x480 with 1 Axes>"
      ]
     },
     "metadata": {},
     "output_type": "display_data"
    }
   ],
   "source": [
    "for p in [2,3,4]:\n",
    "    df = dfs_grouped['pegasus',p].reset_index()\n",
    "    plt.plot(df['energy'], df['num_occurrences'],label=f\"Precision {p}\")\n",
    "plt.legend()\n"
   ]
  },
  {
   "cell_type": "code",
   "execution_count": 9,
   "metadata": {},
   "outputs": [
    {
     "data": {
      "text/plain": [
       "<matplotlib.legend.Legend at 0x729803da3650>"
      ]
     },
     "execution_count": 9,
     "metadata": {},
     "output_type": "execute_result"
    },
    {
     "data": {
      "image/png": "[encoded data removed]",
      "text/plain": [
       "<Figure size 640x480 with 1 Axes>"
      ]
     },
     "metadata": {},
     "output_type": "display_data"
    }
   ],
   "source": [
    "for p in [2,3,4]:\n",
    "    df = dfs_grouped['zephyr',p].reset_index()\n",
    "    plt.plot(df['energy'], df['num_occurrences'],label=f\"Precision {p}\")\n",
    "plt.legend()\n"
   ]
  },
  {
   "cell_type": "code",
   "execution_count": 10,
   "metadata": {},
   "outputs": [
    {
     "data": {
      "text/plain": [
       "<matplotlib.legend.Legend at 0x7297c6b7d610>"
      ]
     },
     "execution_count": 10,
     "metadata": {},
     "output_type": "execute_result"
    },
    {
     "data": {
      "image/png": "[encoded data removed]",
      "text/plain": [
       "<Figure size 640x480 with 1 Axes>"
      ]
     },
     "metadata": {},
     "output_type": "display_data"
    }
   ],
   "source": [
    "for topology in ['pegasus','zephyr']:\n",
    "    df = dfs_grouped[topology,4].reset_index()\n",
    "    df = df[df['energy']<=20]\n",
    "    plt.plot(df['energy'],df['num_occurrences'],label=f\"{topology}\")\n",
    "plt.legend()"
   ]
  },
  {
   "cell_type": "markdown",
   "metadata": {},
   "source": [
    "# Simplification ?"
   ]
  },
  {
   "cell_type": "code",
   "execution_count": 11,
   "metadata": {},
   "outputs": [
    {
     "data": {
      "application/vnd.microsoft.datawrangler.viewer.v0+json": {
       "columns": [
        {
         "name": "index",
         "rawType": "int64",
         "type": "integer"
        },
        {
         "name": "energy",
         "rawType": "float64",
         "type": "float"
        },
        {
         "name": "num_occurrences",
         "rawType": "int64",
         "type": "integer"
        }
       ],
       "conversionMethod": "pd.DataFrame",
       "ref": "3629ec94-85ab-4d09-8cff-79936207082c",
       "rows": [
        [
         "0",
         "1.0",
         "1"
        ],
        [
         "1",
         "2.0",
         "1"
        ],
        [
         "2",
         "2.0",
         "1"
        ],
        [
         "3",
         "2.0",
         "1"
        ],
        [
         "4",
         "2.0",
         "1"
        ],
        [
         "5",
         "2.0",
         "1"
        ],
        [
         "6",
         "2.0",
         "1"
        ],
        [
         "7",
         "2.0",
         "1"
        ],
        [
         "8",
         "2.0",
         "1"
        ],
        [
         "9",
         "2.0",
         "1"
        ],
        [
         "10",
         "2.0",
         "1"
        ],
        [
         "11",
         "2.0",
         "1"
        ],
        [
         "12",
         "3.0",
         "1"
        ],
        [
         "13",
         "3.0",
         "1"
        ],
        [
         "14",
         "3.0",
         "1"
        ],
        [
         "15",
         "3.0",
         "1"
        ],
        [
         "16",
         "3.0",
         "1"
        ],
        [
         "17",
         "3.0",
         "1"
        ],
        [
         "18",
         "3.0",
         "1"
        ],
        [
         "19",
         "3.0",
         "1"
        ],
        [
         "20",
         "3.0",
         "1"
        ],
        [
         "21",
         "3.0",
         "1"
        ],
        [
         "22",
         "3.0",
         "1"
        ],
        [
         "23",
         "3.0",
         "1"
        ],
        [
         "24",
         "3.0",
         "1"
        ],
        [
         "25",
         "3.0",
         "1"
        ],
        [
         "26",
         "3.0",
         "1"
        ],
        [
         "27",
         "3.0",
         "1"
        ],
        [
         "28",
         "3.0",
         "1"
        ],
        [
         "29",
         "3.0",
         "2"
        ],
        [
         "30",
         "3.0",
         "1"
        ],
        [
         "31",
         "3.0",
         "2"
        ],
        [
         "32",
         "3.0",
         "1"
        ],
        [
         "33",
         "3.0",
         "1"
        ],
        [
         "34",
         "4.0",
         "1"
        ],
        [
         "35",
         "4.0",
         "1"
        ],
        [
         "36",
         "4.0",
         "1"
        ],
        [
         "37",
         "4.0",
         "1"
        ],
        [
         "38",
         "4.0",
         "1"
        ],
        [
         "39",
         "4.0",
         "1"
        ],
        [
         "40",
         "4.0",
         "1"
        ],
        [
         "41",
         "4.0",
         "1"
        ],
        [
         "42",
         "4.0",
         "1"
        ],
        [
         "43",
         "4.0",
         "1"
        ],
        [
         "44",
         "4.0",
         "1"
        ],
        [
         "45",
         "4.0",
         "1"
        ],
        [
         "46",
         "4.0",
         "1"
        ],
        [
         "47",
         "4.0",
         "1"
        ],
        [
         "48",
         "4.0",
         "1"
        ],
        [
         "49",
         "4.0",
         "1"
        ]
       ],
       "shape": {
        "columns": 2,
        "rows": 4915
       }
      },
      "text/html": [
       "<div>\n",
       "<style scoped>\n",
       "    .dataframe tbody tr th:only-of-type {\n",
       "        vertical-align: middle;\n",
       "    }\n",
       "\n",
       "    .dataframe tbody tr th {\n",
       "        vertical-align: top;\n",
       "    }\n",
       "\n",
       "    .dataframe thead th {\n",
       "        text-align: right;\n",
       "    }\n",
       "</style>\n",
       "<table border=\"1\" class=\"dataframe\">\n",
       "  <thead>\n",
       "    <tr style=\"text-align: right;\">\n",
       "      <th></th>\n",
       "      <th>energy</th>\n",
       "      <th>num_occurrences</th>\n",
       "    </tr>\n",
       "  </thead>\n",
       "  <tbody>\n",
       "    <tr>\n",
       "      <th>0</th>\n",
       "      <td>1.0</td>\n",
       "      <td>1</td>\n",
       "    </tr>\n",
       "    <tr>\n",
       "      <th>1</th>\n",
       "      <td>2.0</td>\n",
       "      <td>1</td>\n",
       "    </tr>\n",
       "    <tr>\n",
       "      <th>2</th>\n",
       "      <td>2.0</td>\n",
       "      <td>1</td>\n",
       "    </tr>\n",
       "    <tr>\n",
       "      <th>3</th>\n",
       "      <td>2.0</td>\n",
       "      <td>1</td>\n",
       "    </tr>\n",
       "    <tr>\n",
       "      <th>4</th>\n",
       "      <td>2.0</td>\n",
       "      <td>1</td>\n",
       "    </tr>\n",
       "    <tr>\n",
       "      <th>...</th>\n",
       "      <td>...</td>\n",
       "      <td>...</td>\n",
       "    </tr>\n",
       "    <tr>\n",
       "      <th>971</th>\n",
       "      <td>25.0</td>\n",
       "      <td>1</td>\n",
       "    </tr>\n",
       "    <tr>\n",
       "      <th>972</th>\n",
       "      <td>23.0</td>\n",
       "      <td>1</td>\n",
       "    </tr>\n",
       "    <tr>\n",
       "      <th>973</th>\n",
       "      <td>9.0</td>\n",
       "      <td>1</td>\n",
       "    </tr>\n",
       "    <tr>\n",
       "      <th>974</th>\n",
       "      <td>10.0</td>\n",
       "      <td>1</td>\n",
       "    </tr>\n",
       "    <tr>\n",
       "      <th>975</th>\n",
       "      <td>13.0</td>\n",
       "      <td>1</td>\n",
       "    </tr>\n",
       "  </tbody>\n",
       "</table>\n",
       "<p>4915 rows × 2 columns</p>\n",
       "</div>"
      ],
      "text/plain": [
       "     energy  num_occurrences\n",
       "0       1.0                1\n",
       "1       2.0                1\n",
       "2       2.0                1\n",
       "3       2.0                1\n",
       "4       2.0                1\n",
       "..      ...              ...\n",
       "971    25.0                1\n",
       "972    23.0                1\n",
       "973     9.0                1\n",
       "974    10.0                1\n",
       "975    13.0                1\n",
       "\n",
       "[4915 rows x 2 columns]"
      ]
     },
     "execution_count": 11,
     "metadata": {},
     "output_type": "execute_result"
    }
   ],
   "source": [
    "for topology in ['pegasus']:\n",
    "    for i in [2]:\n",
    "        regex = re.compile(rf'{topology}_{i}_')\n",
    "\n",
    "        precision_files = ([file for file in files if regex.search(file)])\n",
    "        samplesets = [dimod.SampleSet.from_serializable(json.load(open(f'../data/basic/{f}','r'))) for f in precision_files]\n",
    "        samplesets = [s.to_pandas_dataframe()[['energy','num_occurrences']] for s in samplesets]\n",
    "        s = pd.concat(samplesets)\n",
    "        s['topology'] = topology\n",
    "        s['precision'] = i\n",
    "        s['energy'] = round(s['energy']+ 0.49)\n",
    "df_basic = s.copy()[['energy','num_occurrences']]\n",
    "df_basic"
   ]
  },
  {
   "cell_type": "code",
   "execution_count": 12,
   "metadata": {},
   "outputs": [
    {
     "data": {
      "application/vnd.microsoft.datawrangler.viewer.v0+json": {
       "columns": [
        {
         "name": "index",
         "rawType": "int64",
         "type": "integer"
        },
        {
         "name": "energy",
         "rawType": "float64",
         "type": "float"
        },
        {
         "name": "num_occurrences",
         "rawType": "int64",
         "type": "integer"
        }
       ],
       "conversionMethod": "pd.DataFrame",
       "ref": "c9931793-3eb1-4614-a3fb-649646fa79b3",
       "rows": [
        [
         "0",
         "0.0",
         "1"
        ],
        [
         "1",
         "1.0",
         "8"
        ],
        [
         "2",
         "2.0",
         "45"
        ],
        [
         "3",
         "3.0",
         "97"
        ],
        [
         "4",
         "4.0",
         "207"
        ],
        [
         "5",
         "5.0",
         "311"
        ],
        [
         "6",
         "6.0",
         "366"
        ],
        [
         "7",
         "7.0",
         "356"
        ],
        [
         "8",
         "8.0",
         "394"
        ],
        [
         "9",
         "9.0",
         "383"
        ],
        [
         "10",
         "10.0",
         "383"
        ],
        [
         "11",
         "11.0",
         "332"
        ],
        [
         "12",
         "12.0",
         "284"
        ],
        [
         "13",
         "13.0",
         "268"
        ],
        [
         "14",
         "14.0",
         "238"
        ],
        [
         "15",
         "15.0",
         "224"
        ],
        [
         "16",
         "16.0",
         "162"
        ],
        [
         "17",
         "17.0",
         "141"
        ],
        [
         "18",
         "18.0",
         "116"
        ],
        [
         "19",
         "19.0",
         "96"
        ],
        [
         "20",
         "20.0",
         "88"
        ],
        [
         "21",
         "21.0",
         "87"
        ],
        [
         "22",
         "22.0",
         "68"
        ],
        [
         "23",
         "23.0",
         "51"
        ],
        [
         "24",
         "24.0",
         "59"
        ],
        [
         "25",
         "25.0",
         "32"
        ],
        [
         "26",
         "26.0",
         "31"
        ],
        [
         "27",
         "27.0",
         "28"
        ],
        [
         "28",
         "28.0",
         "21"
        ],
        [
         "29",
         "29.0",
         "25"
        ],
        [
         "30",
         "30.0",
         "13"
        ],
        [
         "31",
         "31.0",
         "16"
        ],
        [
         "32",
         "32.0",
         "9"
        ],
        [
         "33",
         "33.0",
         "9"
        ],
        [
         "34",
         "34.0",
         "11"
        ],
        [
         "35",
         "35.0",
         "10"
        ],
        [
         "36",
         "36.0",
         "6"
        ],
        [
         "37",
         "37.0",
         "7"
        ],
        [
         "38",
         "38.0",
         "3"
        ],
        [
         "39",
         "39.0",
         "3"
        ],
        [
         "40",
         "40.0",
         "2"
        ],
        [
         "41",
         "42.0",
         "1"
        ],
        [
         "42",
         "43.0",
         "1"
        ],
        [
         "43",
         "45.0",
         "1"
        ],
        [
         "44",
         "48.0",
         "2"
        ],
        [
         "45",
         "49.0",
         "2"
        ],
        [
         "46",
         "51.0",
         "2"
        ]
       ],
       "shape": {
        "columns": 2,
        "rows": 47
       }
      },
      "text/html": [
       "<div>\n",
       "<style scoped>\n",
       "    .dataframe tbody tr th:only-of-type {\n",
       "        vertical-align: middle;\n",
       "    }\n",
       "\n",
       "    .dataframe tbody tr th {\n",
       "        vertical-align: top;\n",
       "    }\n",
       "\n",
       "    .dataframe thead th {\n",
       "        text-align: right;\n",
       "    }\n",
       "</style>\n",
       "<table border=\"1\" class=\"dataframe\">\n",
       "  <thead>\n",
       "    <tr style=\"text-align: right;\">\n",
       "      <th></th>\n",
       "      <th>energy</th>\n",
       "      <th>num_occurrences</th>\n",
       "    </tr>\n",
       "  </thead>\n",
       "  <tbody>\n",
       "    <tr>\n",
       "      <th>0</th>\n",
       "      <td>0.0</td>\n",
       "      <td>1</td>\n",
       "    </tr>\n",
       "    <tr>\n",
       "      <th>1</th>\n",
       "      <td>1.0</td>\n",
       "      <td>8</td>\n",
       "    </tr>\n",
       "    <tr>\n",
       "      <th>2</th>\n",
       "      <td>2.0</td>\n",
       "      <td>45</td>\n",
       "    </tr>\n",
       "    <tr>\n",
       "      <th>3</th>\n",
       "      <td>3.0</td>\n",
       "      <td>97</td>\n",
       "    </tr>\n",
       "    <tr>\n",
       "      <th>4</th>\n",
       "      <td>4.0</td>\n",
       "      <td>207</td>\n",
       "    </tr>\n",
       "    <tr>\n",
       "      <th>5</th>\n",
       "      <td>5.0</td>\n",
       "      <td>311</td>\n",
       "    </tr>\n",
       "    <tr>\n",
       "      <th>6</th>\n",
       "      <td>6.0</td>\n",
       "      <td>366</td>\n",
       "    </tr>\n",
       "    <tr>\n",
       "      <th>7</th>\n",
       "      <td>7.0</td>\n",
       "      <td>356</td>\n",
       "    </tr>\n",
       "    <tr>\n",
       "      <th>8</th>\n",
       "      <td>8.0</td>\n",
       "      <td>394</td>\n",
       "    </tr>\n",
       "    <tr>\n",
       "      <th>9</th>\n",
       "      <td>9.0</td>\n",
       "      <td>383</td>\n",
       "    </tr>\n",
       "    <tr>\n",
       "      <th>10</th>\n",
       "      <td>10.0</td>\n",
       "      <td>383</td>\n",
       "    </tr>\n",
       "    <tr>\n",
       "      <th>11</th>\n",
       "      <td>11.0</td>\n",
       "      <td>332</td>\n",
       "    </tr>\n",
       "    <tr>\n",
       "      <th>12</th>\n",
       "      <td>12.0</td>\n",
       "      <td>284</td>\n",
       "    </tr>\n",
       "    <tr>\n",
       "      <th>13</th>\n",
       "      <td>13.0</td>\n",
       "      <td>268</td>\n",
       "    </tr>\n",
       "    <tr>\n",
       "      <th>14</th>\n",
       "      <td>14.0</td>\n",
       "      <td>238</td>\n",
       "    </tr>\n",
       "    <tr>\n",
       "      <th>15</th>\n",
       "      <td>15.0</td>\n",
       "      <td>224</td>\n",
       "    </tr>\n",
       "    <tr>\n",
       "      <th>16</th>\n",
       "      <td>16.0</td>\n",
       "      <td>162</td>\n",
       "    </tr>\n",
       "    <tr>\n",
       "      <th>17</th>\n",
       "      <td>17.0</td>\n",
       "      <td>141</td>\n",
       "    </tr>\n",
       "    <tr>\n",
       "      <th>18</th>\n",
       "      <td>18.0</td>\n",
       "      <td>116</td>\n",
       "    </tr>\n",
       "    <tr>\n",
       "      <th>19</th>\n",
       "      <td>19.0</td>\n",
       "      <td>96</td>\n",
       "    </tr>\n",
       "    <tr>\n",
       "      <th>20</th>\n",
       "      <td>20.0</td>\n",
       "      <td>88</td>\n",
       "    </tr>\n",
       "    <tr>\n",
       "      <th>21</th>\n",
       "      <td>21.0</td>\n",
       "      <td>87</td>\n",
       "    </tr>\n",
       "    <tr>\n",
       "      <th>22</th>\n",
       "      <td>22.0</td>\n",
       "      <td>68</td>\n",
       "    </tr>\n",
       "    <tr>\n",
       "      <th>23</th>\n",
       "      <td>23.0</td>\n",
       "      <td>51</td>\n",
       "    </tr>\n",
       "    <tr>\n",
       "      <th>24</th>\n",
       "      <td>24.0</td>\n",
       "      <td>59</td>\n",
       "    </tr>\n",
       "    <tr>\n",
       "      <th>25</th>\n",
       "      <td>25.0</td>\n",
       "      <td>32</td>\n",
       "    </tr>\n",
       "    <tr>\n",
       "      <th>26</th>\n",
       "      <td>26.0</td>\n",
       "      <td>31</td>\n",
       "    </tr>\n",
       "    <tr>\n",
       "      <th>27</th>\n",
       "      <td>27.0</td>\n",
       "      <td>28</td>\n",
       "    </tr>\n",
       "    <tr>\n",
       "      <th>28</th>\n",
       "      <td>28.0</td>\n",
       "      <td>21</td>\n",
       "    </tr>\n",
       "    <tr>\n",
       "      <th>29</th>\n",
       "      <td>29.0</td>\n",
       "      <td>25</td>\n",
       "    </tr>\n",
       "    <tr>\n",
       "      <th>30</th>\n",
       "      <td>30.0</td>\n",
       "      <td>13</td>\n",
       "    </tr>\n",
       "    <tr>\n",
       "      <th>31</th>\n",
       "      <td>31.0</td>\n",
       "      <td>16</td>\n",
       "    </tr>\n",
       "    <tr>\n",
       "      <th>32</th>\n",
       "      <td>32.0</td>\n",
       "      <td>9</td>\n",
       "    </tr>\n",
       "    <tr>\n",
       "      <th>33</th>\n",
       "      <td>33.0</td>\n",
       "      <td>9</td>\n",
       "    </tr>\n",
       "    <tr>\n",
       "      <th>34</th>\n",
       "      <td>34.0</td>\n",
       "      <td>11</td>\n",
       "    </tr>\n",
       "    <tr>\n",
       "      <th>35</th>\n",
       "      <td>35.0</td>\n",
       "      <td>10</td>\n",
       "    </tr>\n",
       "    <tr>\n",
       "      <th>36</th>\n",
       "      <td>36.0</td>\n",
       "      <td>6</td>\n",
       "    </tr>\n",
       "    <tr>\n",
       "      <th>37</th>\n",
       "      <td>37.0</td>\n",
       "      <td>7</td>\n",
       "    </tr>\n",
       "    <tr>\n",
       "      <th>38</th>\n",
       "      <td>38.0</td>\n",
       "      <td>3</td>\n",
       "    </tr>\n",
       "    <tr>\n",
       "      <th>39</th>\n",
       "      <td>39.0</td>\n",
       "      <td>3</td>\n",
       "    </tr>\n",
       "    <tr>\n",
       "      <th>40</th>\n",
       "      <td>40.0</td>\n",
       "      <td>2</td>\n",
       "    </tr>\n",
       "    <tr>\n",
       "      <th>41</th>\n",
       "      <td>42.0</td>\n",
       "      <td>1</td>\n",
       "    </tr>\n",
       "    <tr>\n",
       "      <th>42</th>\n",
       "      <td>43.0</td>\n",
       "      <td>1</td>\n",
       "    </tr>\n",
       "    <tr>\n",
       "      <th>43</th>\n",
       "      <td>45.0</td>\n",
       "      <td>1</td>\n",
       "    </tr>\n",
       "    <tr>\n",
       "      <th>44</th>\n",
       "      <td>48.0</td>\n",
       "      <td>2</td>\n",
       "    </tr>\n",
       "    <tr>\n",
       "      <th>45</th>\n",
       "      <td>49.0</td>\n",
       "      <td>2</td>\n",
       "    </tr>\n",
       "    <tr>\n",
       "      <th>46</th>\n",
       "      <td>51.0</td>\n",
       "      <td>2</td>\n",
       "    </tr>\n",
       "  </tbody>\n",
       "</table>\n",
       "</div>"
      ],
      "text/plain": [
       "    energy  num_occurrences\n",
       "0      0.0                1\n",
       "1      1.0                8\n",
       "2      2.0               45\n",
       "3      3.0               97\n",
       "4      4.0              207\n",
       "5      5.0              311\n",
       "6      6.0              366\n",
       "7      7.0              356\n",
       "8      8.0              394\n",
       "9      9.0              383\n",
       "10    10.0              383\n",
       "11    11.0              332\n",
       "12    12.0              284\n",
       "13    13.0              268\n",
       "14    14.0              238\n",
       "15    15.0              224\n",
       "16    16.0              162\n",
       "17    17.0              141\n",
       "18    18.0              116\n",
       "19    19.0               96\n",
       "20    20.0               88\n",
       "21    21.0               87\n",
       "22    22.0               68\n",
       "23    23.0               51\n",
       "24    24.0               59\n",
       "25    25.0               32\n",
       "26    26.0               31\n",
       "27    27.0               28\n",
       "28    28.0               21\n",
       "29    29.0               25\n",
       "30    30.0               13\n",
       "31    31.0               16\n",
       "32    32.0                9\n",
       "33    33.0                9\n",
       "34    34.0               11\n",
       "35    35.0               10\n",
       "36    36.0                6\n",
       "37    37.0                7\n",
       "38    38.0                3\n",
       "39    39.0                3\n",
       "40    40.0                2\n",
       "41    42.0                1\n",
       "42    43.0                1\n",
       "43    45.0                1\n",
       "44    48.0                2\n",
       "45    49.0                2\n",
       "46    51.0                2"
      ]
     },
     "execution_count": 12,
     "metadata": {},
     "output_type": "execute_result"
    }
   ],
   "source": [
    "df_basic_grouped = df_basic[['energy','num_occurrences']].groupby('energy').sum().reset_index()\n",
    "df_basic_grouped"
   ]
  },
  {
   "cell_type": "code",
   "execution_count": 18,
   "metadata": {},
   "outputs": [
    {
     "data": {
      "text/plain": [
       "(0.0, 10.0)"
      ]
     },
     "execution_count": 18,
     "metadata": {},
     "output_type": "execute_result"
    },
    {
     "data": {
      "image/png": "[encoded data removed]",
      "text/plain": [
       "<Figure size 640x480 with 1 Axes>"
      ]
     },
     "metadata": {},
     "output_type": "display_data"
    }
   ],
   "source": [
    "plt.plot(df_basic_grouped['energy'],df_basic_grouped['num_occurrences'],label=\"Full graph\",marker='o')\n",
    "plt.plot(dfs_grouped['pegasus',2],label=\"Simplified\",marker='x')\n",
    "plt.legend()\n",
    "plt.xlim(0,10)"
   ]
  },
  {
   "cell_type": "code",
   "execution_count": 17,
   "metadata": {},
   "outputs": [
    {
     "data": {
      "application/vnd.microsoft.datawrangler.viewer.v0+json": {
       "columns": [
        {
         "name": "index",
         "rawType": "int64",
         "type": "integer"
        },
        {
         "name": "energy",
         "rawType": "float64",
         "type": "float"
        },
        {
         "name": "num_occurrences",
         "rawType": "int64",
         "type": "integer"
        }
       ],
       "conversionMethod": "pd.DataFrame",
       "ref": "102c7ee6-c613-4468-adcd-550870965480",
       "rows": [
        [
         "0",
         "0.0",
         "1"
        ],
        [
         "1",
         "1.0",
         "8"
        ],
        [
         "2",
         "2.0",
         "45"
        ],
        [
         "3",
         "3.0",
         "97"
        ],
        [
         "4",
         "4.0",
         "207"
        ],
        [
         "5",
         "5.0",
         "311"
        ],
        [
         "6",
         "6.0",
         "366"
        ],
        [
         "7",
         "7.0",
         "356"
        ],
        [
         "8",
         "8.0",
         "394"
        ],
        [
         "9",
         "9.0",
         "383"
        ],
        [
         "10",
         "10.0",
         "383"
        ],
        [
         "11",
         "11.0",
         "332"
        ],
        [
         "12",
         "12.0",
         "284"
        ],
        [
         "13",
         "13.0",
         "268"
        ],
        [
         "14",
         "14.0",
         "238"
        ],
        [
         "15",
         "15.0",
         "224"
        ],
        [
         "16",
         "16.0",
         "162"
        ],
        [
         "17",
         "17.0",
         "141"
        ],
        [
         "18",
         "18.0",
         "116"
        ],
        [
         "19",
         "19.0",
         "96"
        ],
        [
         "20",
         "20.0",
         "88"
        ],
        [
         "21",
         "21.0",
         "87"
        ],
        [
         "22",
         "22.0",
         "68"
        ],
        [
         "23",
         "23.0",
         "51"
        ],
        [
         "24",
         "24.0",
         "59"
        ],
        [
         "25",
         "25.0",
         "32"
        ],
        [
         "26",
         "26.0",
         "31"
        ],
        [
         "27",
         "27.0",
         "28"
        ],
        [
         "28",
         "28.0",
         "21"
        ],
        [
         "29",
         "29.0",
         "25"
        ],
        [
         "30",
         "30.0",
         "13"
        ],
        [
         "31",
         "31.0",
         "16"
        ],
        [
         "32",
         "32.0",
         "9"
        ],
        [
         "33",
         "33.0",
         "9"
        ],
        [
         "34",
         "34.0",
         "11"
        ],
        [
         "35",
         "35.0",
         "10"
        ],
        [
         "36",
         "36.0",
         "6"
        ],
        [
         "37",
         "37.0",
         "7"
        ],
        [
         "38",
         "38.0",
         "3"
        ],
        [
         "39",
         "39.0",
         "3"
        ],
        [
         "40",
         "40.0",
         "2"
        ],
        [
         "41",
         "42.0",
         "1"
        ],
        [
         "42",
         "43.0",
         "1"
        ],
        [
         "43",
         "45.0",
         "1"
        ],
        [
         "44",
         "48.0",
         "2"
        ],
        [
         "45",
         "49.0",
         "2"
        ],
        [
         "46",
         "51.0",
         "2"
        ]
       ],
       "shape": {
        "columns": 2,
        "rows": 47
       }
      },
      "text/html": [
       "<div>\n",
       "<style scoped>\n",
       "    .dataframe tbody tr th:only-of-type {\n",
       "        vertical-align: middle;\n",
       "    }\n",
       "\n",
       "    .dataframe tbody tr th {\n",
       "        vertical-align: top;\n",
       "    }\n",
       "\n",
       "    .dataframe thead th {\n",
       "        text-align: right;\n",
       "    }\n",
       "</style>\n",
       "<table border=\"1\" class=\"dataframe\">\n",
       "  <thead>\n",
       "    <tr style=\"text-align: right;\">\n",
       "      <th></th>\n",
       "      <th>energy</th>\n",
       "      <th>num_occurrences</th>\n",
       "    </tr>\n",
       "  </thead>\n",
       "  <tbody>\n",
       "    <tr>\n",
       "      <th>0</th>\n",
       "      <td>0.0</td>\n",
       "      <td>1</td>\n",
       "    </tr>\n",
       "    <tr>\n",
       "      <th>1</th>\n",
       "      <td>1.0</td>\n",
       "      <td>8</td>\n",
       "    </tr>\n",
       "    <tr>\n",
       "      <th>2</th>\n",
       "      <td>2.0</td>\n",
       "      <td>45</td>\n",
       "    </tr>\n",
       "    <tr>\n",
       "      <th>3</th>\n",
       "      <td>3.0</td>\n",
       "      <td>97</td>\n",
       "    </tr>\n",
       "    <tr>\n",
       "      <th>4</th>\n",
       "      <td>4.0</td>\n",
       "      <td>207</td>\n",
       "    </tr>\n",
       "    <tr>\n",
       "      <th>5</th>\n",
       "      <td>5.0</td>\n",
       "      <td>311</td>\n",
       "    </tr>\n",
       "    <tr>\n",
       "      <th>6</th>\n",
       "      <td>6.0</td>\n",
       "      <td>366</td>\n",
       "    </tr>\n",
       "    <tr>\n",
       "      <th>7</th>\n",
       "      <td>7.0</td>\n",
       "      <td>356</td>\n",
       "    </tr>\n",
       "    <tr>\n",
       "      <th>8</th>\n",
       "      <td>8.0</td>\n",
       "      <td>394</td>\n",
       "    </tr>\n",
       "    <tr>\n",
       "      <th>9</th>\n",
       "      <td>9.0</td>\n",
       "      <td>383</td>\n",
       "    </tr>\n",
       "    <tr>\n",
       "      <th>10</th>\n",
       "      <td>10.0</td>\n",
       "      <td>383</td>\n",
       "    </tr>\n",
       "    <tr>\n",
       "      <th>11</th>\n",
       "      <td>11.0</td>\n",
       "      <td>332</td>\n",
       "    </tr>\n",
       "    <tr>\n",
       "      <th>12</th>\n",
       "      <td>12.0</td>\n",
       "      <td>284</td>\n",
       "    </tr>\n",
       "    <tr>\n",
       "      <th>13</th>\n",
       "      <td>13.0</td>\n",
       "      <td>268</td>\n",
       "    </tr>\n",
       "    <tr>\n",
       "      <th>14</th>\n",
       "      <td>14.0</td>\n",
       "      <td>238</td>\n",
       "    </tr>\n",
       "    <tr>\n",
       "      <th>15</th>\n",
       "      <td>15.0</td>\n",
       "      <td>224</td>\n",
       "    </tr>\n",
       "    <tr>\n",
       "      <th>16</th>\n",
       "      <td>16.0</td>\n",
       "      <td>162</td>\n",
       "    </tr>\n",
       "    <tr>\n",
       "      <th>17</th>\n",
       "      <td>17.0</td>\n",
       "      <td>141</td>\n",
       "    </tr>\n",
       "    <tr>\n",
       "      <th>18</th>\n",
       "      <td>18.0</td>\n",
       "      <td>116</td>\n",
       "    </tr>\n",
       "    <tr>\n",
       "      <th>19</th>\n",
       "      <td>19.0</td>\n",
       "      <td>96</td>\n",
       "    </tr>\n",
       "    <tr>\n",
       "      <th>20</th>\n",
       "      <td>20.0</td>\n",
       "      <td>88</td>\n",
       "    </tr>\n",
       "    <tr>\n",
       "      <th>21</th>\n",
       "      <td>21.0</td>\n",
       "      <td>87</td>\n",
       "    </tr>\n",
       "    <tr>\n",
       "      <th>22</th>\n",
       "      <td>22.0</td>\n",
       "      <td>68</td>\n",
       "    </tr>\n",
       "    <tr>\n",
       "      <th>23</th>\n",
       "      <td>23.0</td>\n",
       "      <td>51</td>\n",
       "    </tr>\n",
       "    <tr>\n",
       "      <th>24</th>\n",
       "      <td>24.0</td>\n",
       "      <td>59</td>\n",
       "    </tr>\n",
       "    <tr>\n",
       "      <th>25</th>\n",
       "      <td>25.0</td>\n",
       "      <td>32</td>\n",
       "    </tr>\n",
       "    <tr>\n",
       "      <th>26</th>\n",
       "      <td>26.0</td>\n",
       "      <td>31</td>\n",
       "    </tr>\n",
       "    <tr>\n",
       "      <th>27</th>\n",
       "      <td>27.0</td>\n",
       "      <td>28</td>\n",
       "    </tr>\n",
       "    <tr>\n",
       "      <th>28</th>\n",
       "      <td>28.0</td>\n",
       "      <td>21</td>\n",
       "    </tr>\n",
       "    <tr>\n",
       "      <th>29</th>\n",
       "      <td>29.0</td>\n",
       "      <td>25</td>\n",
       "    </tr>\n",
       "    <tr>\n",
       "      <th>30</th>\n",
       "      <td>30.0</td>\n",
       "      <td>13</td>\n",
       "    </tr>\n",
       "    <tr>\n",
       "      <th>31</th>\n",
       "      <td>31.0</td>\n",
       "      <td>16</td>\n",
       "    </tr>\n",
       "    <tr>\n",
       "      <th>32</th>\n",
       "      <td>32.0</td>\n",
       "      <td>9</td>\n",
       "    </tr>\n",
       "    <tr>\n",
       "      <th>33</th>\n",
       "      <td>33.0</td>\n",
       "      <td>9</td>\n",
       "    </tr>\n",
       "    <tr>\n",
       "      <th>34</th>\n",
       "      <td>34.0</td>\n",
       "      <td>11</td>\n",
       "    </tr>\n",
       "    <tr>\n",
       "      <th>35</th>\n",
       "      <td>35.0</td>\n",
       "      <td>10</td>\n",
       "    </tr>\n",
       "    <tr>\n",
       "      <th>36</th>\n",
       "      <td>36.0</td>\n",
       "      <td>6</td>\n",
       "    </tr>\n",
       "    <tr>\n",
       "      <th>37</th>\n",
       "      <td>37.0</td>\n",
       "      <td>7</td>\n",
       "    </tr>\n",
       "    <tr>\n",
       "      <th>38</th>\n",
       "      <td>38.0</td>\n",
       "      <td>3</td>\n",
       "    </tr>\n",
       "    <tr>\n",
       "      <th>39</th>\n",
       "      <td>39.0</td>\n",
       "      <td>3</td>\n",
       "    </tr>\n",
       "    <tr>\n",
       "      <th>40</th>\n",
       "      <td>40.0</td>\n",
       "      <td>2</td>\n",
       "    </tr>\n",
       "    <tr>\n",
       "      <th>41</th>\n",
       "      <td>42.0</td>\n",
       "      <td>1</td>\n",
       "    </tr>\n",
       "    <tr>\n",
       "      <th>42</th>\n",
       "      <td>43.0</td>\n",
       "      <td>1</td>\n",
       "    </tr>\n",
       "    <tr>\n",
       "      <th>43</th>\n",
       "      <td>45.0</td>\n",
       "      <td>1</td>\n",
       "    </tr>\n",
       "    <tr>\n",
       "      <th>44</th>\n",
       "      <td>48.0</td>\n",
       "      <td>2</td>\n",
       "    </tr>\n",
       "    <tr>\n",
       "      <th>45</th>\n",
       "      <td>49.0</td>\n",
       "      <td>2</td>\n",
       "    </tr>\n",
       "    <tr>\n",
       "      <th>46</th>\n",
       "      <td>51.0</td>\n",
       "      <td>2</td>\n",
       "    </tr>\n",
       "  </tbody>\n",
       "</table>\n",
       "</div>"
      ],
      "text/plain": [
       "    energy  num_occurrences\n",
       "0      0.0                1\n",
       "1      1.0                8\n",
       "2      2.0               45\n",
       "3      3.0               97\n",
       "4      4.0              207\n",
       "5      5.0              311\n",
       "6      6.0              366\n",
       "7      7.0              356\n",
       "8      8.0              394\n",
       "9      9.0              383\n",
       "10    10.0              383\n",
       "11    11.0              332\n",
       "12    12.0              284\n",
       "13    13.0              268\n",
       "14    14.0              238\n",
       "15    15.0              224\n",
       "16    16.0              162\n",
       "17    17.0              141\n",
       "18    18.0              116\n",
       "19    19.0               96\n",
       "20    20.0               88\n",
       "21    21.0               87\n",
       "22    22.0               68\n",
       "23    23.0               51\n",
       "24    24.0               59\n",
       "25    25.0               32\n",
       "26    26.0               31\n",
       "27    27.0               28\n",
       "28    28.0               21\n",
       "29    29.0               25\n",
       "30    30.0               13\n",
       "31    31.0               16\n",
       "32    32.0                9\n",
       "33    33.0                9\n",
       "34    34.0               11\n",
       "35    35.0               10\n",
       "36    36.0                6\n",
       "37    37.0                7\n",
       "38    38.0                3\n",
       "39    39.0                3\n",
       "40    40.0                2\n",
       "41    42.0                1\n",
       "42    43.0                1\n",
       "43    45.0                1\n",
       "44    48.0                2\n",
       "45    49.0                2\n",
       "46    51.0                2"
      ]
     },
     "execution_count": 17,
     "metadata": {},
     "output_type": "execute_result"
    }
   ],
   "source": [
    "df_basic_grouped"
   ]
  }
 ],
 "metadata": {
  "kernelspec": {
   "display_name": ".venv",
   "language": "python",
   "name": "python3"
  },
  "language_info": {
   "codemirror_mode": {
    "name": "ipython",
    "version": 3
   },
   "file_extension": ".py",
   "mimetype": "text/x-python",
   "name": "python",
   "nbconvert_exporter": "python",
   "pygments_lexer": "ipython3",
   "version": "3.11.0rc1"
  }
 },
 "nbformat": 4,
 "nbformat_minor": 2
}
