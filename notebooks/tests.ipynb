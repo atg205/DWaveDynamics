{
 "cells": [
  {
   "cell_type": "markdown",
   "metadata": {},
   "source": [
    "# Tests"
   ]
  },
  {
   "cell_type": "code",
   "execution_count": 2,
   "metadata": {},
   "outputs": [],
   "source": [
    "import numpy as np\n",
    "import networkx as nx\n",
    "from dwdynamics import ComplexDynamicsProblem, Objective # Difference a. We are using ComplexDynamicsProblem\n",
    "import dimod\n",
    "import matplotlib.pyplot as plt\n",
    "import json\n",
    "import os\n",
    "import minorminer\n",
    "from dwave_networkx.generators.pegasus import (get_tuple_defragmentation_fn, fragmented_edges,\n",
    "    pegasus_coordinates, pegasus_graph)\n",
    "from dwave.system import DWaveSampler, EmbeddingComposite\n",
    "import matplotlib.pyplot as plt"
   ]
  },
  {
   "cell_type": "code",
   "execution_count": 5,
   "metadata": {},
   "outputs": [],
   "source": [
    "def create_instance(precision, number_time_points, simplify = True):\n",
    "     # We simulate evolution under the Hamiltonian 1/2 pi * Sigma_y...\n",
    "    SY = np.array([[0, -1.0j], [1.0j, 0.0]])\n",
    "    PSI0 = np.array([1, 0], dtype=np.complex128)  # Difference b. Initial state can now be complex.\n",
    "\n",
    "    # The problem object encapsulates all the data so you don't have to pass them around\n",
    "    problem = ComplexDynamicsProblem(\n",
    "        hamiltonian=0.5 * np.pi * SY,      # Evolution under hamiltonian 0.5 * np.pi * sigma_y\n",
    "        initial_state = PSI0,              # Starting at initial state |0>,\n",
    "        times=tuple(range(number_time_points)),             # With six time points 0,1,2\n",
    "        num_bits_per_var=precision                # And two bits of precision per variable\n",
    "    )\n",
    "    qubo = problem.qubo(objective=Objective.norm)  # Other choice would be to use Objective.hessian\n",
    "    num_int = qubo.num_interactions + 1\n",
    "\n",
    "    # for some reason multiple iterations over the qubo are necessary\n",
    "    # to remove all 0 couplers\n",
    "    if simplify:\n",
    "        while (num_int > qubo.num_interactions):\n",
    "            num_int = qubo.num_interactions\n",
    "            for key,value in qubo.quadratic.items():\n",
    "                if value == 0:\n",
    "                    qubo.remove_interaction(key[0],key[1])\n",
    "\n",
    "            \n",
    "    assert qubo.num_variables == problem.hamiltonian.shape[0] * len(problem.times) * problem.num_bits_per_var * 2\n",
    "\n",
    "    # save instances in the form \n",
    "    # systemid_{d}_precision_{d}_timepoints_{d}.json\n",
    "    # systemid: {1: 0.5 * np.pi * SY}\n",
    "    file_name = f\"../instances/systemid_1_precision_{precision}_timepoints_{number_time_points}.json\"\n",
    "    with open(file_name,'w') as f:\n",
    "        json.dump(qubo.to_serializable(),f)\n"
   ]
  },
  {
   "cell_type": "code",
   "execution_count": 13,
   "metadata": {},
   "outputs": [],
   "source": [
    "create_instance(precision=3,number_time_points=6)"
   ]
  },
  {
   "cell_type": "code",
   "execution_count": null,
   "metadata": {},
   "outputs": [],
   "source": [
    "def get_sampleset(precision,timepoints,solver_id=\"5.4\", simplify = False):\n",
    "    # We simulate evolution under the Hamiltonian 1/2 pi * Sigma_y...\n",
    "    SY = np.array([[0, -1.0j], [1.0j, 0.0]])\n",
    "    PSI0 = np.array([1, 0], dtype=np.complex128)  # Difference b. Initial state can now be complex.\n",
    "\n",
    "    # The problem object encapsulates all the data so you don't have to pass them around\n",
    "    problem = ComplexDynamicsProblem(\n",
    "        hamiltonian=0.5 * np.pi * SY,      # Evolution under hamiltonian 0.5 * np.pi * sigma_y\n",
    "        initial_state = PSI0,              # Starting at initial state |0>,\n",
    "        times=tuple(range(timepoints)),             # With six time points 0,1,2\n",
    "        num_bits_per_var=precision                # And two bits of precision per variable\n",
    "    )\n",
    "    qubo = problem.qubo(objective=Objective.norm)  # Other choice would be to use Objective.hessian\n",
    "    num_int = qubo.num_interactions + 1\n",
    "\n",
    "    if simplify:\n",
    "        while (num_int > qubo.num_interactions):\n",
    "            num_int = qubo.num_interactions\n",
    "            for key,value in qubo.quadratic.items():\n",
    "                if value == 0:\n",
    "                    qubo.remove_interaction(key[0],key[1])\n",
    "\n",
    "            \n",
    "    assert qubo.num_variables == problem.hamiltonian.shape[0] * len(problem.times) * problem.num_bits_per_var * 2\n",
    "\n",
    "\n",
    "\n",
    "    DW_TOKEN = os.getenv(\"DW_TOKEN\")  # <- Place your token here, or use DW_TOKEN env variable, or configure D-Wave libraries to use config file\n",
    "\n",
    "\n",
    "    # The graph fo the problem is pretty dense, we use automatic embedding to mitigate the incompatibility with actual machine\n",
    "    if solver_id == \"5.4\":\n",
    "        dw_sampler = EmbeddingComposite(DWaveSampler( solver=\"Advantage_system5.4\", region=\"eu-central-1\", ))\n",
    "    elif solver_id == \"zephyr\": # not working yet\n",
    "        print(\"zephyr\")\n",
    "        dw_sampler = EmbeddingComposite(DWaveSampler(solver=dict(id='zephyr')))\n",
    "\n",
    "\n",
    "    dw_result = dw_sampler.sample(qubo, num_reads=1000, annealing_time=200)\n",
    "\n",
    "    dw_result.first.energy\n",
    "    return dw_result\n",
    "\n"
   ]
  },
  {
   "cell_type": "code",
   "execution_count": 92,
   "metadata": {},
   "outputs": [
    {
     "name": "stdout",
     "output_type": "stream",
     "text": [
      "Solver 5.4\n",
      "Iteration 0\n",
      "Iteration 1\n",
      "Iteration 2\n",
      "Iteration 3\n",
      "Iteration 4\n"
     ]
    },
    {
     "ename": "KeyboardInterrupt",
     "evalue": "embedding cancelled by keyboard interrupt",
     "output_type": "error",
     "traceback": [
      "\u001b[31m---------------------------------------------------------------------------\u001b[39m",
      "\u001b[31mKeyboardInterrupt\u001b[39m                         Traceback (most recent call last)",
      "\u001b[36mCell\u001b[39m\u001b[36m \u001b[39m\u001b[32mIn[92]\u001b[39m\u001b[32m, line 8\u001b[39m\n\u001b[32m      6\u001b[39m \u001b[38;5;28;01mfor\u001b[39;00m timepoints \u001b[38;5;129;01min\u001b[39;00m [\u001b[32m3\u001b[39m,\u001b[32m4\u001b[39m,\u001b[32m5\u001b[39m]:\n\u001b[32m      7\u001b[39m     \u001b[38;5;28;01mfor\u001b[39;00m precision \u001b[38;5;129;01min\u001b[39;00m [\u001b[32m2\u001b[39m]:\n\u001b[32m----> \u001b[39m\u001b[32m8\u001b[39m         dw_result = \u001b[43mget_sampleset\u001b[49m\u001b[43m(\u001b[49m\u001b[43msolver_id\u001b[49m\u001b[43m=\u001b[49m\u001b[43msolver\u001b[49m\u001b[43m,\u001b[49m\u001b[43m \u001b[49m\u001b[43mprecision\u001b[49m\u001b[43m=\u001b[49m\u001b[43mprecision\u001b[49m\u001b[43m,\u001b[49m\u001b[43mtimepoints\u001b[49m\u001b[43m=\u001b[49m\u001b[43mtimepoints\u001b[49m\u001b[43m,\u001b[49m\u001b[43msimplify\u001b[49m\u001b[43m=\u001b[49m\u001b[38;5;28;43;01mFalse\u001b[39;49;00m\u001b[43m)\u001b[49m\n\u001b[32m      9\u001b[39m         file_name = \u001b[33mf\u001b[39m\u001b[33m\"\u001b[39m\u001b[33m../data/results/notpruned/\u001b[39m\u001b[38;5;132;01m{\u001b[39;00msystem\u001b[38;5;132;01m}\u001b[39;00m\u001b[33m/\u001b[39m\u001b[38;5;132;01m{\u001b[39;00msolver\u001b[38;5;132;01m}\u001b[39;00m\u001b[33m/precision_\u001b[39m\u001b[38;5;132;01m{\u001b[39;00mprecision\u001b[38;5;132;01m}\u001b[39;00m\u001b[33m_timepoints_\u001b[39m\u001b[38;5;132;01m{\u001b[39;00mtimepoints\u001b[38;5;132;01m}\u001b[39;00m\u001b[33m_\u001b[39m\u001b[38;5;132;01m{\u001b[39;00mi\u001b[38;5;132;01m}\u001b[39;00m\u001b[33m.json\u001b[39m\u001b[33m\"\u001b[39m\n\u001b[32m     10\u001b[39m         \u001b[38;5;28;01mwith\u001b[39;00m \u001b[38;5;28mopen\u001b[39m(file_name,\u001b[33m'\u001b[39m\u001b[33mw\u001b[39m\u001b[33m'\u001b[39m) \u001b[38;5;28;01mas\u001b[39;00m f:\n",
      "\u001b[36mCell\u001b[39m\u001b[36m \u001b[39m\u001b[32mIn[42]\u001b[39m\u001b[32m, line 39\u001b[39m, in \u001b[36mget_sampleset\u001b[39m\u001b[34m(precision, timepoints, solver_id, simplify)\u001b[39m\n\u001b[32m     35\u001b[39m     \u001b[38;5;28mprint\u001b[39m(\u001b[33m\"\u001b[39m\u001b[33mzephyr\u001b[39m\u001b[33m\"\u001b[39m)\n\u001b[32m     36\u001b[39m     dw_sampler = EmbeddingComposite(DWaveSampler(solver=\u001b[38;5;28mdict\u001b[39m(\u001b[38;5;28mid\u001b[39m=\u001b[33m'\u001b[39m\u001b[33mzephyr\u001b[39m\u001b[33m'\u001b[39m)))\n\u001b[32m---> \u001b[39m\u001b[32m39\u001b[39m dw_result = \u001b[43mdw_sampler\u001b[49m\u001b[43m.\u001b[49m\u001b[43msample\u001b[49m\u001b[43m(\u001b[49m\u001b[43mqubo\u001b[49m\u001b[43m,\u001b[49m\u001b[43m \u001b[49m\u001b[43mnum_reads\u001b[49m\u001b[43m=\u001b[49m\u001b[32;43m1000\u001b[39;49m\u001b[43m,\u001b[49m\u001b[43m \u001b[49m\u001b[43mannealing_time\u001b[49m\u001b[43m=\u001b[49m\u001b[32;43m200\u001b[39;49m\u001b[43m)\u001b[49m\n\u001b[32m     41\u001b[39m dw_result.first.energy\n\u001b[32m     42\u001b[39m \u001b[38;5;28;01mreturn\u001b[39;00m dw_result\n",
      "\u001b[36mFile \u001b[39m\u001b[32m~/Documents/__Dokumente/Uni/UPMC/stage gl/DWaveDynamics2/.venv/lib/python3.11/site-packages/dwave/system/composites/embedding.py:242\u001b[39m, in \u001b[36mEmbeddingComposite.sample\u001b[39m\u001b[34m(self, bqm, chain_strength, chain_break_method, chain_break_fraction, embedding_parameters, return_embedding, warnings, **parameters)\u001b[39m\n\u001b[32m    233\u001b[39m \u001b[38;5;28;01melse\u001b[39;00m:\n\u001b[32m    234\u001b[39m     \u001b[38;5;66;03m# we want the parameters provided to the constructor, updated with\u001b[39;00m\n\u001b[32m    235\u001b[39m     \u001b[38;5;66;03m# the ones provided to the sample method. To avoid the extra copy\u001b[39;00m\n\u001b[32m    236\u001b[39m     \u001b[38;5;66;03m# we do an update, avoiding the keys that would overwrite the\u001b[39;00m\n\u001b[32m    237\u001b[39m     \u001b[38;5;66;03m# sample-level embedding parameters\u001b[39;00m\n\u001b[32m    238\u001b[39m     embedding_parameters.update((key, val)\n\u001b[32m    239\u001b[39m                                 \u001b[38;5;28;01mfor\u001b[39;00m key, val \u001b[38;5;129;01min\u001b[39;00m \u001b[38;5;28mself\u001b[39m.embedding_parameters\n\u001b[32m    240\u001b[39m                                 \u001b[38;5;28;01mif\u001b[39;00m key \u001b[38;5;129;01mnot\u001b[39;00m \u001b[38;5;129;01min\u001b[39;00m embedding_parameters)\n\u001b[32m--> \u001b[39m\u001b[32m242\u001b[39m embedding = \u001b[38;5;28;43mself\u001b[39;49m\u001b[43m.\u001b[49m\u001b[43mfind_embedding\u001b[49m\u001b[43m(\u001b[49m\u001b[43msource_edgelist\u001b[49m\u001b[43m,\u001b[49m\u001b[43m \u001b[49m\u001b[43mtarget_edgelist\u001b[49m\u001b[43m,\u001b[49m\n\u001b[32m    243\u001b[39m \u001b[43m                                \u001b[49m\u001b[43m*\u001b[49m\u001b[43m*\u001b[49m\u001b[43membedding_parameters\u001b[49m\u001b[43m)\u001b[49m\n\u001b[32m    245\u001b[39m \u001b[38;5;28;01mif\u001b[39;00m bqm \u001b[38;5;129;01mand\u001b[39;00m \u001b[38;5;129;01mnot\u001b[39;00m embedding:\n\u001b[32m    246\u001b[39m     \u001b[38;5;28;01mraise\u001b[39;00m \u001b[38;5;167;01mValueError\u001b[39;00m(\u001b[33m\"\u001b[39m\u001b[33mno embedding found\u001b[39m\u001b[33m\"\u001b[39m)\n",
      "\u001b[36mFile \u001b[39m\u001b[32m~/Documents/__Dokumente/Uni/UPMC/stage gl/DWaveDynamics2/.venv/lib/python3.11/site-packages/minorminer/minorminer.py:40\u001b[39m, in \u001b[36mfind_embedding\u001b[39m\u001b[34m(S, T, max_no_improvement, random_seed, timeout, max_beta, tries, inner_rounds, chainlength_patience, max_fill, threads, return_overlap, skip_initialization, verbose, interactive, initial_chains, fixed_chains, restrict_chains, suspend_chains)\u001b[39m\n\u001b[32m     20\u001b[39m \u001b[38;5;129m@__wraps\u001b[39m(__find_embedding)\n\u001b[32m     21\u001b[39m \u001b[38;5;28;01mdef\u001b[39;00m\u001b[38;5;250m \u001b[39m\u001b[34mfind_embedding\u001b[39m(S, T,\n\u001b[32m     22\u001b[39m                    max_no_improvement=\u001b[32m10\u001b[39m,\n\u001b[32m   (...)\u001b[39m\u001b[32m     38\u001b[39m                    suspend_chains=(),\n\u001b[32m     39\u001b[39m                    ):\n\u001b[32m---> \u001b[39m\u001b[32m40\u001b[39m     \u001b[38;5;28;01mreturn\u001b[39;00m \u001b[43m__find_embedding\u001b[49m\u001b[43m(\u001b[49m\u001b[43mS\u001b[49m\u001b[43m,\u001b[49m\u001b[43m \u001b[49m\u001b[43mT\u001b[49m\u001b[43m,\u001b[49m\n\u001b[32m     41\u001b[39m \u001b[43m                            \u001b[49m\u001b[43mmax_no_improvement\u001b[49m\u001b[43m=\u001b[49m\u001b[43mmax_no_improvement\u001b[49m\u001b[43m,\u001b[49m\n\u001b[32m     42\u001b[39m \u001b[43m                            \u001b[49m\u001b[43mrandom_seed\u001b[49m\u001b[43m=\u001b[49m\u001b[43mrandom_seed\u001b[49m\u001b[43m,\u001b[49m\n\u001b[32m     43\u001b[39m \u001b[43m                            \u001b[49m\u001b[43mtimeout\u001b[49m\u001b[43m=\u001b[49m\u001b[43mtimeout\u001b[49m\u001b[43m,\u001b[49m\n\u001b[32m     44\u001b[39m \u001b[43m                            \u001b[49m\u001b[43mmax_beta\u001b[49m\u001b[43m=\u001b[49m\u001b[43mmax_beta\u001b[49m\u001b[43m,\u001b[49m\n\u001b[32m     45\u001b[39m \u001b[43m                            \u001b[49m\u001b[43mtries\u001b[49m\u001b[43m=\u001b[49m\u001b[43mtries\u001b[49m\u001b[43m,\u001b[49m\n\u001b[32m     46\u001b[39m \u001b[43m                            \u001b[49m\u001b[43minner_rounds\u001b[49m\u001b[43m=\u001b[49m\u001b[43minner_rounds\u001b[49m\u001b[43m,\u001b[49m\n\u001b[32m     47\u001b[39m \u001b[43m                            \u001b[49m\u001b[43mchainlength_patience\u001b[49m\u001b[43m=\u001b[49m\u001b[43mchainlength_patience\u001b[49m\u001b[43m,\u001b[49m\n\u001b[32m     48\u001b[39m \u001b[43m                            \u001b[49m\u001b[43mmax_fill\u001b[49m\u001b[43m=\u001b[49m\u001b[43mmax_fill\u001b[49m\u001b[43m,\u001b[49m\n\u001b[32m     49\u001b[39m \u001b[43m                            \u001b[49m\u001b[43mthreads\u001b[49m\u001b[43m=\u001b[49m\u001b[43mthreads\u001b[49m\u001b[43m,\u001b[49m\n\u001b[32m     50\u001b[39m \u001b[43m                            \u001b[49m\u001b[43mreturn_overlap\u001b[49m\u001b[43m=\u001b[49m\u001b[43mreturn_overlap\u001b[49m\u001b[43m,\u001b[49m\n\u001b[32m     51\u001b[39m \u001b[43m                            \u001b[49m\u001b[43mskip_initialization\u001b[49m\u001b[43m=\u001b[49m\u001b[43mskip_initialization\u001b[49m\u001b[43m,\u001b[49m\n\u001b[32m     52\u001b[39m \u001b[43m                            \u001b[49m\u001b[43mverbose\u001b[49m\u001b[43m=\u001b[49m\u001b[43mverbose\u001b[49m\u001b[43m,\u001b[49m\n\u001b[32m     53\u001b[39m \u001b[43m                            \u001b[49m\u001b[43minteractive\u001b[49m\u001b[43m=\u001b[49m\u001b[43minteractive\u001b[49m\u001b[43m,\u001b[49m\n\u001b[32m     54\u001b[39m \u001b[43m                            \u001b[49m\u001b[43minitial_chains\u001b[49m\u001b[43m=\u001b[49m\u001b[43minitial_chains\u001b[49m\u001b[43m,\u001b[49m\n\u001b[32m     55\u001b[39m \u001b[43m                            \u001b[49m\u001b[43mfixed_chains\u001b[49m\u001b[43m=\u001b[49m\u001b[43mfixed_chains\u001b[49m\u001b[43m,\u001b[49m\n\u001b[32m     56\u001b[39m \u001b[43m                            \u001b[49m\u001b[43mrestrict_chains\u001b[49m\u001b[43m=\u001b[49m\u001b[43mrestrict_chains\u001b[49m\u001b[43m,\u001b[49m\n\u001b[32m     57\u001b[39m \u001b[43m                            \u001b[49m\u001b[43msuspend_chains\u001b[49m\u001b[43m=\u001b[49m\u001b[43msuspend_chains\u001b[49m\u001b[43m,\u001b[49m\n\u001b[32m     58\u001b[39m \u001b[43m                            \u001b[49m\u001b[43m)\u001b[49m\n",
      "\u001b[36mFile \u001b[39m\u001b[32m~/Documents/__Dokumente/Uni/UPMC/stage gl/DWaveDynamics2/.venv/lib/python3.11/site-packages/minorminer/_minorminer.pyx:294\u001b[39m, in \u001b[36mminorminer._minorminer.find_embedding\u001b[39m\u001b[34m()\u001b[39m\n",
      "\u001b[31mKeyboardInterrupt\u001b[39m: embedding cancelled by keyboard interrupt"
     ]
    }
   ],
   "source": [
    "system = 1\n",
    "for solver in [\"5.4\"]:\n",
    "    print(f\"Solver {solver}\")\n",
    "    for i in range(0,5): # number of tests\n",
    "        print(f\"Iteration {i}\")\n",
    "        for timepoints in [3,4,5]:\n",
    "            for precision in [2]:\n",
    "                dw_result = get_sampleset(solver_id=solver, precision=precision,timepoints=timepoints,simplify=True)\n",
    "                file_name = f\"../data/results/pruned/{system}/{solver}/precision_{precision}_timepoints_{timepoints}_{i}.json\"\n",
    "                with open(file_name,'w') as f:\n",
    "                    json.dump(dw_result.to_serializable(),f)"
   ]
  },
  {
   "cell_type": "markdown",
   "metadata": {},
   "source": [
    "# Analyze"
   ]
  },
  {
   "cell_type": "code",
   "execution_count": null,
   "metadata": {},
   "outputs": [],
   "source": [
    "import os\n",
    "import re\n",
    "import pandas as pd\n",
    "import numpy as np\n"
   ]
  },
  {
   "cell_type": "code",
   "execution_count": 60,
   "metadata": {},
   "outputs": [],
   "source": [
    "import dimod.sampleset\n",
    "\n",
    "def load_data(pruned = True, precision_range=(2,5)):\n",
    "    if pruned:\n",
    "        path = '../data/results/pruned/1/5.4'\n",
    "\n",
    "    else:\n",
    "        path = '../data/results/notpruned/1/5.4'\n",
    "    files = os.listdir(path)\n",
    "    dfs = []\n",
    "\n",
    "    for topology in ['5.4']:\n",
    "        for precision in range(precision_range[0],precision_range[1]):\n",
    "            for timepoints in range(3,6):\n",
    "                regex = re.compile(rf'precision_{precision}_timepoints_{timepoints}')\n",
    "\n",
    "                precision_files = ([file for file in files if regex.search(file)])\n",
    "                samplesets = [dimod.SampleSet.from_serializable(json.load(open(os.path.join(path,f),'r'))) for f in precision_files]\n",
    "                samplesets = [s.to_pandas_dataframe()[['energy','num_occurrences']] for s in samplesets]\n",
    "                s = pd.concat(samplesets)\n",
    "                s['systemid'] = topology\n",
    "                s['precision'] = precision\n",
    "                s['timepoints'] = timepoints\n",
    "                #s['energy'] = round(s['energy']+ 0.49)\n",
    "                #s = s.groupby(['systemid', 'precision','timepoints','energy'])['num_occurrences'].sum() / s['num_occurrences'].sum()\n",
    "                #s = s.reset_index()\n",
    "                #s.rename(columns={'num_occurrences':'percentage_occurrences'},inplace=True)\n",
    "                dfs.append(s)\n",
    "\n",
    "\n",
    "    dfs_all = pd.concat(dfs)\n",
    "    return dfs_all"
   ]
  },
  {
   "cell_type": "code",
   "execution_count": 53,
   "metadata": {},
   "outputs": [],
   "source": [
    "dfs_all = load_data(pruned = True)\n",
    "dfs_all_rounded = dfs_all.copy()\n",
    "dfs_all_rounded['energy'] = round(dfs_all_rounded['energy'] +0.499) # for displaying in a histogram"
   ]
  },
  {
   "cell_type": "code",
   "execution_count": 54,
   "metadata": {},
   "outputs": [
    {
     "data": {
      "text/plain": [
       "systemid  precision  timepoints  energy \n",
       "5.4       2          3           0.0000      19\n",
       "                                 1.0000      96\n",
       "                                 2.0000     275\n",
       "                                 3.0000     583\n",
       "                                 4.0000     832\n",
       "                                           ... \n",
       "          4          5           67.0625      1\n",
       "                                 71.7500      1\n",
       "                                 73.8750      1\n",
       "                                 86.6250      1\n",
       "                                 89.5000      1\n",
       "Name: num_occurrences, Length: 2327, dtype: int64"
      ]
     },
     "execution_count": 54,
     "metadata": {},
     "output_type": "execute_result"
    }
   ],
   "source": [
    "dfs_grouped =dfs_all.groupby(['systemid', 'precision','timepoints','energy'])['num_occurrences'].sum()\n",
    "dfs_grouped_rounded = dfs_all_rounded.groupby(['systemid', 'precision','timepoints','energy'])['num_occurrences'].sum()\n",
    "dfs_grouped"
   ]
  },
  {
   "cell_type": "code",
   "execution_count": 77,
   "metadata": {},
   "outputs": [
    {
     "data": {
      "text/plain": [
       "<matplotlib.legend.Legend at 0x71629b722650>"
      ]
     },
     "execution_count": 77,
     "metadata": {},
     "output_type": "execute_result"
    },
    {
     "data": {
      "image/png": "[encoded data removed]",
      "text/plain": [
       "<Figure size 640x480 with 1 Axes>"
      ]
     },
     "metadata": {},
     "output_type": "display_data"
    }
   ],
   "source": [
    "for p in [2,3,4]:\n",
    "    df = dfs_grouped_rounded['5.4',p,3].reset_index()\n",
    "    plt.plot(df['energy'], df['num_occurrences'],label=f\"Precision {p}\")\n",
    "\n",
    "plt.xlabel('Energy')\n",
    "plt.ylabel('Num Occurences')\n",
    "plt.title(\"System 5.4 Timepoints = 3\")\n",
    "plt.legend()\n"
   ]
  },
  {
   "cell_type": "markdown",
   "metadata": {},
   "source": [
    "# Simplification ?"
   ]
  },
  {
   "cell_type": "code",
   "execution_count": 61,
   "metadata": {},
   "outputs": [
    {
     "data": {
      "application/vnd.microsoft.datawrangler.viewer.v0+json": {
       "columns": [
        {
         "name": "index",
         "rawType": "int64",
         "type": "integer"
        },
        {
         "name": "energy",
         "rawType": "float64",
         "type": "float"
        },
        {
         "name": "num_occurrences",
         "rawType": "int64",
         "type": "integer"
        },
        {
         "name": "systemid",
         "rawType": "object",
         "type": "string"
        },
        {
         "name": "precision",
         "rawType": "int64",
         "type": "integer"
        },
        {
         "name": "timepoints",
         "rawType": "int64",
         "type": "integer"
        }
       ],
       "conversionMethod": "pd.DataFrame",
       "ref": "74a2d4e2-e781-456f-a044-6b72d87f9605",
       "rows": [
        [
         "0",
         "1.0",
         "1",
         "5.4",
         "2",
         "3"
        ],
        [
         "1",
         "1.0",
         "1",
         "5.4",
         "2",
         "3"
        ],
        [
         "2",
         "1.0",
         "1",
         "5.4",
         "2",
         "3"
        ],
        [
         "3",
         "2.0",
         "1",
         "5.4",
         "2",
         "3"
        ],
        [
         "4",
         "2.0",
         "1",
         "5.4",
         "2",
         "3"
        ],
        [
         "5",
         "2.0",
         "1",
         "5.4",
         "2",
         "3"
        ],
        [
         "6",
         "2.0",
         "1",
         "5.4",
         "2",
         "3"
        ],
        [
         "7",
         "2.0",
         "1",
         "5.4",
         "2",
         "3"
        ],
        [
         "8",
         "2.0",
         "1",
         "5.4",
         "2",
         "3"
        ],
        [
         "9",
         "2.0",
         "1",
         "5.4",
         "2",
         "3"
        ],
        [
         "10",
         "2.0",
         "1",
         "5.4",
         "2",
         "3"
        ],
        [
         "11",
         "2.0",
         "1",
         "5.4",
         "2",
         "3"
        ],
        [
         "12",
         "2.0",
         "1",
         "5.4",
         "2",
         "3"
        ],
        [
         "13",
         "2.0",
         "1",
         "5.4",
         "2",
         "3"
        ],
        [
         "14",
         "2.0",
         "1",
         "5.4",
         "2",
         "3"
        ],
        [
         "15",
         "2.0",
         "1",
         "5.4",
         "2",
         "3"
        ],
        [
         "16",
         "2.0",
         "1",
         "5.4",
         "2",
         "3"
        ],
        [
         "17",
         "2.0",
         "1",
         "5.4",
         "2",
         "3"
        ],
        [
         "18",
         "2.0",
         "1",
         "5.4",
         "2",
         "3"
        ],
        [
         "19",
         "2.0",
         "1",
         "5.4",
         "2",
         "3"
        ],
        [
         "20",
         "2.0",
         "1",
         "5.4",
         "2",
         "3"
        ],
        [
         "21",
         "3.0",
         "1",
         "5.4",
         "2",
         "3"
        ],
        [
         "22",
         "3.0",
         "1",
         "5.4",
         "2",
         "3"
        ],
        [
         "23",
         "3.0",
         "1",
         "5.4",
         "2",
         "3"
        ],
        [
         "24",
         "3.0",
         "1",
         "5.4",
         "2",
         "3"
        ],
        [
         "25",
         "3.0",
         "1",
         "5.4",
         "2",
         "3"
        ],
        [
         "26",
         "3.0",
         "1",
         "5.4",
         "2",
         "3"
        ],
        [
         "27",
         "3.0",
         "1",
         "5.4",
         "2",
         "3"
        ],
        [
         "28",
         "3.0",
         "1",
         "5.4",
         "2",
         "3"
        ],
        [
         "29",
         "3.0",
         "1",
         "5.4",
         "2",
         "3"
        ],
        [
         "30",
         "3.0",
         "1",
         "5.4",
         "2",
         "3"
        ],
        [
         "31",
         "3.0",
         "1",
         "5.4",
         "2",
         "3"
        ],
        [
         "32",
         "3.0",
         "1",
         "5.4",
         "2",
         "3"
        ],
        [
         "33",
         "3.0",
         "1",
         "5.4",
         "2",
         "3"
        ],
        [
         "34",
         "3.0",
         "1",
         "5.4",
         "2",
         "3"
        ],
        [
         "35",
         "3.0",
         "1",
         "5.4",
         "2",
         "3"
        ],
        [
         "36",
         "3.0",
         "1",
         "5.4",
         "2",
         "3"
        ],
        [
         "37",
         "3.0",
         "1",
         "5.4",
         "2",
         "3"
        ],
        [
         "38",
         "3.0",
         "1",
         "5.4",
         "2",
         "3"
        ],
        [
         "39",
         "3.0",
         "1",
         "5.4",
         "2",
         "3"
        ],
        [
         "40",
         "3.0",
         "1",
         "5.4",
         "2",
         "3"
        ],
        [
         "41",
         "3.0",
         "1",
         "5.4",
         "2",
         "3"
        ],
        [
         "42",
         "3.0",
         "2",
         "5.4",
         "2",
         "3"
        ],
        [
         "43",
         "3.0",
         "1",
         "5.4",
         "2",
         "3"
        ],
        [
         "44",
         "3.0",
         "1",
         "5.4",
         "2",
         "3"
        ],
        [
         "45",
         "3.0",
         "2",
         "5.4",
         "2",
         "3"
        ],
        [
         "46",
         "3.0",
         "1",
         "5.4",
         "2",
         "3"
        ],
        [
         "47",
         "3.0",
         "1",
         "5.4",
         "2",
         "3"
        ],
        [
         "48",
         "3.0",
         "1",
         "5.4",
         "2",
         "3"
        ],
        [
         "49",
         "3.0",
         "2",
         "5.4",
         "2",
         "3"
        ]
       ],
       "shape": {
        "columns": 5,
        "rows": 13783
       }
      },
      "text/html": [
       "<div>\n",
       "<style scoped>\n",
       "    .dataframe tbody tr th:only-of-type {\n",
       "        vertical-align: middle;\n",
       "    }\n",
       "\n",
       "    .dataframe tbody tr th {\n",
       "        vertical-align: top;\n",
       "    }\n",
       "\n",
       "    .dataframe thead th {\n",
       "        text-align: right;\n",
       "    }\n",
       "</style>\n",
       "<table border=\"1\" class=\"dataframe\">\n",
       "  <thead>\n",
       "    <tr style=\"text-align: right;\">\n",
       "      <th></th>\n",
       "      <th>energy</th>\n",
       "      <th>num_occurrences</th>\n",
       "      <th>systemid</th>\n",
       "      <th>precision</th>\n",
       "      <th>timepoints</th>\n",
       "    </tr>\n",
       "  </thead>\n",
       "  <tbody>\n",
       "    <tr>\n",
       "      <th>0</th>\n",
       "      <td>1.0</td>\n",
       "      <td>1</td>\n",
       "      <td>5.4</td>\n",
       "      <td>2</td>\n",
       "      <td>3</td>\n",
       "    </tr>\n",
       "    <tr>\n",
       "      <th>1</th>\n",
       "      <td>1.0</td>\n",
       "      <td>1</td>\n",
       "      <td>5.4</td>\n",
       "      <td>2</td>\n",
       "      <td>3</td>\n",
       "    </tr>\n",
       "    <tr>\n",
       "      <th>2</th>\n",
       "      <td>1.0</td>\n",
       "      <td>1</td>\n",
       "      <td>5.4</td>\n",
       "      <td>2</td>\n",
       "      <td>3</td>\n",
       "    </tr>\n",
       "    <tr>\n",
       "      <th>3</th>\n",
       "      <td>2.0</td>\n",
       "      <td>1</td>\n",
       "      <td>5.4</td>\n",
       "      <td>2</td>\n",
       "      <td>3</td>\n",
       "    </tr>\n",
       "    <tr>\n",
       "      <th>4</th>\n",
       "      <td>2.0</td>\n",
       "      <td>1</td>\n",
       "      <td>5.4</td>\n",
       "      <td>2</td>\n",
       "      <td>3</td>\n",
       "    </tr>\n",
       "    <tr>\n",
       "      <th>...</th>\n",
       "      <td>...</td>\n",
       "      <td>...</td>\n",
       "      <td>...</td>\n",
       "      <td>...</td>\n",
       "      <td>...</td>\n",
       "    </tr>\n",
       "    <tr>\n",
       "      <th>995</th>\n",
       "      <td>20.0</td>\n",
       "      <td>1</td>\n",
       "      <td>5.4</td>\n",
       "      <td>2</td>\n",
       "      <td>5</td>\n",
       "    </tr>\n",
       "    <tr>\n",
       "      <th>996</th>\n",
       "      <td>29.0</td>\n",
       "      <td>1</td>\n",
       "      <td>5.4</td>\n",
       "      <td>2</td>\n",
       "      <td>5</td>\n",
       "    </tr>\n",
       "    <tr>\n",
       "      <th>997</th>\n",
       "      <td>22.0</td>\n",
       "      <td>1</td>\n",
       "      <td>5.4</td>\n",
       "      <td>2</td>\n",
       "      <td>5</td>\n",
       "    </tr>\n",
       "    <tr>\n",
       "      <th>998</th>\n",
       "      <td>52.0</td>\n",
       "      <td>1</td>\n",
       "      <td>5.4</td>\n",
       "      <td>2</td>\n",
       "      <td>5</td>\n",
       "    </tr>\n",
       "    <tr>\n",
       "      <th>999</th>\n",
       "      <td>34.0</td>\n",
       "      <td>1</td>\n",
       "      <td>5.4</td>\n",
       "      <td>2</td>\n",
       "      <td>5</td>\n",
       "    </tr>\n",
       "  </tbody>\n",
       "</table>\n",
       "<p>13783 rows × 5 columns</p>\n",
       "</div>"
      ],
      "text/plain": [
       "     energy  num_occurrences systemid  precision  timepoints\n",
       "0       1.0                1      5.4          2           3\n",
       "1       1.0                1      5.4          2           3\n",
       "2       1.0                1      5.4          2           3\n",
       "3       2.0                1      5.4          2           3\n",
       "4       2.0                1      5.4          2           3\n",
       "..      ...              ...      ...        ...         ...\n",
       "995    20.0                1      5.4          2           5\n",
       "996    29.0                1      5.4          2           5\n",
       "997    22.0                1      5.4          2           5\n",
       "998    52.0                1      5.4          2           5\n",
       "999    34.0                1      5.4          2           5\n",
       "\n",
       "[13783 rows x 5 columns]"
      ]
     },
     "execution_count": 61,
     "metadata": {},
     "output_type": "execute_result"
    }
   ],
   "source": [
    "dfs_not_pruned = load_data(pruned=False,precision_range=(2,3))\n",
    "dfs_not_pruned"
   ]
  },
  {
   "cell_type": "code",
   "execution_count": 64,
   "metadata": {},
   "outputs": [
    {
     "data": {
      "text/plain": [
       "systemid  precision  timepoints  energy\n",
       "5.4       2          3           0.0         2\n",
       "                                 1.0        26\n",
       "                                 2.0        86\n",
       "                                 3.0       221\n",
       "                                 4.0       344\n",
       "                                          ... \n",
       "                     5           54.0        4\n",
       "                                 57.0        1\n",
       "                                 58.0        1\n",
       "                                 60.0        1\n",
       "                                 64.0        1\n",
       "Name: num_occurrences, Length: 136, dtype: int64"
      ]
     },
     "execution_count": 64,
     "metadata": {},
     "output_type": "execute_result"
    }
   ],
   "source": [
    "dfs_not_pruned['energy'] = round(dfs_not_pruned['energy'] +0.499) # for displaying in a histogram\n",
    "dfs_not_pruned = dfs_not_pruned.groupby(['systemid', 'precision','timepoints','energy'])['num_occurrences'].sum()\n",
    "dfs_not_pruned"
   ]
  },
  {
   "cell_type": "code",
   "execution_count": 75,
   "metadata": {},
   "outputs": [
    {
     "data": {
      "text/plain": [
       "(0.0, 10.0)"
      ]
     },
     "execution_count": 75,
     "metadata": {},
     "output_type": "execute_result"
    },
    {
     "data": {
      "image/png": "[encoded data removed]",
      "text/plain": [
       "<Figure size 640x480 with 1 Axes>"
      ]
     },
     "metadata": {},
     "output_type": "display_data"
    }
   ],
   "source": [
    "#plt.plot(dfs_not_pruned['energy'],dfs_not_pruned['num_occurrences'],label=\"Full graph\",marker='o')\n",
    "plt.plot(dfs_grouped['5.4',2,3],label=\"Pruned\",marker='x')\n",
    "plt.plot(dfs_not_pruned['5.4',2,3],label=\"Initial\",marker='o')\n",
    "\n",
    "plt.xlabel('Energy')\n",
    "plt.title(\"Initial Graph vs Pruned Graph on 5.4 for precision = 2 and timepoints = 3\")\n",
    "plt.ylabel('Num Occurences')\n",
    "plt.legend()\n",
    "\n",
    "plt.xlim(0,10)"
   ]
  },
  {
   "cell_type": "markdown",
   "metadata": {},
   "source": [
    "-more qubits\n",
    "-pt symmetric eq 12 paper\n",
    "- include specific machine"
   ]
  }
 ],
 "metadata": {
  "kernelspec": {
   "display_name": ".venv",
   "language": "python",
   "name": "python3"
  },
  "language_info": {
   "codemirror_mode": {
    "name": "ipython",
    "version": 3
   },
   "file_extension": ".py",
   "mimetype": "text/x-python",
   "name": "python",
   "nbconvert_exporter": "python",
   "pygments_lexer": "ipython3",
   "version": "3.11.0rc1"
  }
 },
 "nbformat": 4,
 "nbformat_minor": 2
}
