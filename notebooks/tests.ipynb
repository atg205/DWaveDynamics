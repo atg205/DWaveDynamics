{
 "cells": [
  {
   "cell_type": "markdown",
   "metadata": {},
   "source": [
    "# Tests"
   ]
  },
  {
   "cell_type": "code",
   "execution_count": 26,
   "metadata": {},
   "outputs": [],
   "source": [
    "import numpy as np\n",
    "import networkx as nx\n",
    "from dwdynamics import ComplexDynamicsProblem, Objective # Difference a. We are using ComplexDynamicsProblem\n",
    "import dimod\n",
    "import matplotlib.pyplot as plt\n",
    "import json\n",
    "import os\n",
    "import minorminer\n",
    "from dwave_networkx.generators.pegasus import (get_tuple_defragmentation_fn, fragmented_edges,\n",
    "    pegasus_coordinates, pegasus_graph)\n",
    "from dwave.system import DWaveSampler, EmbeddingComposite"
   ]
  },
  {
   "cell_type": "code",
   "execution_count": 27,
   "metadata": {},
   "outputs": [],
   "source": [
    "def get_sampleset(topology, precision):\n",
    "    # We simulate evolution under the Hamiltonian 1/2 pi * Sigma_y...\n",
    "    SY = np.array([[0, -1.0j], [1.0j, 0.0]])\n",
    "    PSI0 = np.array([1, 0], dtype=np.complex128)  # Difference b. Initial state can now be complex.\n",
    "\n",
    "    # The problem object encapsulates all the data so you don't have to pass them around\n",
    "    problem = ComplexDynamicsProblem(\n",
    "        hamiltonian=0.5 * np.pi * SY,      # Evolution under hamiltonian 0.5 * np.pi * sigma_y\n",
    "        initial_state = PSI0,              # Starting at initial state |0>,\n",
    "        times=tuple(range(3)),             # With six time points 0,1,2\n",
    "        num_bits_per_var=precision                # And two bits of precision per variable\n",
    "    )\n",
    "    qubo = problem.qubo(objective=Objective.norm)  # Other choice would be to use Objective.hessian\n",
    "    num_int = qubo.num_interactions + 1\n",
    "\n",
    "    while (num_int > qubo.num_interactions):\n",
    "        num_int = qubo.num_interactions\n",
    "        for key,value in qubo.quadratic.items():\n",
    "            if value == 0:\n",
    "                qubo.remove_interaction(key[0],key[1])\n",
    "\n",
    "            \n",
    "    assert qubo.num_variables == problem.hamiltonian.shape[0] * len(problem.times) * problem.num_bits_per_var * 2\n",
    "\n",
    "\n",
    "\n",
    "    DW_TOKEN = os.getenv(\"DW_TOKEN\")  # <- Place your token here, or use DW_TOKEN env variable, or configure D-Wave libraries to use config file\n",
    "\n",
    "\n",
    "    # The graph fo the problem is pretty dense, we use automatic embedding to mitigate the incompatibility with actual machine\n",
    "    dw_sampler = EmbeddingComposite(DWaveSampler(solver={'topology__type': topology}))\n",
    "\n",
    "\n",
    "    dw_result = dw_sampler.sample(qubo, num_reads=1000, annealing_time=200)\n",
    "\n",
    "    dw_result.first.energy\n",
    "    return dw_result\n",
    "\n"
   ]
  },
  {
   "cell_type": "code",
   "execution_count": 31,
   "metadata": {},
   "outputs": [],
   "source": [
    "for i in range(0,5):\n",
    "    topology = 'pegasus'\n",
    "    for precision in [2,3,4]:\n",
    "\n",
    "        dw_result = get_sampleset(topology, precision)\n",
    "        file_name = f\"../data/{topology}_{precision}_{i}.json\"\n",
    "        with open(file_name,'w') as f:\n",
    "            json.dump(dw_result.to_serializable(),f)"
   ]
  },
  {
   "cell_type": "markdown",
   "metadata": {},
   "source": [
    "# Analyze"
   ]
  },
  {
   "cell_type": "code",
   "execution_count": 39,
   "metadata": {},
   "outputs": [],
   "source": [
    "import os\n",
    "import re\n",
    "import pandas as pd\n",
    "files = os.listdir('../data')"
   ]
  },
  {
   "cell_type": "code",
   "execution_count": 74,
   "metadata": {},
   "outputs": [],
   "source": [
    "import dimod.sampleset\n",
    "\n",
    "dfs = []\n",
    "\n",
    "for topology in ['pegasus', 'zephyr']:\n",
    "    for i in range(2,5):\n",
    "        regex = re.compile(rf'{topology}_{i}_')\n",
    "\n",
    "        precision_files = ([file for file in files if regex.search(file)])\n",
    "        samplesets = [dimod.SampleSet.from_serializable(json.load(open(f'../data/{f}','r'))) for f in precision_files]\n",
    "        samplesets = [s.to_pandas_dataframe()[['energy','num_occurrences']] for s in samplesets]\n",
    "        s = pd.concat(samplesets)\n",
    "        s['topology'] = topology\n",
    "        s['precision'] = i\n",
    "        dfs.append(s)\n",
    "\n",
    "\n",
    "dfs_all = pd.concat(dfs)"
   ]
  },
  {
   "cell_type": "code",
   "execution_count": 81,
   "metadata": {},
   "outputs": [
    {
     "data": {
      "text/plain": [
       "energy\n",
       "0.0       6\n",
       "1.0      65\n",
       "2.0     195\n",
       "3.0     415\n",
       "4.0     685\n",
       "5.0     787\n",
       "6.0     740\n",
       "7.0     607\n",
       "8.0     443\n",
       "9.0     332\n",
       "10.0    253\n",
       "11.0    153\n",
       "12.0    111\n",
       "13.0     72\n",
       "14.0     54\n",
       "15.0     32\n",
       "16.0     15\n",
       "17.0      8\n",
       "18.0      5\n",
       "19.0      6\n",
       "20.0      3\n",
       "21.0      2\n",
       "22.0      2\n",
       "23.0      1\n",
       "24.0      2\n",
       "25.0      1\n",
       "27.0      1\n",
       "29.0      2\n",
       "35.0      1\n",
       "39.0      1\n",
       "Name: num_occurrences, dtype: int64"
      ]
     },
     "execution_count": 81,
     "metadata": {},
     "output_type": "execute_result"
    }
   ],
   "source": [
    "dfs_grouped =dfs_all.groupby(['topology', 'precision','energy'])['num_occurrences'].sum()\n",
    "dfs_grouped['pegasus',2]"
   ]
  },
  {
   "cell_type": "code",
   "execution_count": null,
   "metadata": {},
   "outputs": [],
   "source": []
  }
 ],
 "metadata": {
  "kernelspec": {
   "display_name": ".venv",
   "language": "python",
   "name": "python3"
  },
  "language_info": {
   "codemirror_mode": {
    "name": "ipython",
    "version": 3
   },
   "file_extension": ".py",
   "mimetype": "text/x-python",
   "name": "python",
   "nbconvert_exporter": "python",
   "pygments_lexer": "ipython3",
   "version": "3.11.0rc1"
  }
 },
 "nbformat": 4,
 "nbformat_minor": 2
}
