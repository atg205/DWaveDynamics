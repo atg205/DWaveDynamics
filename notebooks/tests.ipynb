{
 "cells": [
  {
   "cell_type": "code",
   "execution_count": 1,
   "metadata": {},
   "outputs": [],
   "source": [
    "# Tests"
   ]
  },
  {
   "cell_type": "code",
   "execution_count": null,
   "metadata": {},
   "outputs": [],
   "source": [
    "import numpy as np\n",
    "import networkx as nx\n",
    "from dwdynamics import ComplexDynamicsProblem, Objective # Difference a. We are using ComplexDynamicsProblem\n",
    "import dimod\n",
    "import matplotlib.pyplot as plt\n",
    "\n",
    "import os\n",
    "import minorminer\n",
    "from dwave_networkx.generators.pegasus import (get_tuple_defragmentation_fn, fragmented_edges,\n",
    "    pegasus_coordinates, pegasus_graph)\n",
    "from dwave.system import DWaveSampler, EmbeddingComposite"
   ]
  },
  {
   "cell_type": "code",
   "execution_count": null,
   "metadata": {},
   "outputs": [],
   "source": [
    "# We simulate evolution under the Hamiltonian 1/2 pi * Sigma_y...\n",
    "SY = np.array([[0, -1.0j], [1.0j, 0.0]])\n",
    "PSI0 = np.array([1, 0], dtype=np.complex128)  # Difference b. Initial state can now be complex.\n",
    "\n",
    "# The problem object encapsulates all the data so you don't have to pass them around\n",
    "problem = ComplexDynamicsProblem(\n",
    "    hamiltonian=0.5 * np.pi * SY,      # Evolution under hamiltonian 0.5 * np.pi * sigma_y\n",
    "    initial_state = PSI0,              # Starting at initial state |0>,\n",
    "    times=tuple(range(3)),             # With six time points 0,1,2\n",
    "    num_bits_per_var=3                # And two bits of precision per variable\n",
    ")\n",
    "qubo = problem.qubo(objective=Objective.norm)  # Other choice would be to use Objective.hessian\n",
    "num_int = qubo.num_interactions + 1\n",
    "\n",
    "while (num_int > qubo.num_interactions):\n",
    "    num_int = qubo.num_interactions\n",
    "    for key,value in qubo.quadratic.items():\n",
    "        if value == 0:\n",
    "            qubo.remove_interaction(key[0],key[1])\n",
    "\n",
    "        \n",
    "assert qubo.num_variables == problem.hamiltonian.shape[0] * len(problem.times) * problem.num_bits_per_var * 2\n",
    "\n",
    "\n",
    "\n",
    "DW_TOKEN = os.getenv(\"DW_TOKEN\")  # <- Place your token here, or use DW_TOKEN env variable, or configure D-Wave libraries to use config file\n",
    "\n",
    "\n",
    "# The graph fo the problem is pretty dense, we use automatic embedding to mitigate the incompatibility with actual machine\n",
    "dw_sampler = EmbeddingComposite(DWaveSampler(solver={'topology__type': 'zephyr'}))\n",
    "\n",
    "\n",
    "dw_result = dw_sampler.sample(qubo, num_reads=1000, annealing_time=200)\n",
    "\n",
    "dw_result.first.energy\n",
    "\n"
   ]
  }
 ],
 "metadata": {
  "kernelspec": {
   "display_name": ".venv",
   "language": "python",
   "name": "python3"
  },
  "language_info": {
   "codemirror_mode": {
    "name": "ipython",
    "version": 3
   },
   "file_extension": ".py",
   "mimetype": "text/x-python",
   "name": "python",
   "nbconvert_exporter": "python",
   "pygments_lexer": "ipython3",
   "version": "3.11.0rc1"
  }
 },
 "nbformat": 4,
 "nbformat_minor": 2
}
