{
 "cells": [
  {
   "cell_type": "code",
   "execution_count": 50,
   "id": "b6f6bbc6",
   "metadata": {},
   "outputs": [],
   "source": [
    "# Import required libraries\n",
    "import numpy as np\n",
    "from dwdynamics.instance import Instance, Objective\n",
    "from dwave.system import DWaveSampler, EmbeddingComposite\n",
    "from dwave.inspector import show\n",
    "from dwdynamics import ComplexDynamicsProblem\n",
    "import qutip as qp\n",
    "import scipy as sp\n",
    "import matplotlib.pyplot as plt"
   ]
  },
  {
   "cell_type": "code",
   "execution_count": 27,
   "id": "b4c3d14d",
   "metadata": {},
   "outputs": [
    {
     "name": "stdout",
     "output_type": "stream",
     "text": [
      "(2, 2)\n",
      "4\n"
     ]
    }
   ],
   "source": [
    "# Create a specific instance (e.g., instance_id=1, precision=3, number_time_points=3)\n",
    "inst = Instance(instance_id=1)\n",
    "inst.create_instance(precision=2, number_time_points=1)\n",
    "\n",
    "# Retrieve and manipulate the clock\n",
    "problem = inst.problem\n",
    "clock = problem.get_clock()\n",
    "\n",
    "\n",
    "    \n",
    "\n",
    "\n",
    "clock\n",
    "print(clock.shape)\n",
    "# Set the modified clock back to the problem\n",
    "problem_mod = problem.set_clock(clock)\n",
    "inst.problem = problem_mod\n",
    "inst.qubo = inst.problem.qubo(objective=inst.objective)\n",
    "print(inst.qubo.num_interactions)\n"
   ]
  },
  {
   "cell_type": "code",
   "execution_count": 28,
   "id": "827d4e4f",
   "metadata": {},
   "outputs": [],
   "source": [
    "\n",
    "# Run the QUBO on the D-Wave sampler\n",
    "sampler = EmbeddingComposite(DWaveSampler(solver=\"Advantage_system6.4\"))\n",
    "#sampleset = sampler.sample(inst.qubo, num_reads=1, annealing_time=1,return_embedding=True)\n",
    "\n",
    "# Display the sampleset using dwave-inspector\n",
    "#show(sampleset)"
   ]
  },
  {
   "cell_type": "code",
   "execution_count": 29,
   "id": "f97555fe",
   "metadata": {},
   "outputs": [
    {
     "name": "stdout",
     "output_type": "stream",
     "text": [
      "Hermitienne : True\n",
      "Unitaire : False\n"
     ]
    }
   ],
   "source": [
    "import numpy as np\n",
    "\n",
    "U = np.array([\n",
    "    [0,             0.5+0.5j,  0.5-0.5j,  0],\n",
    "    [0.5-0.5j,      0,         0,         0.5+0.5j],\n",
    "    [0.5+0.5j,      0,         0,        -0.5+0.5j],\n",
    "    [0,             0.5-0.5j, -0.5-0.5j,  0]\n",
    "], dtype=complex)\n",
    "\n",
    "# Vérifier hermitienne\n",
    "is_hermitian = np.allclose(U, U.conj().T)\n",
    "\n",
    "# Vérifier unitaire\n",
    "is_unitary = np.allclose(U @ U.conj().T, np.eye(4))\n",
    "\n",
    "print(\"Hermitienne :\", is_hermitian)\n",
    "print(\"Unitaire :\", is_unitary)\n"
   ]
  },
  {
   "cell_type": "code",
   "execution_count": 59,
   "id": "8d4da9f0",
   "metadata": {},
   "outputs": [
    {
     "data": {
      "text/plain": [
       "array([[ 0.00000000e+00-5.00000000e-01j,  5.00000000e-01+0.00000000e+00j,\n",
       "         5.55111512e-17+0.00000000e+00j, -5.00000000e-01+5.00000000e-01j],\n",
       "       [-5.00000000e-01-9.25185854e-18j,  0.00000000e+00+5.00000000e-01j,\n",
       "        -5.00000000e-01+5.00000000e-01j,  2.77555756e-17-1.38777878e-17j],\n",
       "       [-5.55111512e-17-2.77555756e-17j,  5.00000000e-01+5.00000000e-01j,\n",
       "         2.22044605e-16-5.00000000e-01j,  5.00000000e-01-5.55111512e-17j],\n",
       "       [ 5.00000000e-01+5.00000000e-01j,  4.31365603e-17+2.15682801e-17j,\n",
       "        -5.00000000e-01-8.32667268e-17j,  0.00000000e+00+5.00000000e-01j]])"
      ]
     },
     "execution_count": 59,
     "metadata": {},
     "output_type": "execute_result"
    }
   ],
   "source": [
    "# Define the unitary matrix V\n",
    "sigma_x = np.array([[0,1],[1,0]])\n",
    "sigma_y = np.array([[0,-1j],[1j,0]])\n",
    "sigma_z = np.array([[1,0],[0,-1]])\n",
    "#V =1/np.sqrt(2)*np.kron(sigma_x,sigma_y)\n",
    "V = 1/np.sqrt(2)*(sigma_y+sigma_z)\n",
    "# Define the diagonal matrix D with eigenvalues (0.5, 1.0, 1.5, 2.0)\n",
    "D = np.diag([0.25,0.5])\n",
    "\n",
    "# Compute H = V D V†\n",
    "#H = np.pi/2*sigma_y\n",
    "\n",
    "H =np.pi/2* np.array([\n",
    "    [-0.5+0.j,   -0.-0.5j,  0.+0.j,    0.5+0.5j],\n",
    "    [-0.+0.5j,   0.5+0.j,   0.5+0.5j,  0.+0.j ],\n",
    "    [ 0.-0.j,    0.5-0.5j, -0.5+0.j,  -0.-0.5j],\n",
    "    [ 0.5-0.5j,  0.-0.j,  -0.+0.5j,   0.5+0.j ]\n",
    "], dtype=complex)\n",
    "#H = 2*np.pi*V @ D @ V.conj().T\n",
    "eo =sp.linalg.expm(H*1.0j)\n",
    "np.allclose(eo@eo.conj().T,np.eye(eo.shape[0]))\n",
    "eo\n",
    "#H = 1/np.sqrt(3) *(sigma_x+sigma_y+sigma_z)\n",
    "eo"
   ]
  },
  {
   "cell_type": "code",
   "execution_count": null,
   "id": "0ff95cfa",
   "metadata": {},
   "outputs": [],
   "source": []
  },
  {
   "cell_type": "code",
   "execution_count": 60,
   "id": "0e96c29a",
   "metadata": {},
   "outputs": [
    {
     "name": "stdout",
     "output_type": "stream",
     "text": [
      "[[ 0.00000000e+00+5.00000000e-01j -5.00000000e-01+0.00000000e+00j\n",
      "   0.00000000e+00-5.55111512e-17j  5.00000000e-01-5.00000000e-01j]\n",
      " [ 5.00000000e-01-9.25185854e-18j  0.00000000e+00-5.00000000e-01j\n",
      "   5.00000000e-01-5.00000000e-01j  1.38777878e-17-2.77555756e-17j]\n",
      " [-2.77555756e-17-5.55111512e-17j -5.00000000e-01-5.00000000e-01j\n",
      "   2.22044605e-16+5.00000000e-01j -5.00000000e-01-5.55111512e-17j]\n",
      " [-5.00000000e-01-5.00000000e-01j  2.15682801e-17+4.31365603e-17j\n",
      "   5.00000000e-01-8.32667268e-17j  0.00000000e+00-5.00000000e-01j]]\n",
      "[[ 0.00000000e+00+5.00000000e-01j -5.00000000e-01+0.00000000e+00j\n",
      "   0.00000000e+00-5.55111512e-17j  5.00000000e-01-5.00000000e-01j]\n",
      " [ 5.00000000e-01-9.25185854e-18j  0.00000000e+00-5.00000000e-01j\n",
      "   5.00000000e-01-5.00000000e-01j  1.38777878e-17-2.77555756e-17j]\n",
      " [-2.77555756e-17-5.55111512e-17j -5.00000000e-01-5.00000000e-01j\n",
      "   2.22044605e-16+5.00000000e-01j -5.00000000e-01-5.55111512e-17j]\n",
      " [-5.00000000e-01-5.00000000e-01j  2.15682801e-17+4.31365603e-17j\n",
      "   5.00000000e-01-8.32667268e-17j  0.00000000e+00-5.00000000e-01j]]\n"
     ]
    },
    {
     "data": {
      "text/plain": [
       "48"
      ]
     },
     "execution_count": 60,
     "metadata": {},
     "output_type": "execute_result"
    }
   ],
   "source": [
    "problem = ComplexDynamicsProblem(\n",
    "    hamiltonian= H,      # Evolution under hamiltonian 0.5 * np.pi * sigma_y\n",
    "    initial_state = np.array([1,0,0,0]),              # Starting at initial state |0>,\n",
    "    times=tuple(range(2)),             # With six time points 0,1,2\n",
    "    num_bits_per_var=3,\n",
    "    \n",
    ")\n",
    "qubo =problem.qubo(objective=Objective.hessian)\n",
    "problem.get_clock()\n",
    "qubo.num_variables"
   ]
  },
  {
   "cell_type": "code",
   "execution_count": 37,
   "id": "ae402225",
   "metadata": {},
   "outputs": [
    {
     "data": {
      "text/plain": [
       "np.float64(2.7755575615628914e-16)"
      ]
     },
     "execution_count": 37,
     "metadata": {},
     "output_type": "execute_result"
    }
   ],
   "source": [
    "from dimod import ExactSolver\n",
    "\n",
    "exact_solver = ExactSolver()\n",
    "\n",
    "exact_result = exact_solver.sample(qubo)\n",
    "exact_result.first.energy"
   ]
  },
  {
   "cell_type": "code",
   "execution_count": 89,
   "id": "c1862c07",
   "metadata": {},
   "outputs": [
    {
     "data": {
      "text/html": [
       "<iframe src=http://127.0.0.1:18000/?problemId=59091bd4-7e95-4548-8a2d-a1e6521d6dc9 width=\"100%\" height=640></iframe>"
      ],
      "text/plain": [
       "Serving Inspector on http://127.0.0.1:18000/?problemId=59091bd4-7e95-4548-8a2d-a1e6521d6dc9"
      ]
     },
     "metadata": {},
     "output_type": "display_data"
    },
    {
     "data": {
      "text/plain": [
       "'http://127.0.0.1:18000/?problemId=59091bd4-7e95-4548-8a2d-a1e6521d6dc9'"
      ]
     },
     "execution_count": 89,
     "metadata": {},
     "output_type": "execute_result"
    }
   ],
   "source": [
    "#Run the QUBO on the D-Wave sampler\n",
    "sampler = EmbeddingComposite(DWaveSampler(solver=\"Advantage_system6.4\"))\n",
    "sampleset = sampler.sample(qubo, num_reads=1000, annealing_time=200,return_embedding=True)\n",
    "\n",
    "# Display the sampleset using dwave-inspector\n",
    "show(sampleset)"
   ]
  },
  {
   "cell_type": "code",
   "execution_count": 74,
   "id": "f1ed395b",
   "metadata": {},
   "outputs": [
    {
     "data": {
      "text/plain": [
       "array([[ 1. +0.j ,  0.5+0.j ,  0. +0.j ,  0.5+0.j ],\n",
       "       [ 0. +0.j ,  0. +0.j , -1. +0.5j, -0.5+0.5j]])"
      ]
     },
     "execution_count": 74,
     "metadata": {},
     "output_type": "execute_result"
    }
   ],
   "source": [
    "problem.interpret_sample(sampleset.first.sample)"
   ]
  },
  {
   "cell_type": "code",
   "execution_count": 86,
   "id": "c47bc320",
   "metadata": {},
   "outputs": [
    {
     "data": {
      "text/plain": [
       "array([[-0.78539816+0.j        ,  0.        -0.78539816j,\n",
       "         0.        +0.j        ,  0.78539816+0.78539816j],\n",
       "       [ 0.        +0.78539816j,  0.78539816+0.j        ,\n",
       "         0.78539816+0.78539816j,  0.        +0.j        ],\n",
       "       [ 0.        +0.j        ,  0.78539816-0.78539816j,\n",
       "        -0.78539816+0.j        ,  0.        -0.78539816j],\n",
       "       [ 0.78539816-0.78539816j,  0.        +0.j        ,\n",
       "         0.        +0.78539816j,  0.78539816+0.j        ]])"
      ]
     },
     "execution_count": 86,
     "metadata": {},
     "output_type": "execute_result"
    }
   ],
   "source": [
    "problem.hamiltonian"
   ]
  },
  {
   "cell_type": "code",
   "execution_count": 88,
   "id": "52a6a45c",
   "metadata": {},
   "outputs": [
    {
     "data": {
      "text/plain": [
       "[<matplotlib.lines.Line2D at 0x7cdf406b34d0>]"
      ]
     },
     "execution_count": 88,
     "metadata": {},
     "output_type": "execute_result"
    },
    {
     "data": {
      "image/png": "[encoded data removed]",
      "text/plain": [
       "<Figure size 640x480 with 1 Axes>"
      ]
     },
     "metadata": {},
     "output_type": "display_data"
    }
   ],
   "source": [
    "times = np.linspace(0, 4, 100)\n",
    "\n",
    "dw_vec = problem.interpret_sample(sampleset.first.sample)\n",
    "dw_expect = [(state.conj() @ np.kron(sigma_z,np.eye(2)) @ state).real for state in dw_vec]\n",
    "H = qp.Qobj(np.array(problem.hamiltonian, dtype=complex), dims=[[2, 2], [2, 2]])\n",
    "psi0 = qp.Qobj([1, 0, 0, 0], dims=[[2, 2], [1, 1]])\n",
    "times = np.linspace(0, 4, 100)\n",
    "\n",
    "zz = qp.tensor(qp.sigmaz(), qp.sigmaz())\n",
    "\n",
    "result = qp.mesolve(H, psi0, times, e_ops=[zz])\n",
    "baseline = result.expect[0]\n",
    "\n",
    "plt.scatter([0,1], dw_expect, marker=\"s\", lw=2, s=200, label=\"D-Wave sampler\")\n",
    "plt.plot(times, baseline, \"k--\", label=\"QuTiP (baseline)\")"
   ]
  }
 ],
 "metadata": {
  "kernelspec": {
   "display_name": ".venv",
   "language": "python",
   "name": "python3"
  },
  "language_info": {
   "codemirror_mode": {
    "name": "ipython",
    "version": 3
   },
   "file_extension": ".py",
   "mimetype": "text/x-python",
   "name": "python",
   "nbconvert_exporter": "python",
   "pygments_lexer": "ipython3",
   "version": "3.13.3"
  }
 },
 "nbformat": 4,
 "nbformat_minor": 5
}
