{
 "cells": [
  {
   "cell_type": "markdown",
   "id": "5f28d654",
   "metadata": {},
   "source": [
    "# PT Symmetric 2 qubit matrices"
   ]
  },
  {
   "cell_type": "code",
   "execution_count": 20,
   "id": "e23b73c0",
   "metadata": {},
   "outputs": [],
   "source": [
    "import numpy as np\n",
    "from dwdynamics import helpers\n",
    "import tqdm\n",
    "import scipy as sp\n",
    "from pprint import pprint"
   ]
  },
  {
   "cell_type": "code",
   "execution_count": 28,
   "id": "f7e719c1",
   "metadata": {},
   "outputs": [
    {
     "name": "stdout",
     "output_type": "stream",
     "text": [
      "matrix([[ 0.        +0.47942554j,  1.11803399+0.j        ,\n",
      "          1.        +0.j        ,  0.        +0.j        ],\n",
      "        [ 1.11803399+0.j        , -0.        -0.47942554j,\n",
      "          0.        +0.j        ,  1.        +0.j        ],\n",
      "        [ 1.        +0.j        ,  0.        +0.j        ,\n",
      "          0.        +0.47942554j,  1.11803399+0.j        ],\n",
      "        [ 0.        +0.j        ,  1.        +0.j        ,\n",
      "          1.11803399+0.j        ,  0.        -0.47942554j]])\n",
      "False\n"
     ]
    },
    {
     "data": {
      "text/plain": [
       "array([8.88178420e-16-6.31468079j, 8.88178420e-16+6.31468079j,\n",
       "       5.17150146e-16-0.03149548j, 8.06656017e-16+0.03149548j])"
      ]
     },
     "execution_count": 28,
     "metadata": {},
     "output_type": "execute_result"
    }
   ],
   "source": [
    "sigma_x = np.array([[0,1],[1,0]])\n",
    "\n",
    "\n",
    "A = [helpers.generate_pt_symmetric_real_eig(0.5),np.eye(2)]\n",
    "H = np.block([\n",
    "    [A[0], A[1]],\n",
    "    [sigma_x @ A[1].conj() @ sigma_x, sigma_x @ A[0].conj() @ sigma_x]\n",
    "])\n",
    "pprint(H)\n",
    "print(sp.linalg.ishermitian(H))\n",
    "sp.linalg.eigvals(H*np.pi*1.0j)"
   ]
  },
  {
   "cell_type": "code",
   "execution_count": 30,
   "id": "40e2513e",
   "metadata": {},
   "outputs": [
    {
     "ename": "ValueError",
     "evalue": "incompatible dimensions [2] and [4]",
     "output_type": "error",
     "traceback": [
      "\u001b[31m---------------------------------------------------------------------------\u001b[39m",
      "\u001b[31mValueError\u001b[39m                                Traceback (most recent call last)",
      "\u001b[36mCell\u001b[39m\u001b[36m \u001b[39m\u001b[32mIn[30]\u001b[39m\u001b[32m, line 7\u001b[39m\n\u001b[32m      4\u001b[39m psi_0 = qp.basis(\u001b[32m4\u001b[39m, \u001b[32m0\u001b[39m)\n\u001b[32m      6\u001b[39m times = np.linspace(\u001b[32m0\u001b[39m, \u001b[32m3\u001b[39m, \u001b[32m100\u001b[39m)\n\u001b[32m----> \u001b[39m\u001b[32m7\u001b[39m baseline = \u001b[43mqp\u001b[49m\u001b[43m.\u001b[49m\u001b[43mmesolve\u001b[49m\u001b[43m(\u001b[49m\u001b[43mqp\u001b[49m\u001b[43m.\u001b[49m\u001b[43mQobj\u001b[49m\u001b[43m(\u001b[49m\u001b[43mqp\u001b[49m\u001b[43m.\u001b[49m\u001b[43mQobj\u001b[49m\u001b[43m(\u001b[49m\u001b[43mH\u001b[49m\u001b[43m)\u001b[49m\u001b[43m)\u001b[49m\u001b[43m,\u001b[49m\u001b[43m \u001b[49m\u001b[43mpsi_0\u001b[49m\u001b[43m,\u001b[49m\u001b[43m \u001b[49m\u001b[43mtimes\u001b[49m\u001b[43m,\u001b[49m\u001b[43m \u001b[49m\u001b[43me_ops\u001b[49m\u001b[43m=\u001b[49m\u001b[43m[\u001b[49m\u001b[43mqp\u001b[49m\u001b[43m.\u001b[49m\u001b[43msigmaz\u001b[49m\u001b[43m(\u001b[49m\u001b[43m)\u001b[49m\u001b[43m,\u001b[49m\u001b[43mqp\u001b[49m\u001b[43m.\u001b[49m\u001b[43mqeye\u001b[49m\u001b[43m(\u001b[49m\u001b[32;43m2\u001b[39;49m\u001b[43m)\u001b[49m\u001b[43m]\u001b[49m\u001b[43m)\u001b[49m.expect[\u001b[32m0\u001b[39m]\n\u001b[32m      9\u001b[39m exact_expect = [(state.conj() @ SZ @ state).real \u001b[38;5;28;01mfor\u001b[39;00m state \u001b[38;5;129;01min\u001b[39;00m exact_vec]\n\u001b[32m     10\u001b[39m \u001b[38;5;28;01mfrom\u001b[39;00m\u001b[38;5;250m \u001b[39m\u001b[34;01mmatplotlib\u001b[39;00m\u001b[38;5;250m \u001b[39m\u001b[38;5;28;01mimport\u001b[39;00m pyplot \u001b[38;5;28;01mas\u001b[39;00m plt\n",
      "\u001b[36mFile \u001b[39m\u001b[32m~/Documents/__Dokumente/Uni/UPMC/stage gl/DWaveDynamics2/.venv/lib/python3.11/site-packages/qutip/solver/mesolve.py:161\u001b[39m, in \u001b[36mmesolve\u001b[39m\u001b[34m(H, rho0, tlist, c_ops, _e_ops, _args, _options, e_ops, args, options, **kwargs)\u001b[39m\n\u001b[32m    158\u001b[39m use_mesolve = \u001b[38;5;28mlen\u001b[39m(c_ops) > \u001b[32m0\u001b[39m \u001b[38;5;129;01mor\u001b[39;00m (\u001b[38;5;129;01mnot\u001b[39;00m rho0.isket) \u001b[38;5;129;01mor\u001b[39;00m H.issuper\n\u001b[32m    160\u001b[39m \u001b[38;5;28;01mif\u001b[39;00m \u001b[38;5;129;01mnot\u001b[39;00m use_mesolve:\n\u001b[32m--> \u001b[39m\u001b[32m161\u001b[39m     \u001b[38;5;28;01mreturn\u001b[39;00m \u001b[43msesolve\u001b[49m\u001b[43m(\u001b[49m\u001b[43mH\u001b[49m\u001b[43m,\u001b[49m\u001b[43m \u001b[49m\u001b[43mrho0\u001b[49m\u001b[43m,\u001b[49m\u001b[43m \u001b[49m\u001b[43mtlist\u001b[49m\u001b[43m,\u001b[49m\u001b[43m \u001b[49m\u001b[43me_ops\u001b[49m\u001b[43m=\u001b[49m\u001b[43me_ops\u001b[49m\u001b[43m,\u001b[49m\u001b[43m \u001b[49m\u001b[43margs\u001b[49m\u001b[43m=\u001b[49m\u001b[43margs\u001b[49m\u001b[43m,\u001b[49m\n\u001b[32m    162\u001b[39m \u001b[43m                   \u001b[49m\u001b[43moptions\u001b[49m\u001b[43m=\u001b[49m\u001b[43moptions\u001b[49m\u001b[43m)\u001b[49m\n\u001b[32m    164\u001b[39m solver = MESolver(H, c_ops, options=options)\n\u001b[32m    166\u001b[39m \u001b[38;5;28;01mreturn\u001b[39;00m solver.run(rho0, tlist, e_ops=e_ops)\n",
      "\u001b[36mFile \u001b[39m\u001b[32m~/Documents/__Dokumente/Uni/UPMC/stage gl/DWaveDynamics2/.venv/lib/python3.11/site-packages/qutip/solver/sesolve.py:127\u001b[39m, in \u001b[36msesolve\u001b[39m\u001b[34m(H, psi0, tlist, _e_ops, _args, _options, e_ops, args, options, **kwargs)\u001b[39m\n\u001b[32m    125\u001b[39m H = QobjEvo(H, args=args, tlist=tlist)\n\u001b[32m    126\u001b[39m solver = SESolver(H, options=options)\n\u001b[32m--> \u001b[39m\u001b[32m127\u001b[39m \u001b[38;5;28;01mreturn\u001b[39;00m \u001b[43msolver\u001b[49m\u001b[43m.\u001b[49m\u001b[43mrun\u001b[49m\u001b[43m(\u001b[49m\u001b[43mpsi0\u001b[49m\u001b[43m,\u001b[49m\u001b[43m \u001b[49m\u001b[43mtlist\u001b[49m\u001b[43m,\u001b[49m\u001b[43m \u001b[49m\u001b[43me_ops\u001b[49m\u001b[43m=\u001b[49m\u001b[43me_ops\u001b[49m\u001b[43m)\u001b[49m\n",
      "\u001b[36mFile \u001b[39m\u001b[32m~/Documents/__Dokumente/Uni/UPMC/stage gl/DWaveDynamics2/.venv/lib/python3.11/site-packages/qutip/solver/solver_base.py:191\u001b[39m, in \u001b[36mSolver.run\u001b[39m\u001b[34m(self, state0, tlist, e_ops, args)\u001b[39m\n\u001b[32m    186\u001b[39m stats = \u001b[38;5;28mself\u001b[39m._initialize_stats()\n\u001b[32m    187\u001b[39m results = \u001b[38;5;28mself\u001b[39m._resultclass(\n\u001b[32m    188\u001b[39m     e_ops, \u001b[38;5;28mself\u001b[39m.options,\n\u001b[32m    189\u001b[39m     solver=\u001b[38;5;28mself\u001b[39m.name, stats=stats,\n\u001b[32m    190\u001b[39m )\n\u001b[32m--> \u001b[39m\u001b[32m191\u001b[39m \u001b[43mresults\u001b[49m\u001b[43m.\u001b[49m\u001b[43madd\u001b[49m\u001b[43m(\u001b[49m\u001b[43mtlist\u001b[49m\u001b[43m[\u001b[49m\u001b[32;43m0\u001b[39;49m\u001b[43m]\u001b[49m\u001b[43m,\u001b[49m\u001b[43m \u001b[49m\u001b[38;5;28;43mself\u001b[39;49m\u001b[43m.\u001b[49m\u001b[43m_restore_state\u001b[49m\u001b[43m(\u001b[49m\u001b[43m_data0\u001b[49m\u001b[43m,\u001b[49m\u001b[43m \u001b[49m\u001b[43mcopy\u001b[49m\u001b[43m=\u001b[49m\u001b[38;5;28;43;01mFalse\u001b[39;49;00m\u001b[43m)\u001b[49m\u001b[43m)\u001b[49m\n\u001b[32m    192\u001b[39m stats[\u001b[33m'\u001b[39m\u001b[33mpreparation time\u001b[39m\u001b[33m'\u001b[39m] += time() - _time_start\n\u001b[32m    194\u001b[39m progress_bar = progress_bars[\u001b[38;5;28mself\u001b[39m.options[\u001b[33m'\u001b[39m\u001b[33mprogress_bar\u001b[39m\u001b[33m'\u001b[39m]](\n\u001b[32m    195\u001b[39m     \u001b[38;5;28mlen\u001b[39m(tlist)-\u001b[32m1\u001b[39m, **\u001b[38;5;28mself\u001b[39m.options[\u001b[33m'\u001b[39m\u001b[33mprogress_kwargs\u001b[39m\u001b[33m'\u001b[39m]\n\u001b[32m    196\u001b[39m )\n",
      "\u001b[36mFile \u001b[39m\u001b[32m~/Documents/__Dokumente/Uni/UPMC/stage gl/DWaveDynamics2/.venv/lib/python3.11/site-packages/qutip/solver/result.py:332\u001b[39m, in \u001b[36mResult.add\u001b[39m\u001b[34m(self, t, state)\u001b[39m\n\u001b[32m    329\u001b[39m     state = \u001b[38;5;28mself\u001b[39m._pre_copy(state)\n\u001b[32m    331\u001b[39m \u001b[38;5;28;01mfor\u001b[39;00m op \u001b[38;5;129;01min\u001b[39;00m \u001b[38;5;28mself\u001b[39m._state_processors:\n\u001b[32m--> \u001b[39m\u001b[32m332\u001b[39m     \u001b[43mop\u001b[49m\u001b[43m(\u001b[49m\u001b[43mt\u001b[49m\u001b[43m,\u001b[49m\u001b[43m \u001b[49m\u001b[43mstate\u001b[49m\u001b[43m)\u001b[49m\n",
      "\u001b[36mFile \u001b[39m\u001b[32m~/Documents/__Dokumente/Uni/UPMC/stage gl/DWaveDynamics2/.venv/lib/python3.11/site-packages/qutip/solver/result.py:73\u001b[39m, in \u001b[36mExpectOp._store\u001b[39m\u001b[34m(self, t, state)\u001b[39m\n\u001b[32m     68\u001b[39m \u001b[38;5;28;01mdef\u001b[39;00m\u001b[38;5;250m \u001b[39m\u001b[34m_store\u001b[39m(\u001b[38;5;28mself\u001b[39m, t, state):\n\u001b[32m     69\u001b[39m \u001b[38;5;250m    \u001b[39m\u001b[33;03m\"\"\"\u001b[39;00m\n\u001b[32m     70\u001b[39m \u001b[33;03m    Store the result of the e_op function. Should only be called by\u001b[39;00m\n\u001b[32m     71\u001b[39m \u001b[33;03m    :class:`~Result`.\u001b[39;00m\n\u001b[32m     72\u001b[39m \u001b[33;03m    \"\"\"\u001b[39;00m\n\u001b[32m---> \u001b[39m\u001b[32m73\u001b[39m     \u001b[38;5;28mself\u001b[39m._append(\u001b[38;5;28;43mself\u001b[39;49m\u001b[43m.\u001b[49m\u001b[43m_f\u001b[49m\u001b[43m(\u001b[49m\u001b[43mt\u001b[49m\u001b[43m,\u001b[49m\u001b[43m \u001b[49m\u001b[43mstate\u001b[49m\u001b[43m)\u001b[49m)\n",
      "\u001b[36mFile \u001b[39m\u001b[32m~/Documents/__Dokumente/Uni/UPMC/stage gl/DWaveDynamics2/.venv/lib/python3.11/site-packages/qutip/solver/result.py:29\u001b[39m, in \u001b[36m_QobjExpectEop.__call__\u001b[39m\u001b[34m(self, t, state)\u001b[39m\n\u001b[32m     28\u001b[39m \u001b[38;5;28;01mdef\u001b[39;00m\u001b[38;5;250m \u001b[39m\u001b[34m__call__\u001b[39m(\u001b[38;5;28mself\u001b[39m, t, state):\n\u001b[32m---> \u001b[39m\u001b[32m29\u001b[39m     \u001b[38;5;28;01mreturn\u001b[39;00m \u001b[43mexpect\u001b[49m\u001b[43m(\u001b[49m\u001b[38;5;28;43mself\u001b[39;49m\u001b[43m.\u001b[49m\u001b[43mop\u001b[49m\u001b[43m,\u001b[49m\u001b[43m \u001b[49m\u001b[43mstate\u001b[49m\u001b[43m)\u001b[49m\n",
      "\u001b[36mFile \u001b[39m\u001b[32m~/Documents/__Dokumente/Uni/UPMC/stage gl/DWaveDynamics2/.venv/lib/python3.11/site-packages/qutip/core/expect.py:62\u001b[39m, in \u001b[36mexpect\u001b[39m\u001b[34m(oper, state)\u001b[39m\n\u001b[32m     33\u001b[39m \u001b[38;5;250m\u001b[39m\u001b[33;03m\"\"\"\u001b[39;00m\n\u001b[32m     34\u001b[39m \u001b[33;03mCalculate the expectation value for operator(s) and state(s).  The\u001b[39;00m\n\u001b[32m     35\u001b[39m \u001b[33;03mexpectation of state ``k`` on operator ``A`` is defined as\u001b[39;00m\n\u001b[32m   (...)\u001b[39m\u001b[32m     59\u001b[39m \n\u001b[32m     60\u001b[39m \u001b[33;03m\"\"\"\u001b[39;00m\n\u001b[32m     61\u001b[39m \u001b[38;5;28;01mif\u001b[39;00m \u001b[38;5;28misinstance\u001b[39m(state, Qobj) \u001b[38;5;129;01mand\u001b[39;00m \u001b[38;5;28misinstance\u001b[39m(oper, Qobj):\n\u001b[32m---> \u001b[39m\u001b[32m62\u001b[39m     \u001b[38;5;28;01mreturn\u001b[39;00m \u001b[43m_single_qobj_expect\u001b[49m\u001b[43m(\u001b[49m\u001b[43moper\u001b[49m\u001b[43m,\u001b[49m\u001b[43m \u001b[49m\u001b[43mstate\u001b[49m\u001b[43m)\u001b[49m\n\u001b[32m     64\u001b[39m \u001b[38;5;28;01melif\u001b[39;00m \u001b[38;5;28misinstance\u001b[39m(oper, Sequence):\n\u001b[32m     65\u001b[39m     \u001b[38;5;28;01mreturn\u001b[39;00m [expect(op, state) \u001b[38;5;28;01mfor\u001b[39;00m op \u001b[38;5;129;01min\u001b[39;00m oper]\n",
      "\u001b[36mFile \u001b[39m\u001b[32m~/Documents/__Dokumente/Uni/UPMC/stage gl/DWaveDynamics2/.venv/lib/python3.11/site-packages/qutip/core/expect.py:87\u001b[39m, in \u001b[36m_single_qobj_expect\u001b[39m\u001b[34m(oper, state)\u001b[39m\n\u001b[32m     82\u001b[39m \u001b[38;5;28;01mif\u001b[39;00m oper.dims[\u001b[32m1\u001b[39m] != state.dims[\u001b[32m0\u001b[39m]:\n\u001b[32m     83\u001b[39m     msg = (\n\u001b[32m     84\u001b[39m         \u001b[33m\"\u001b[39m\u001b[33mincompatible dimensions \u001b[39m\u001b[33m\"\u001b[39m\n\u001b[32m     85\u001b[39m         + \u001b[38;5;28mstr\u001b[39m(oper.dims[\u001b[32m1\u001b[39m]) + \u001b[33m\"\u001b[39m\u001b[33m and \u001b[39m\u001b[33m\"\u001b[39m + \u001b[38;5;28mstr\u001b[39m(state.dims[\u001b[32m0\u001b[39m])\n\u001b[32m     86\u001b[39m     )\n\u001b[32m---> \u001b[39m\u001b[32m87\u001b[39m     \u001b[38;5;28;01mraise\u001b[39;00m \u001b[38;5;167;01mValueError\u001b[39;00m(msg)\n\u001b[32m     88\u001b[39m out = _data.expect(oper.data, state.data)\n\u001b[32m     90\u001b[39m \u001b[38;5;66;03m# This ensures that expect can return something that is not a number such\u001b[39;00m\n\u001b[32m     91\u001b[39m \u001b[38;5;66;03m# as a `tensorflow.Tensor` in qutip-tensorflow.\u001b[39;00m\n",
      "\u001b[31mValueError\u001b[39m: incompatible dimensions [2] and [4]"
     ]
    }
   ],
   "source": [
    "# Let's compute baseline using QuTiP\n",
    "import qutip as qp\n",
    "\n",
    "psi_0 = qp.basis(4, 0)\n",
    "\n",
    "times = np.linspace(0, 3, 100)\n",
    "baseline = qp.mesolve(qp.Qobj(qp.Qobj(H)), psi_0, times, e_ops=[qp.sigmaz(),qp.qeye(2)]).expect[0]\n",
    "\n",
    "exact_expect = [(state.conj() @ SZ @ state).real for state in exact_vec]\n",
    "from matplotlib import pyplot as plt\n",
    "print(exact_expect)\n",
    "\n",
    "fig, axis = plt.subplots(figsize=(8, 4))\n",
    "\n",
    "axis.plot(times, baseline, \"k--\", label=\"QuTiP (baseline)\")\n",
    "\n",
    "\n",
    "axis.set_ylabel(r\"$\\langle \\sigma_z \\rangle$\")\n",
    "axis.set_xlabel(\"$t$\")\n",
    "axis.legend()\n",
    "plt.show()"
   ]
  },
  {
   "cell_type": "markdown",
   "id": "cf388752",
   "metadata": {},
   "source": []
  }
 ],
 "metadata": {
  "kernelspec": {
   "display_name": ".venv",
   "language": "python",
   "name": "python3"
  },
  "language_info": {
   "codemirror_mode": {
    "name": "ipython",
    "version": 3
   },
   "file_extension": ".py",
   "mimetype": "text/x-python",
   "name": "python",
   "nbconvert_exporter": "python",
   "pygments_lexer": "ipython3",
   "version": "3.11.0rc1"
  }
 },
 "nbformat": 4,
 "nbformat_minor": 5
}
