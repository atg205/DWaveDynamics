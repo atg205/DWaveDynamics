{
 "cells": [
  {
   "cell_type": "markdown",
   "id": "1c5df255-aeb6-48d8-81e4-3d57b28a8973",
   "metadata": {},
   "source": [
    "# Example 02: Full Workflow (Qubit)\n",
    "\n",
    "## Synopsis\n",
    "\n",
    "This notebook exemplifies usage of `dwdynamics` library with complex systems (as opposed to real ones, treated in our original paper).\n",
    "\n",
    "The steps in this notebook are the same as in Example 01, except this time we are encoding both real and imaginary component of evolution.\n",
    "Differences between this example and Example 01 will be clearly pointed out.\n",
    "\n",
    "To keep the number of logical variables the same, we will be using only 3 time points."
   ]
  },
  {
   "cell_type": "markdown",
   "id": "f8d65a42-88be-49e9-993b-ede7e4bbbdbb",
   "metadata": {},
   "source": [
    "## 1. Defining the problem"
   ]
  },
  {
   "cell_type": "code",
   "execution_count": 1,
   "id": "781ab80e-2177-4027-a836-6ea739a39bc5",
   "metadata": {},
   "outputs": [],
   "source": [
    "import numpy as np\n",
    "from dwdynamics import ComplexDynamicsProblem, Objective # Difference a. We are using ComplexDynamicsProblem\n",
    "# We simulate evolution under the Hamiltonian 1/2 pi * Sigma_y...\n",
    "SY = np.array([[0, -1.0j], [1.0j, 0.0]])\n",
    "PSI0 = np.array([1, 0], dtype=np.complex128)  # Difference b. Initial state can now be complex.\n",
    "\n",
    "# The problem object encapsulates all the data so you don't have to pass them around\n",
    "problem = ComplexDynamicsProblem(\n",
    "    hamiltonian=0.5 * np.pi * SY,      # Evolution under hamiltonian 0.5 * np.pi * sigma_y\n",
    "    initial_state = PSI0,              # Starting at initial state |0>,\n",
    "    times=tuple(range(3)),             # With six time points 0,1,2\n",
    "    num_bits_per_var=2                 # And two bits of precision per variable\n",
    ")"
   ]
  },
  {
   "cell_type": "markdown",
   "id": "23786427-014b-4c1a-bd36-0568e253956c",
   "metadata": {},
   "source": [
    "## 2. Creating QUBO for the problem"
   ]
  },
  {
   "cell_type": "code",
   "execution_count": 2,
   "id": "86b781a5-d244-4be0-b133-464e42dd7575",
   "metadata": {},
   "outputs": [],
   "source": [
    "qubo = problem.qubo(objective=Objective.norm)  # Other choice would be to use Objective.hessian"
   ]
  },
  {
   "cell_type": "code",
   "execution_count": 3,
   "id": "f0ea1604-4c13-47f3-9860-d16446ec2633",
   "metadata": {},
   "outputs": [],
   "source": [
    "# Sanity check 1: total number of QUBO variables is:\n",
    "# num_vars = dimension of system * number of time points * number of bits per variable * 2\n",
    "# Difference c.: Number of variables is multiplied x2 because we are using complex numbers\n",
    "assert qubo.num_variables == problem.hamiltonian.shape[0] * len(problem.times) * problem.num_bits_per_var * 2"
   ]
  },
  {
   "cell_type": "markdown",
   "id": "e72c13ad-6e22-46be-9840-5fca1fbf738d",
   "metadata": {},
   "source": [
    "## 3a. Solving using Dimod's exact solver\n",
    "Since system size is small (24 bits), we can use an exact solver to find the ground state."
   ]
  },
  {
   "cell_type": "code",
   "execution_count": 4,
   "id": "91f11f49-6b82-48cb-83e5-3fb62ee4365b",
   "metadata": {},
   "outputs": [],
   "source": [
    "from dimod import ExactSolver\n",
    "\n",
    "exact_solver = ExactSolver()\n",
    "\n",
    "exact_result = exact_solver.sample(qubo)"
   ]
  },
  {
   "cell_type": "code",
   "execution_count": 5,
   "id": "81f10dab-2ec0-4206-853c-7b8c321fb234",
   "metadata": {},
   "outputs": [],
   "source": [
    "# Sanity check 2: solution should be exact, and so the energy should be 0\n",
    "# Note that this is only the case for default, norm-based objective.\n",
    "# For hessian-based objective the energy might be nonzero.\n",
    "assert exact_result.first.energy == 0.0"
   ]
  },
  {
   "cell_type": "markdown",
   "id": "1d746ff8-fdb5-4000-ae4a-e3c5c8ad57a9",
   "metadata": {},
   "source": [
    "## 3b. Solving using Dimod's Simulated Annealing Sampler"
   ]
  },
  {
   "cell_type": "code",
   "execution_count": 6,
   "id": "cd548f7f-a35d-4001-9cb0-ac4d0ac80798",
   "metadata": {},
   "outputs": [
    {
     "data": {
      "text/plain": [
       "np.float64(0.0)"
      ]
     },
     "execution_count": 6,
     "metadata": {},
     "output_type": "execute_result"
    }
   ],
   "source": [
    "from dimod import SimulatedAnnealingSampler\n",
    "\n",
    "sa_sampler = SimulatedAnnealingSampler()\n",
    "\n",
    "sa_result = sa_sampler.sample(qubo, num_reads=50)\n",
    "\n",
    "sa_result.first.energy"
   ]
  },
  {
   "cell_type": "markdown",
   "id": "5960832d-17cd-43bb-aeaf-a6f5c4d465b6",
   "metadata": {},
   "source": [
    "## 3c. Solving using an actual D-Wave machine"
   ]
  },
  {
   "cell_type": "code",
   "execution_count": 7,
   "id": "c6db75f2-d8ef-4cf5-a5fe-a741430ba657",
   "metadata": {},
   "outputs": [
    {
     "data": {
      "text/plain": [
       "np.float64(1.0)"
      ]
     },
     "execution_count": 7,
     "metadata": {},
     "output_type": "execute_result"
    }
   ],
   "source": [
    "import os\n",
    "from dwave.system import DWaveSampler, EmbeddingComposite\n",
    "\n",
    "DW_TOKEN = os.getenv(\"DW_TOKEN\")  # <- Place your token here, or use DW_TOKEN env variable, or configure D-Wave libraries to use config file\n",
    "\n",
    "# The graph fo the problem is pretty dense, we use automatic embedding to mitigate the incompatibility with actual machine\n",
    "dw_sampler = EmbeddingComposite(DWaveSampler(token=DW_TOKEN))\n",
    "\n",
    "dw_result = dw_sampler.sample(qubo, num_reads=1000, annealing_time=200)\n",
    "\n",
    "dw_result.first.energy"
   ]
  },
  {
   "cell_type": "markdown",
   "id": "67ab2783-a921-4e1f-b5c6-6affbb25ccd6",
   "metadata": {},
   "source": [
    "## 4. Interpreting the results\n",
    "As in the original experiment, we use $\\langle \\sigma_z \\rangle$. The exact dynamics will be computed using Qutip."
   ]
  },
  {
   "cell_type": "code",
   "execution_count": 8,
   "id": "2dbc63e9-0cbb-48c5-84c1-ea54c626b5ff",
   "metadata": {},
   "outputs": [],
   "source": [
    "# Let's compute baseline using QuTiP\n",
    "import qutip as qp\n",
    "\n",
    "H_qp = 0.5 * np.pi * qp.sigmay()\n",
    "\n",
    "psi_0 = qp.basis(2, 0)\n",
    "times = np.linspace(0, 2, 100)\n",
    "baseline = qp.mesolve(H_qp, psi_0, times, e_ops=[qp.sigmaz()]).expect[0]"
   ]
  },
  {
   "cell_type": "code",
   "execution_count": 9,
   "id": "1a4815dd-a779-4e8c-86ab-a81fa81717c0",
   "metadata": {},
   "outputs": [],
   "source": [
    "# Define sigma_z for manual computation of expected values\n",
    "SZ = np.array([[1, 0], [0, -1]])\n",
    "\n",
    "# decode_sample returns flat vector, we use reshape to form an 6x2 array of states\n",
    "exact_vec = problem.interpret_sample(exact_result.first.sample)\n",
    "\n",
    "# Difference d.: We use complex conjugation to compute expected values. For this example it shouldn't matter though.\n",
    "# Then, for the expectation values we take only the real part, because otherwise matplotlib would complain.\n",
    "exact_expect = [(state.conj() @ SZ @ state).real for state in exact_vec]\n",
    "\n",
    "# SA and D-Wave results get the same treatment\n",
    "sa_vec = problem.interpret_sample(sa_result.first.sample)\n",
    "sa_expect = [(state.conj() @ SZ @ state).real for state in sa_vec]\n",
    "\n",
    "dw_vec = problem.interpret_sample(dw_result.first.sample)\n",
    "dw_expect = [(state.conj() @ SZ @ state).real for state in dw_vec]"
   ]
  },
  {
   "cell_type": "code",
   "execution_count": 10,
   "id": "dda4b253-6ed4-462f-979b-84a901da9dae",
   "metadata": {},
   "outputs": [
    {
     "data": {
      "text/plain": [
       "<matplotlib.legend.Legend at 0x130f08750>"
      ]
     },
     "execution_count": 10,
     "metadata": {},
     "output_type": "execute_result"
    },
    {
     "data": {
      "image/png": "[encoded data removed]",
      "text/plain": [
       "<Figure size 800x400 with 1 Axes>"
      ]
     },
     "metadata": {},
     "output_type": "display_data"
    }
   ],
   "source": [
    "from matplotlib import pyplot as plt\n",
    "\n",
    "fig, axis = plt.subplots(figsize=(8, 4))\n",
    "\n",
    "axis.plot(times, baseline, \"k--\", label=\"QuTiP (baseline)\")\n",
    "\n",
    "axis.scatter(problem.times, exact_expect, marker=\"^\", lw=2, s=300, edgecolors=\"b\", facecolors=\"none\", label=\"Exact solver\")\n",
    "axis.scatter(problem.times, sa_expect, marker=\"o\", lw=2, s=100, edgecolors=\"r\", facecolors=\"none\", label=\"SA sampler\")\n",
    "axis.scatter(problem.times, dw_expect, marker=\"s\", lw=2, s=200, edgecolors=\"g\", facecolors=\"none\", label=\"D-Wave sampler\")\n",
    "\n",
    "axis.set_ylabel(r\"$\\langle \\sigma_z \\rangle$\")\n",
    "axis.set_xlabel(\"$t$\")\n",
    "axis.legend()"
   ]
  }
 ],
 "metadata": {
  "kernelspec": {
   "display_name": "Python 3 (ipykernel)",
   "language": "python",
   "name": "python3"
  },
  "language_info": {
   "codemirror_mode": {
    "name": "ipython",
    "version": 3
   },
   "file_extension": ".py",
   "mimetype": "text/x-python",
   "name": "python",
   "nbconvert_exporter": "python",
   "pygments_lexer": "ipython3",
   "version": "3.11.9"
  }
 },
 "nbformat": 4,
 "nbformat_minor": 5
}
