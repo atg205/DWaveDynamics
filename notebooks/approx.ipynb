{
 "cells": [
  {
   "cell_type": "code",
   "execution_count": 6,
   "id": "760c5df1",
   "metadata": {},
   "outputs": [],
   "source": [
    "\n",
    "from dwdynamics import ComplexDynamicsProblem, Objective,helpers,fixed_point,instance # Difference a. We are using ComplexDynamicsProblem\n",
    "from dimod import ExactSolver\n",
    "import numpy as np\n",
    "import scipy\n",
    "import pandas as pd\n",
    "import numpy as np\n",
    "import scipy as sp\n",
    "import math\n",
    "import qutip as qp\n",
    "import dimod\n",
    "import pandas as pd\n",
    "from collections import defaultdict\n",
    "import re\n",
    "from dwave.system import DWaveSampler, EmbeddingComposite, TilingComposite,ParallelEmbeddingComposite\n",
    "import dwave.inspector\n",
    "import matplotlib.pyplot as plt\n",
    "import networkx as nx"
   ]
  },
  {
   "cell_type": "code",
   "execution_count": 7,
   "id": "1c71b67c",
   "metadata": {},
   "outputs": [
    {
     "data": {
      "text/plain": [
       "EigResult(eigenvalues=array([ 1.04719755+2.18628921e-17j, -1.04719755-1.32885195e-16j]), eigenvectors=matrix([[ 0.88807383+0.j        , -0.32505758+0.32505758j],\n",
       "        [ 0.32505758+0.32505758j,  0.88807383+0.j        ]]))"
      ]
     },
     "execution_count": 7,
     "metadata": {},
     "output_type": "execute_result"
    }
   ],
   "source": [
    "\n",
    "H = np.array([\n",
    "    [0,             0,  0,  0],\n",
    "    [0,      0,         0,         -0.5j],\n",
    "    [0,      0,         0,        0.5j],\n",
    "    [0,             0.5j, -0.5,  0]\n",
    "], dtype=complex)\n",
    "\n",
    "H = np.array([\n",
    "    [-0.5+0.j,   -0.-0.5j,  0.+0.j,    0.5+0.5j],\n",
    "    [-0.+0.5j,   0.5+0.j,   0.5+0.5j,  0.+0.j ],\n",
    "    [ 0.-0.j,    0.5-0.5j, -0.5+0.j,  -0.-0.5j],\n",
    "    [ 0.5-0.5j,  0.-0.j,  -0.+0.5j,   0.5+0.j ]\n",
    "], dtype=complex)\n",
    "H = np.pi/3*1/np.sqrt(3)*np.matrix([[1,1-1j],[1+1j,-1]])\n",
    "\n",
    "np.linalg.eig(H)"
   ]
  },
  {
   "cell_type": "code",
   "execution_count": 10,
   "id": "43be2cad",
   "metadata": {},
   "outputs": [
    {
     "name": "stdout",
     "output_type": "stream",
     "text": [
      "[[-1.00000000e+00+1.11022302e-16j -1.54074396e-32+1.11022302e-16j\n",
      "   2.77555756e-17-4.16333634e-17j  8.32667268e-17+1.52655666e-16j]\n",
      " [-2.77555756e-16+2.08166817e-16j -1.00000000e+00+1.80411242e-16j\n",
      "   2.77555756e-17+5.55111512e-17j  8.32667268e-17-1.66533454e-16j]\n",
      " [-2.31111593e-32-8.32667268e-17j  1.11022302e-16-2.77555756e-17j\n",
      "  -1.00000000e+00-1.52655666e-16j  2.77555756e-17-2.91433544e-16j]\n",
      " [-8.32667268e-17+2.08166817e-16j  2.08000434e-32-1.52655666e-16j\n",
      "  -2.77555756e-17-2.49800181e-16j -1.00000000e+00-4.16333634e-16j]]\n"
     ]
    },
    {
     "data": {
      "text/plain": [
       "array([[-0.07406984+0.57576432j,  0.57576432+0.57576432j,\n",
       "         0.        +0.j        ,  0.        +0.j        ],\n",
       "       [-0.57576432+0.57576432j, -0.07406984-0.57576432j,\n",
       "         0.        +0.j        ,  0.        +0.j        ],\n",
       "       [ 0.        +0.j        ,  0.        +0.j        ,\n",
       "        -0.07406984+0.57576432j,  0.57576432+0.57576432j],\n",
       "       [ 0.        +0.j        ,  0.        +0.j        ,\n",
       "        -0.57576432+0.57576432j, -0.07406984-0.57576432j]])"
      ]
     },
     "execution_count": 10,
     "metadata": {},
     "output_type": "execute_result"
    }
   ],
   "source": [
    "# Let's compute baseline using QuTiP\n",
    "import qutip as qp\n",
    "import scipy.linalg\n",
    "\n",
    "#instance = 8\n",
    "#PSI0_2 = np.array([1,0,0,0],dtype=np.complex128)\n",
    "#instance_dict = helpers.get_instance(instance)\n",
    "#H = instance_dict['H']\n",
    "#PSI0 = instance_dict['psi0']\n",
    "\n",
    "i = instance.Instance(4)\n",
    "i.create_instance(precision=2,number_time_points=2)\n",
    "qubo = i.problem.qubo(objective=Objective.hessian)\n",
    "scipy.linalg.expm(1.0j*np.pi/2*H)\n"
   ]
  },
  {
   "cell_type": "code",
   "execution_count": 11,
   "id": "e2978d05",
   "metadata": {},
   "outputs": [
    {
     "data": {
      "text/plain": [
       "32"
      ]
     },
     "execution_count": 11,
     "metadata": {},
     "output_type": "execute_result"
    }
   ],
   "source": [
    "qubo.num_variables"
   ]
  },
  {
   "cell_type": "code",
   "execution_count": null,
   "id": "0a25a5d4",
   "metadata": {},
   "outputs": [
    {
     "data": {
      "text/plain": [
       "{0: 1, 1: 1, 2: 1, 3: 0, 4: 0, 5: 0}"
      ]
     },
     "execution_count": 6,
     "metadata": {},
     "output_type": "execute_result"
    }
   ],
   "source": [
    "helpers.result_string_to_dict('111000')"
   ]
  },
  {
   "cell_type": "code",
   "execution_count": null,
   "id": "3148dc90",
   "metadata": {},
   "outputs": [
    {
     "name": "stdout",
     "output_type": "stream",
     "text": [
      "30\n",
      "30\n",
      "30\n",
      "30\n",
      "30\n",
      "30\n",
      "30\n",
      "30\n",
      "30\n",
      "30\n",
      "30\n",
      "30\n",
      "30\n",
      "30\n",
      "30\n",
      "30\n",
      "defaultdict(<class 'list'>, {0: 1, 1: 0, 2: 0, 3: 1, 4: 0, 5: 1, 6: 0, 7: 1, 8: 0, 9: 0, 10: 1, 11: 0, 12: 1, 13: 0, 14: 1, 15: 0})\n"
     ]
    },
    {
     "ename": "NameError",
     "evalue": "name 'system' is not defined",
     "output_type": "error",
     "traceback": [
      "\u001b[31m---------------------------------------------------------------------------\u001b[39m",
      "\u001b[31mNameError\u001b[39m                                 Traceback (most recent call last)",
      "\u001b[36mCell\u001b[39m\u001b[36m \u001b[39m\u001b[32mIn[10]\u001b[39m\u001b[32m, line 26\u001b[39m\n\u001b[32m     23\u001b[39m     \u001b[38;5;66;03m#axis.scatter(inst_obj.problem.times, exact_expect, marker=\"^\", lw=2, s=300, edgecolors=\"b\", facecolors=\"none\", label=\"Exact solver\")\u001b[39;00m\n\u001b[32m     24\u001b[39m     \u001b[38;5;66;03m#axis.scatter(problem.times, sa_expect, marker=\"o\", lw=2, s=100, edgecolors=\"r\", facecolors=\"none\", label=\"SA sampler\")\u001b[39;00m\n\u001b[32m     25\u001b[39m     axis.scatter(problem.times, dw_expect, marker=\u001b[33m\"\u001b[39m\u001b[33ms\u001b[39m\u001b[33m\"\u001b[39m, lw=\u001b[32m2\u001b[39m, s=\u001b[32m200\u001b[39m, label=\u001b[33m\"\u001b[39m\u001b[33mD-Wave sampler\u001b[39m\u001b[33m\"\u001b[39m)\n\u001b[32m---> \u001b[39m\u001b[32m26\u001b[39m axis.set_title(\u001b[33mf\u001b[39m\u001b[33m\"\u001b[39m\u001b[33mSystem \u001b[39m\u001b[38;5;132;01m{\u001b[39;00m\u001b[43msystem\u001b[49m\u001b[38;5;132;01m}\u001b[39;00m\u001b[33m\"\u001b[39m)\n\u001b[32m     27\u001b[39m axis.set_ylabel(\u001b[33mr\u001b[39m\u001b[33m\"\u001b[39m\u001b[33m$\u001b[39m\u001b[33m\\\u001b[39m\u001b[33mlangle \u001b[39m\u001b[33m\\\u001b[39m\u001b[33msigma_z \u001b[39m\u001b[33m\\\u001b[39m\u001b[33mrangle$\u001b[39m\u001b[33m\"\u001b[39m)\n\u001b[32m     28\u001b[39m axis.set_xlabel(\u001b[33m\"\u001b[39m\u001b[33m$t$\u001b[39m\u001b[33m\"\u001b[39m)\n",
      "\u001b[31mNameError\u001b[39m: name 'system' is not defined"
     ]
    },
    {
     "data": {
      "image/png": "[encoded data removed]",
      "text/plain": [
       "<Figure size 800x400 with 1 Axes>"
      ]
     },
     "metadata": {},
     "output_type": "display_data"
    },
    {
     "data": {
      "image/png": "[encoded data removed]",
      "text/plain": [
       "<Figure size 800x400 with 1 Axes>"
      ]
     },
     "metadata": {},
     "output_type": "display_data"
    },
    {
     "data": {
      "image/png": "[encoded data removed]",
      "text/plain": [
       "<Figure size 800x400 with 1 Axes>"
      ]
     },
     "metadata": {},
     "output_type": "display_data"
    },
    {
     "data": {
      "image/png": "[encoded data removed]",
      "text/plain": [
       "<Figure size 800x400 with 1 Axes>"
      ]
     },
     "metadata": {},
     "output_type": "display_data"
    },
    {
     "data": {
      "image/png": "[encoded data removed]",
      "text/plain": [
       "<Figure size 800x400 with 1 Axes>"
      ]
     },
     "metadata": {},
     "output_type": "display_data"
    }
   ],
   "source": [
    "times = np.linspace(0, len(problem.times), 100)\n",
    "baseline = qp.mesolve(qp.Qobj(problem.hamiltonian), qp.Qobj(problem.initial_state), times, e_ops=[qp.sigmaz()]).expect[0]\n",
    "\n",
    "# Define sigma_z for manual computation of expected values\n",
    "\n",
    "SZ = np.array([[1, 0], [0, -1]])\n",
    "\n",
    "final_dict= defaultdict(list)\n",
    "for sample in dw_result.samples(30):\n",
    "    for key, value in sample.items():\n",
    "        final_dict[key].append(value)\n",
    "for key, value in final_dict.items():\n",
    "    print(len(value))\n",
    "    final_dict[key] = 1 if sum(value) > len(value) /2 else 0 \n",
    "print(final_dict)\n",
    "for sample in dw_result.samples(5):\n",
    "    dw_vec = problem.interpret_sample(final_dict)\n",
    "    dw_expect = [(state.conj() @ SZ @ state).real for state in dw_vec]\n",
    "    fig, axis = plt.subplots(figsize=(8, 4))\n",
    "\n",
    "    axis.plot(times, baseline, \"k--\", label=\"QuTiP (baseline)\")\n",
    "\n",
    "    #axis.scatter(inst_obj.problem.times, exact_expect, marker=\"^\", lw=2, s=300, edgecolors=\"b\", facecolors=\"none\", label=\"Exact solver\")\n",
    "    #axis.scatter(problem.times, sa_expect, marker=\"o\", lw=2, s=100, edgecolors=\"r\", facecolors=\"none\", label=\"SA sampler\")\n",
    "    axis.scatter(problem.times, dw_expect, marker=\"s\", lw=2, s=200, label=\"D-Wave sampler\")\n",
    "axis.set_title(f\"System {system}\")\n",
    "axis.set_ylabel(r\"$\\langle \\sigma_z \\rangle$\")\n",
    "axis.set_xlabel(\"$t$\")\n",
    "axis.legend()\n",
    "dw_result.samples(5)"
   ]
  },
  {
   "cell_type": "code",
   "execution_count": null,
   "id": "9693749a",
   "metadata": {},
   "outputs": [
    {
     "name": "stdout",
     "output_type": "stream",
     "text": [
      "-42.0\n",
      "[[1.+0.j 1.+1.j]\n",
      " [1.+1.j 1.+0.j]]\n",
      "[np.float64(-1.0), np.float64(1.0)]\n",
      "---------\n",
      "-41.0\n",
      "[[1.-1.j 1.+1.j]\n",
      " [1.+1.j 1.+1.j]]\n",
      "[np.float64(0.0), np.float64(0.0)]\n",
      "---------\n",
      "-41.0\n",
      "[[1.+1.j 1.+1.j]\n",
      " [1.+1.j 1.+1.j]]\n",
      "[np.float64(0.0), np.float64(0.0)]\n",
      "---------\n",
      "-41.0\n",
      "[[ 1.+0.j -1.+1.j]\n",
      " [ 0.+1.j  1.+0.j]]\n",
      "[np.float64(-1.0), np.float64(0.0)]\n",
      "---------\n",
      "-41.0\n",
      "[[ 1.+0.j  0.+1.j]\n",
      " [-1.+1.j  1.+0.j]]\n",
      "[np.float64(0.0), np.float64(1.0)]\n",
      "---------\n",
      "-41.0\n",
      "[[1.+0.j 1.-1.j]\n",
      " [1.+0.j 1.+0.j]]\n",
      "[np.float64(-1.0), np.float64(0.0)]\n",
      "---------\n",
      "-41.0\n",
      "[[1.+0.j 1.+0.j]\n",
      " [1.-1.j 1.+0.j]]\n",
      "[np.float64(0.0), np.float64(1.0)]\n",
      "---------\n",
      "-41.0\n",
      "[[-1.+0.j  1.+1.j]\n",
      " [ 1.+1.j -1.+0.j]]\n",
      "[np.float64(-1.0), np.float64(1.0)]\n",
      "---------\n",
      "-41.0\n",
      "[[0.+0.j 1.+1.j]\n",
      " [1.+1.j 0.+0.j]]\n",
      "[np.float64(-2.0), np.float64(2.0)]\n",
      "---------\n",
      "-41.0\n",
      "[[2.+0.j 1.+1.j]\n",
      " [1.+1.j 0.+0.j]]\n",
      "[np.float64(2.0), np.float64(2.0)]\n",
      "---------\n"
     ]
    }
   ],
   "source": [
    "df = i.get_xubo_df()\n",
    "\n",
    "for _,(energy,state) in df.head(10).iterrows():\n",
    "    print(energy)\n",
    "    sample_vec = i.problem.interpret_sample(helpers.result_string_to_dict(state))\n",
    "    print(sample_vec)\n",
    "    exact_expect = [(state.conj() @ SZ @ state).real for state in sample_vec]\n",
    "    print(exact_expect)\n",
    "    print(\"---------\")\n",
    "\n",
    "    "
   ]
  },
  {
   "cell_type": "code",
   "execution_count": null,
   "id": "8caa3c29",
   "metadata": {},
   "outputs": [
    {
     "name": "stdout",
     "output_type": "stream",
     "text": [
      "[0.70710678 0.70710678]\n"
     ]
    },
    {
     "data": {
      "text/plain": [
       "np.float64(-0.28000000000000014)"
      ]
     },
     "execution_count": 18,
     "metadata": {},
     "output_type": "execute_result"
    }
   ],
   "source": [
    "state = 1/math.sqrt(2) * np.array([1,1])\n",
    "print(state)\n",
    "state= np.array([3/5,4/5])\n",
    "(state.conj() @ SZ @ state).real"
   ]
  },
  {
   "cell_type": "markdown",
   "id": "bede8f63",
   "metadata": {},
   "source": [
    "# Analyze Velox results"
   ]
  },
  {
   "cell_type": "code",
   "execution_count": null,
   "id": "da1be7cc",
   "metadata": {},
   "outputs": [
    {
     "ename": "FileNotFoundError",
     "evalue": "[Errno 2] No such file or directory: '../data/results/norm/3/best_results_pruned_3_native.csv'",
     "output_type": "error",
     "traceback": [
      "\u001b[31m---------------------------------------------------------------------------\u001b[39m",
      "\u001b[31mFileNotFoundError\u001b[39m                         Traceback (most recent call last)",
      "\u001b[36mCell\u001b[39m\u001b[36m \u001b[39m\u001b[32mIn[5]\u001b[39m\u001b[32m, line 2\u001b[39m\n\u001b[32m      1\u001b[39m system=\u001b[32m3\u001b[39m\n\u001b[32m----> \u001b[39m\u001b[32m2\u001b[39m df = \u001b[43mpd\u001b[49m\u001b[43m.\u001b[49m\u001b[43mread_csv\u001b[49m\u001b[43m(\u001b[49m\u001b[33;43mf\u001b[39;49m\u001b[33;43m'\u001b[39;49m\u001b[33;43m../data/results/norm/\u001b[39;49m\u001b[38;5;132;43;01m{\u001b[39;49;00m\u001b[43msystem\u001b[49m\u001b[38;5;132;43;01m}\u001b[39;49;00m\u001b[33;43m/best_results_pruned_\u001b[39;49m\u001b[38;5;132;43;01m{\u001b[39;49;00m\u001b[43msystem\u001b[49m\u001b[38;5;132;43;01m}\u001b[39;49;00m\u001b[33;43m_native.csv\u001b[39;49m\u001b[33;43m'\u001b[39;49m\u001b[43m)\u001b[49m\n\u001b[32m      3\u001b[39m df\n",
      "\u001b[36mFile \u001b[39m\u001b[32m~/Documents/DWaveDynamics/.venv/lib/python3.13/site-packages/pandas/io/parsers/readers.py:1026\u001b[39m, in \u001b[36mread_csv\u001b[39m\u001b[34m(filepath_or_buffer, sep, delimiter, header, names, index_col, usecols, dtype, engine, converters, true_values, false_values, skipinitialspace, skiprows, skipfooter, nrows, na_values, keep_default_na, na_filter, verbose, skip_blank_lines, parse_dates, infer_datetime_format, keep_date_col, date_parser, date_format, dayfirst, cache_dates, iterator, chunksize, compression, thousands, decimal, lineterminator, quotechar, quoting, doublequote, escapechar, comment, encoding, encoding_errors, dialect, on_bad_lines, delim_whitespace, low_memory, memory_map, float_precision, storage_options, dtype_backend)\u001b[39m\n\u001b[32m   1013\u001b[39m kwds_defaults = _refine_defaults_read(\n\u001b[32m   1014\u001b[39m     dialect,\n\u001b[32m   1015\u001b[39m     delimiter,\n\u001b[32m   (...)\u001b[39m\u001b[32m   1022\u001b[39m     dtype_backend=dtype_backend,\n\u001b[32m   1023\u001b[39m )\n\u001b[32m   1024\u001b[39m kwds.update(kwds_defaults)\n\u001b[32m-> \u001b[39m\u001b[32m1026\u001b[39m \u001b[38;5;28;01mreturn\u001b[39;00m \u001b[43m_read\u001b[49m\u001b[43m(\u001b[49m\u001b[43mfilepath_or_buffer\u001b[49m\u001b[43m,\u001b[49m\u001b[43m \u001b[49m\u001b[43mkwds\u001b[49m\u001b[43m)\u001b[49m\n",
      "\u001b[36mFile \u001b[39m\u001b[32m~/Documents/DWaveDynamics/.venv/lib/python3.13/site-packages/pandas/io/parsers/readers.py:620\u001b[39m, in \u001b[36m_read\u001b[39m\u001b[34m(filepath_or_buffer, kwds)\u001b[39m\n\u001b[32m    617\u001b[39m _validate_names(kwds.get(\u001b[33m\"\u001b[39m\u001b[33mnames\u001b[39m\u001b[33m\"\u001b[39m, \u001b[38;5;28;01mNone\u001b[39;00m))\n\u001b[32m    619\u001b[39m \u001b[38;5;66;03m# Create the parser.\u001b[39;00m\n\u001b[32m--> \u001b[39m\u001b[32m620\u001b[39m parser = \u001b[43mTextFileReader\u001b[49m\u001b[43m(\u001b[49m\u001b[43mfilepath_or_buffer\u001b[49m\u001b[43m,\u001b[49m\u001b[43m \u001b[49m\u001b[43m*\u001b[49m\u001b[43m*\u001b[49m\u001b[43mkwds\u001b[49m\u001b[43m)\u001b[49m\n\u001b[32m    622\u001b[39m \u001b[38;5;28;01mif\u001b[39;00m chunksize \u001b[38;5;129;01mor\u001b[39;00m iterator:\n\u001b[32m    623\u001b[39m     \u001b[38;5;28;01mreturn\u001b[39;00m parser\n",
      "\u001b[36mFile \u001b[39m\u001b[32m~/Documents/DWaveDynamics/.venv/lib/python3.13/site-packages/pandas/io/parsers/readers.py:1620\u001b[39m, in \u001b[36mTextFileReader.__init__\u001b[39m\u001b[34m(self, f, engine, **kwds)\u001b[39m\n\u001b[32m   1617\u001b[39m     \u001b[38;5;28mself\u001b[39m.options[\u001b[33m\"\u001b[39m\u001b[33mhas_index_names\u001b[39m\u001b[33m\"\u001b[39m] = kwds[\u001b[33m\"\u001b[39m\u001b[33mhas_index_names\u001b[39m\u001b[33m\"\u001b[39m]\n\u001b[32m   1619\u001b[39m \u001b[38;5;28mself\u001b[39m.handles: IOHandles | \u001b[38;5;28;01mNone\u001b[39;00m = \u001b[38;5;28;01mNone\u001b[39;00m\n\u001b[32m-> \u001b[39m\u001b[32m1620\u001b[39m \u001b[38;5;28mself\u001b[39m._engine = \u001b[38;5;28;43mself\u001b[39;49m\u001b[43m.\u001b[49m\u001b[43m_make_engine\u001b[49m\u001b[43m(\u001b[49m\u001b[43mf\u001b[49m\u001b[43m,\u001b[49m\u001b[43m \u001b[49m\u001b[38;5;28;43mself\u001b[39;49m\u001b[43m.\u001b[49m\u001b[43mengine\u001b[49m\u001b[43m)\u001b[49m\n",
      "\u001b[36mFile \u001b[39m\u001b[32m~/Documents/DWaveDynamics/.venv/lib/python3.13/site-packages/pandas/io/parsers/readers.py:1880\u001b[39m, in \u001b[36mTextFileReader._make_engine\u001b[39m\u001b[34m(self, f, engine)\u001b[39m\n\u001b[32m   1878\u001b[39m     \u001b[38;5;28;01mif\u001b[39;00m \u001b[33m\"\u001b[39m\u001b[33mb\u001b[39m\u001b[33m\"\u001b[39m \u001b[38;5;129;01mnot\u001b[39;00m \u001b[38;5;129;01min\u001b[39;00m mode:\n\u001b[32m   1879\u001b[39m         mode += \u001b[33m\"\u001b[39m\u001b[33mb\u001b[39m\u001b[33m\"\u001b[39m\n\u001b[32m-> \u001b[39m\u001b[32m1880\u001b[39m \u001b[38;5;28mself\u001b[39m.handles = \u001b[43mget_handle\u001b[49m\u001b[43m(\u001b[49m\n\u001b[32m   1881\u001b[39m \u001b[43m    \u001b[49m\u001b[43mf\u001b[49m\u001b[43m,\u001b[49m\n\u001b[32m   1882\u001b[39m \u001b[43m    \u001b[49m\u001b[43mmode\u001b[49m\u001b[43m,\u001b[49m\n\u001b[32m   1883\u001b[39m \u001b[43m    \u001b[49m\u001b[43mencoding\u001b[49m\u001b[43m=\u001b[49m\u001b[38;5;28;43mself\u001b[39;49m\u001b[43m.\u001b[49m\u001b[43moptions\u001b[49m\u001b[43m.\u001b[49m\u001b[43mget\u001b[49m\u001b[43m(\u001b[49m\u001b[33;43m\"\u001b[39;49m\u001b[33;43mencoding\u001b[39;49m\u001b[33;43m\"\u001b[39;49m\u001b[43m,\u001b[49m\u001b[43m \u001b[49m\u001b[38;5;28;43;01mNone\u001b[39;49;00m\u001b[43m)\u001b[49m\u001b[43m,\u001b[49m\n\u001b[32m   1884\u001b[39m \u001b[43m    \u001b[49m\u001b[43mcompression\u001b[49m\u001b[43m=\u001b[49m\u001b[38;5;28;43mself\u001b[39;49m\u001b[43m.\u001b[49m\u001b[43moptions\u001b[49m\u001b[43m.\u001b[49m\u001b[43mget\u001b[49m\u001b[43m(\u001b[49m\u001b[33;43m\"\u001b[39;49m\u001b[33;43mcompression\u001b[39;49m\u001b[33;43m\"\u001b[39;49m\u001b[43m,\u001b[49m\u001b[43m \u001b[49m\u001b[38;5;28;43;01mNone\u001b[39;49;00m\u001b[43m)\u001b[49m\u001b[43m,\u001b[49m\n\u001b[32m   1885\u001b[39m \u001b[43m    \u001b[49m\u001b[43mmemory_map\u001b[49m\u001b[43m=\u001b[49m\u001b[38;5;28;43mself\u001b[39;49m\u001b[43m.\u001b[49m\u001b[43moptions\u001b[49m\u001b[43m.\u001b[49m\u001b[43mget\u001b[49m\u001b[43m(\u001b[49m\u001b[33;43m\"\u001b[39;49m\u001b[33;43mmemory_map\u001b[39;49m\u001b[33;43m\"\u001b[39;49m\u001b[43m,\u001b[49m\u001b[43m \u001b[49m\u001b[38;5;28;43;01mFalse\u001b[39;49;00m\u001b[43m)\u001b[49m\u001b[43m,\u001b[49m\n\u001b[32m   1886\u001b[39m \u001b[43m    \u001b[49m\u001b[43mis_text\u001b[49m\u001b[43m=\u001b[49m\u001b[43mis_text\u001b[49m\u001b[43m,\u001b[49m\n\u001b[32m   1887\u001b[39m \u001b[43m    \u001b[49m\u001b[43merrors\u001b[49m\u001b[43m=\u001b[49m\u001b[38;5;28;43mself\u001b[39;49m\u001b[43m.\u001b[49m\u001b[43moptions\u001b[49m\u001b[43m.\u001b[49m\u001b[43mget\u001b[49m\u001b[43m(\u001b[49m\u001b[33;43m\"\u001b[39;49m\u001b[33;43mencoding_errors\u001b[39;49m\u001b[33;43m\"\u001b[39;49m\u001b[43m,\u001b[49m\u001b[43m \u001b[49m\u001b[33;43m\"\u001b[39;49m\u001b[33;43mstrict\u001b[39;49m\u001b[33;43m\"\u001b[39;49m\u001b[43m)\u001b[49m\u001b[43m,\u001b[49m\n\u001b[32m   1888\u001b[39m \u001b[43m    \u001b[49m\u001b[43mstorage_options\u001b[49m\u001b[43m=\u001b[49m\u001b[38;5;28;43mself\u001b[39;49m\u001b[43m.\u001b[49m\u001b[43moptions\u001b[49m\u001b[43m.\u001b[49m\u001b[43mget\u001b[49m\u001b[43m(\u001b[49m\u001b[33;43m\"\u001b[39;49m\u001b[33;43mstorage_options\u001b[39;49m\u001b[33;43m\"\u001b[39;49m\u001b[43m,\u001b[49m\u001b[43m \u001b[49m\u001b[38;5;28;43;01mNone\u001b[39;49;00m\u001b[43m)\u001b[49m\u001b[43m,\u001b[49m\n\u001b[32m   1889\u001b[39m \u001b[43m\u001b[49m\u001b[43m)\u001b[49m\n\u001b[32m   1890\u001b[39m \u001b[38;5;28;01massert\u001b[39;00m \u001b[38;5;28mself\u001b[39m.handles \u001b[38;5;129;01mis\u001b[39;00m \u001b[38;5;129;01mnot\u001b[39;00m \u001b[38;5;28;01mNone\u001b[39;00m\n\u001b[32m   1891\u001b[39m f = \u001b[38;5;28mself\u001b[39m.handles.handle\n",
      "\u001b[36mFile \u001b[39m\u001b[32m~/Documents/DWaveDynamics/.venv/lib/python3.13/site-packages/pandas/io/common.py:873\u001b[39m, in \u001b[36mget_handle\u001b[39m\u001b[34m(path_or_buf, mode, encoding, compression, memory_map, is_text, errors, storage_options)\u001b[39m\n\u001b[32m    868\u001b[39m \u001b[38;5;28;01melif\u001b[39;00m \u001b[38;5;28misinstance\u001b[39m(handle, \u001b[38;5;28mstr\u001b[39m):\n\u001b[32m    869\u001b[39m     \u001b[38;5;66;03m# Check whether the filename is to be opened in binary mode.\u001b[39;00m\n\u001b[32m    870\u001b[39m     \u001b[38;5;66;03m# Binary mode does not support 'encoding' and 'newline'.\u001b[39;00m\n\u001b[32m    871\u001b[39m     \u001b[38;5;28;01mif\u001b[39;00m ioargs.encoding \u001b[38;5;129;01mand\u001b[39;00m \u001b[33m\"\u001b[39m\u001b[33mb\u001b[39m\u001b[33m\"\u001b[39m \u001b[38;5;129;01mnot\u001b[39;00m \u001b[38;5;129;01min\u001b[39;00m ioargs.mode:\n\u001b[32m    872\u001b[39m         \u001b[38;5;66;03m# Encoding\u001b[39;00m\n\u001b[32m--> \u001b[39m\u001b[32m873\u001b[39m         handle = \u001b[38;5;28;43mopen\u001b[39;49m\u001b[43m(\u001b[49m\n\u001b[32m    874\u001b[39m \u001b[43m            \u001b[49m\u001b[43mhandle\u001b[49m\u001b[43m,\u001b[49m\n\u001b[32m    875\u001b[39m \u001b[43m            \u001b[49m\u001b[43mioargs\u001b[49m\u001b[43m.\u001b[49m\u001b[43mmode\u001b[49m\u001b[43m,\u001b[49m\n\u001b[32m    876\u001b[39m \u001b[43m            \u001b[49m\u001b[43mencoding\u001b[49m\u001b[43m=\u001b[49m\u001b[43mioargs\u001b[49m\u001b[43m.\u001b[49m\u001b[43mencoding\u001b[49m\u001b[43m,\u001b[49m\n\u001b[32m    877\u001b[39m \u001b[43m            \u001b[49m\u001b[43merrors\u001b[49m\u001b[43m=\u001b[49m\u001b[43merrors\u001b[49m\u001b[43m,\u001b[49m\n\u001b[32m    878\u001b[39m \u001b[43m            \u001b[49m\u001b[43mnewline\u001b[49m\u001b[43m=\u001b[49m\u001b[33;43m\"\u001b[39;49m\u001b[33;43m\"\u001b[39;49m\u001b[43m,\u001b[49m\n\u001b[32m    879\u001b[39m \u001b[43m        \u001b[49m\u001b[43m)\u001b[49m\n\u001b[32m    880\u001b[39m     \u001b[38;5;28;01melse\u001b[39;00m:\n\u001b[32m    881\u001b[39m         \u001b[38;5;66;03m# Binary mode\u001b[39;00m\n\u001b[32m    882\u001b[39m         handle = \u001b[38;5;28mopen\u001b[39m(handle, ioargs.mode)\n",
      "\u001b[31mFileNotFoundError\u001b[39m: [Errno 2] No such file or directory: '../data/results/norm/3/best_results_pruned_3_native.csv'"
     ]
    }
   ],
   "source": [
    "system=3\n",
    "df = pd.read_csv(f'../data/results/norm/{system}/best_results_pruned_{system}_native.csv')\n",
    "df"
   ]
  },
  {
   "cell_type": "code",
   "execution_count": null,
   "id": "f550aa88",
   "metadata": {},
   "outputs": [
    {
     "data": {
      "application/vnd.microsoft.datawrangler.viewer.v0+json": {
       "columns": [
        {
         "name": "index",
         "rawType": "int64",
         "type": "integer"
        },
        {
         "name": "precision",
         "rawType": "int64",
         "type": "integer"
        },
        {
         "name": "timepoints",
         "rawType": "int64",
         "type": "integer"
        },
        {
         "name": "runtime",
         "rawType": "float64",
         "type": "float"
        },
        {
         "name": "gap",
         "rawType": "float64",
         "type": "float"
        },
        {
         "name": "success_prob",
         "rawType": "float64",
         "type": "float"
        },
        {
         "name": "solution",
         "rawType": "object",
         "type": "string"
        }
       ],
       "ref": "324bbe4c-ec43-4d46-9cd4-2fbdfb668f88",
       "rows": [
        [
         "592",
         "7",
         "3",
         "1871.928447831",
         "0.0037637162522276",
         "0.726318359375",
         "100110101000000011111000000010011000011110001111110000000010010001111001000101000001"
        ],
        [
         "547",
         "7",
         "3",
         "73.824679188",
         "0.0037637162522276",
         "0.732421875",
         "100110101000000011111000000010011000011110001111110000000010010001111001000101000001"
        ],
        [
         "584",
         "7",
         "4",
         "973.191306821",
         "0.0040985671030077",
         "0.563812255859375",
         "1000000010001001000010011100001100001000010011110100000000101100011111010000000000110111100010000001000010100100"
        ],
        [
         "580",
         "6",
         "3",
         "920.925626443",
         "0.0044991225891925",
         "0.60577392578125",
         "100110010000010000000000100110010000010000100000001001010000010000100001"
        ],
        [
         "583",
         "7",
         "3",
         "960.217038235",
         "0.0046864895621445",
         "0.757598876953125",
         "100110100111100011110000000010011000011111010001110000000010010010001101000001000001"
        ],
        [
         "574",
         "7",
         "3",
         "496.549498145",
         "0.005071951830844",
         "0.732421875",
         "100111001000010100000000000010010110011111001111010000110001111001111001000101000000"
        ],
        [
         "556",
         "7",
         "3",
         "142.227041351",
         "0.0051186745300803",
         "0.69580078125",
         "100101001000010100000000001010010010011111001111001111010010101001111001000100111110"
        ],
        [
         "430",
         "7",
         "3",
         "370.339641202",
         "0.0053406073514527",
         "0.2893447875976562",
         "100110100111100011110000000010011000011101010001010000000010010010001001000111000010"
        ],
        [
         "538",
         "7",
         "3",
         "40.69073813",
         "0.0055975821972523",
         "0.6591796875",
         "100111000111100011110000000010010110011101010001010000110001111010000101000111000000"
        ],
        [
         "427",
         "6",
         "3",
         "356.539263832",
         "0.0059299164809374",
         "0.4117965698242187",
         "100101010001010001000001100101010001001111011110001011001111001111100000"
        ],
        [
         "565",
         "7",
         "3",
         "260.340057283",
         "0.006169935262897",
         "0.701904296875",
         "100111001000000100000000000010010110100000010000010000110001111001111100111111000000"
        ],
        [
         "575",
         "7",
         "4",
         "501.15014109",
         "0.0065745635357652",
         "0.5645751953125",
         "1000001010001001000100011110001010001000100011110100010000011110100000010000000000010111100010000000111110011110"
        ],
        [
         "529",
         "7",
         "3",
         "30.892480395",
         "0.0066021202308328",
         "0.634765625",
         "100111001000000011111000000010010110011111010000010000110001111010000001000011000000"
        ],
        [
         "557",
         "7",
         "4",
         "144.367101151",
         "0.0067211685877048",
         "0.54931640625",
         "1000001010000101000000011110001010001000000011111100010000011100011110001111100000100111010001111001000100011101"
        ],
        [
         "593",
         "7",
         "4",
         "1926.038572618",
         "0.0067700369383513",
         "0.543975830078125",
         "1000010010000101000000011101001010001000000011111100011000011100011110001111100000000111100001111101000100011110"
        ],
        [
         "457",
         "7",
         "3",
         "1067.291221845",
         "0.0069174984506778",
         "0.2894401550292969",
         "100110100111100011110000000010011000011110010001001111110010100010000101000101000001"
        ],
        [
         "548",
         "7",
         "4",
         "79.556240128",
         "0.0071854179188468",
         "0.40283203125",
         "0111111010000101000000011111001001101000000011111100001000011110100000010000100000100111010010000100111110011101"
        ],
        [
         "589",
         "6",
         "3",
         "1803.395644554",
         "0.007538081516287",
         "0.6183624267578125",
         "100111010000010000000000100110010000010000100001001001010000010000100000"
        ],
        [
         "563",
         "6",
         "4",
         "258.31749846",
         "0.0076360627172572",
         "0.2960205078125",
         "100000010001010000001110001100010000001111100000001011001111010000000010011101010000010001010010"
        ],
        [
         "292",
         "6",
         "3",
         "13.755543684",
         "0.0077864011173336",
         "0.4150390625",
         "100101001111010000000001100101010001010010011110001011010010001110100000"
        ],
        [
         "454",
         "6",
         "3",
         "1110.369220994",
         "0.0077864011173336",
         "0.4093170166015625",
         "100101010001010000000001100101001111001110011110001011001110010010100000"
        ],
        [
         "403",
         "7",
         "3",
         "185.944775356",
         "0.0077935490613584",
         "0.3025054931640625",
         "100110000111000011011000000010011000011001010001101111100010101010000001001101000001"
        ],
        [
         "400",
         "6",
         "3",
         "180.175780866",
         "0.0078337000889616",
         "0.3978729248046875",
         "100101001110001110000001100101001110010010011110001011010001010001100000"
        ],
        [
         "455",
         "6",
         "4",
         "1090.860765078",
         "0.0079657420093925",
         "0.0562667846679687",
         "011110010001010000010000001010010000001111011110001011010000010001000001011110010001001111010010"
        ],
        [
         "428",
         "6",
         "4",
         "369.124976304",
         "0.007998709938606",
         "0.0597000122070312",
         "100000010001010000001110001100010000001111100000001010010000010001000010011101010001001111010001"
        ],
        [
         "566",
         "7",
         "4",
         "268.06509026",
         "0.0083989819599023",
         "0.4974365234375",
         "1000001001111100111110011110001010000111110100000100010000011100011110001111100000100111010001111001000100011100"
        ],
        [
         "553",
         "6",
         "3",
         "140.034823836",
         "0.0084604114630316",
         "0.67138671875",
         "100110010001010000000000100110001111001110100000001001001110010010100001"
        ],
        [
         "571",
         "6",
         "3",
         "478.47791412",
         "0.0084604114630316",
         "0.64544677734375",
         "100110010001010000000000100110001111001110100000001001001110010010100001"
        ],
        [
         "562",
         "6",
         "3",
         "253.655091798",
         "0.0084604114630316",
         "0.604248046875",
         "100110010001010000000000100110001111001110100000001001001110010010100001"
        ],
        [
         "544",
         "6",
         "3",
         "66.36904205",
         "0.0087205558069853",
         "0.48828125",
         "100110010001010000000000100110001111001110011111001010001110010010100001"
        ],
        [
         "373",
         "6",
         "3",
         "92.643013682",
         "0.0087560300357062",
         "0.4302978515625",
         "100110010010010010000000100110010010001110011111001010001111001111100001"
        ],
        [
         "445",
         "6",
         "3",
         "113.522578521",
         "0.0087678547786132",
         "0.0049591064453125",
         "100101010011010011000001100101010100001101011110001011001110001101100000"
        ],
        [
         "319",
         "6",
         "3",
         "25.291460442",
         "0.0087678547786132",
         "0.396728515625",
         "100101001101001101000001100101001100010011011110001011010010010011100000"
        ],
        [
         "295",
         "7",
         "3",
         "14.090250956",
         "0.0091017846399748",
         "0.384521484375",
         "100110001000000011111000000010011100011110001111101111010010110001111001000011000100"
        ],
        [
         "458",
         "7",
         "4",
         "1079.485640747",
         "0.0091157177693847",
         "0.0481605529785156",
         "0111010010001001000100011100001111001000100011110011010000111100100000010000000011010110011010000000111110101000"
        ],
        [
         "572",
         "6",
         "4",
         "496.094726757",
         "0.0093503950363609",
         "0.341796875",
         "100000001111001110001110001100001101010000100000001010001111010010000010011101010001010000010001"
        ],
        [
         "322",
         "7",
         "3",
         "25.941147644",
         "0.0093704401605835",
         "0.2349853515625",
         "100101000111110011110000000110011000011110010001001111000010110010001001000101000011"
        ],
        [
         "590",
         "6",
         "4",
         "1868.608919646",
         "0.0094987507178218",
         "0.3253936767578125",
         "011110010001010001010001001001010001001111011110001011001111001111000000011111001111010001010010"
        ],
        [
         "376",
         "7",
         "3",
         "96.142383681",
         "0.0097325410796648",
         "0.286865234375",
         "100101100111000011100000000010011100011100010010101111010010110010010001000111000011"
        ],
        [
         "494",
         "7",
         "4",
         "30.941950214",
         "0.0100849400572075",
         "0.78125",
         "0111111010001001000010011111001001001000000011101100001100011110011111010001000000010111011010001101000000011110"
        ],
        [
         "581",
         "6",
         "4",
         "944.713183829",
         "0.0100921734436654",
         "0.292205810546875",
         "100001010001010001001111001010010001001111100011000111001111001111000000011110001111010001001111"
        ],
        [
         "499",
         "6",
         "3",
         "30.661416543",
         "0.0105652157004746",
         "1.5625",
         "100101010000001111000000100110001110001111011110001011001110010010100001"
        ],
        [
         "346",
         "6",
         "3",
         "48.286338139",
         "0.0107307621011723",
         "0.39215087890625",
         "100110001110001110000000100111001110010010011111001010010001010001100010"
        ],
        [
         "545",
         "6",
         "4",
         "76.340949875",
         "0.0107350480633293",
         "0.30517578125",
         "011111010001010001010000001001010001001111011111001011001111001111000000011111001111010001010010"
        ],
        [
         "431",
         "7",
         "4",
         "383.412506514",
         "0.0108098205917977",
         "0.0455856323242187",
         "0111110010000101000010100000001001101000100011110011111100101000011111001111000000000111110001111001000100100010"
        ],
        [
         "77",
         "6",
         "4",
         "3.250305002",
         "0.0121609110018146",
         "1.5625",
         "100000010001010001001111001010010001001111100010000111001111001111000001011101001111010001001111"
        ],
        [
         "554",
         "6",
         "4",
         "143.677500506",
         "0.0122268468602416",
         "0.311279296875",
         "100010010001010001001110001010010001001111100100000110001111001111000000011110001111010001001110"
        ],
        [
         "268",
         "7",
         "3",
         "7.240591428",
         "0.0124541383101793",
         "0.18310546875",
         "100101100111000011100000000010010110011100010010101111010010110010010001000111000001"
        ],
        [
         "535",
         "6",
         "3",
         "39.95147569",
         "0.0127764426240803",
         "0.5126953125",
         "100110001100001101000000100110001101010101011111001010010100010010100001"
        ],
        [
         "530",
         "7",
         "4",
         "30.645006888",
         "0.0130007516457837",
         "0.5859375",
         "0111111010001101000100011111001001101000010011101100001000011110011110010000000000100111010010000001000010011100"
        ]
       ],
       "shape": {
        "columns": 6,
        "rows": 597
       }
      },
      "text/html": [
       "<div>\n",
       "<style scoped>\n",
       "    .dataframe tbody tr th:only-of-type {\n",
       "        vertical-align: middle;\n",
       "    }\n",
       "\n",
       "    .dataframe tbody tr th {\n",
       "        vertical-align: top;\n",
       "    }\n",
       "\n",
       "    .dataframe thead th {\n",
       "        text-align: right;\n",
       "    }\n",
       "</style>\n",
       "<table border=\"1\" class=\"dataframe\">\n",
       "  <thead>\n",
       "    <tr style=\"text-align: right;\">\n",
       "      <th></th>\n",
       "      <th>precision</th>\n",
       "      <th>timepoints</th>\n",
       "      <th>runtime</th>\n",
       "      <th>gap</th>\n",
       "      <th>success_prob</th>\n",
       "      <th>solution</th>\n",
       "    </tr>\n",
       "  </thead>\n",
       "  <tbody>\n",
       "    <tr>\n",
       "      <th>592</th>\n",
       "      <td>7</td>\n",
       "      <td>3</td>\n",
       "      <td>1871.928448</td>\n",
       "      <td>0.003764</td>\n",
       "      <td>0.726318</td>\n",
       "      <td>1001101010000000111110000000100110000111100011...</td>\n",
       "    </tr>\n",
       "    <tr>\n",
       "      <th>547</th>\n",
       "      <td>7</td>\n",
       "      <td>3</td>\n",
       "      <td>73.824679</td>\n",
       "      <td>0.003764</td>\n",
       "      <td>0.732422</td>\n",
       "      <td>1001101010000000111110000000100110000111100011...</td>\n",
       "    </tr>\n",
       "    <tr>\n",
       "      <th>584</th>\n",
       "      <td>7</td>\n",
       "      <td>4</td>\n",
       "      <td>973.191307</td>\n",
       "      <td>0.004099</td>\n",
       "      <td>0.563812</td>\n",
       "      <td>1000000010001001000010011100001100001000010011...</td>\n",
       "    </tr>\n",
       "    <tr>\n",
       "      <th>580</th>\n",
       "      <td>6</td>\n",
       "      <td>3</td>\n",
       "      <td>920.925626</td>\n",
       "      <td>0.004499</td>\n",
       "      <td>0.605774</td>\n",
       "      <td>1001100100000100000000001001100100000100001000...</td>\n",
       "    </tr>\n",
       "    <tr>\n",
       "      <th>583</th>\n",
       "      <td>7</td>\n",
       "      <td>3</td>\n",
       "      <td>960.217038</td>\n",
       "      <td>0.004686</td>\n",
       "      <td>0.757599</td>\n",
       "      <td>1001101001111000111100000000100110000111110100...</td>\n",
       "    </tr>\n",
       "    <tr>\n",
       "      <th>...</th>\n",
       "      <td>...</td>\n",
       "      <td>...</td>\n",
       "      <td>...</td>\n",
       "      <td>...</td>\n",
       "      <td>...</td>\n",
       "      <td>...</td>\n",
       "    </tr>\n",
       "    <tr>\n",
       "      <th>18</th>\n",
       "      <td>5</td>\n",
       "      <td>2</td>\n",
       "      <td>3.057994</td>\n",
       "      <td>0.435764</td>\n",
       "      <td>0.000000</td>\n",
       "      <td>0011101110100000111000000101000000100011</td>\n",
       "    </tr>\n",
       "    <tr>\n",
       "      <th>8</th>\n",
       "      <td>7</td>\n",
       "      <td>4</td>\n",
       "      <td>0.028490</td>\n",
       "      <td>0.441503</td>\n",
       "      <td>0.000000</td>\n",
       "      <td>0111001001011000100100010100011001100110010110...</td>\n",
       "    </tr>\n",
       "    <tr>\n",
       "      <th>4</th>\n",
       "      <td>6</td>\n",
       "      <td>3</td>\n",
       "      <td>0.026704</td>\n",
       "      <td>0.461892</td>\n",
       "      <td>0.000000</td>\n",
       "      <td>1010000111011000010000001000101001100001111001...</td>\n",
       "    </tr>\n",
       "    <tr>\n",
       "      <th>5</th>\n",
       "      <td>6</td>\n",
       "      <td>4</td>\n",
       "      <td>0.028573</td>\n",
       "      <td>0.487971</td>\n",
       "      <td>0.000000</td>\n",
       "      <td>0111000000110010110001011000000011111000010011...</td>\n",
       "    </tr>\n",
       "    <tr>\n",
       "      <th>0</th>\n",
       "      <td>5</td>\n",
       "      <td>2</td>\n",
       "      <td>0.045563</td>\n",
       "      <td>0.494676</td>\n",
       "      <td>0.000000</td>\n",
       "      <td>0101101011010100101000110010010010001001</td>\n",
       "    </tr>\n",
       "  </tbody>\n",
       "</table>\n",
       "<p>597 rows × 6 columns</p>\n",
       "</div>"
      ],
      "text/plain": [
       "     precision  timepoints      runtime       gap  success_prob  \\\n",
       "592          7           3  1871.928448  0.003764      0.726318   \n",
       "547          7           3    73.824679  0.003764      0.732422   \n",
       "584          7           4   973.191307  0.004099      0.563812   \n",
       "580          6           3   920.925626  0.004499      0.605774   \n",
       "583          7           3   960.217038  0.004686      0.757599   \n",
       "..         ...         ...          ...       ...           ...   \n",
       "18           5           2     3.057994  0.435764      0.000000   \n",
       "8            7           4     0.028490  0.441503      0.000000   \n",
       "4            6           3     0.026704  0.461892      0.000000   \n",
       "5            6           4     0.028573  0.487971      0.000000   \n",
       "0            5           2     0.045563  0.494676      0.000000   \n",
       "\n",
       "                                              solution  \n",
       "592  1001101010000000111110000000100110000111100011...  \n",
       "547  1001101010000000111110000000100110000111100011...  \n",
       "584  1000000010001001000010011100001100001000010011...  \n",
       "580  1001100100000100000000001001100100000100001000...  \n",
       "583  1001101001111000111100000000100110000111110100...  \n",
       "..                                                 ...  \n",
       "18            0011101110100000111000000101000000100011  \n",
       "8    0111001001011000100100010100011001100110010110...  \n",
       "4    1010000111011000010000001000101001100001111001...  \n",
       "5    0111000000110010110001011000000011111000010011...  \n",
       "0             0101101011010100101000110010010010001001  \n",
       "\n",
       "[597 rows x 6 columns]"
      ]
     },
     "execution_count": 20,
     "metadata": {},
     "output_type": "execute_result"
    }
   ],
   "source": [
    "df_dict= defaultdict(list)\n",
    "for row in df.itertuples():\n",
    "    precision, timepoints = re.findall(r'\\d+',str(row.instance))\n",
    "    df_dict['precision'].append(int(precision))\n",
    "    df_dict['timepoints'].append(int(timepoints))\n",
    "    df_dict['runtime'].append(float(row.runtime))\n",
    "    df_dict['gap'].append(float(row.gap))\n",
    "    df_dict['success_prob'].append(float(row.success_prob))\n",
    "    df_dict['solution'].append(row.best_solution.replace(\"-1\",\"0\").replace(';',''))\n",
    "df_cleaned = pd.DataFrame(df_dict).sort_values('gap',ascending=True).drop_duplicates()\n",
    "df_cleaned"
   ]
  },
  {
   "cell_type": "code",
   "execution_count": null,
   "id": "4fc0e349",
   "metadata": {},
   "outputs": [
    {
     "data": {
      "application/vnd.microsoft.datawrangler.viewer.v0+json": {
       "columns": [
        {
         "name": "index",
         "rawType": "int64",
         "type": "integer"
        },
        {
         "name": "precision",
         "rawType": "int64",
         "type": "integer"
        },
        {
         "name": "timepoints",
         "rawType": "int64",
         "type": "integer"
        },
        {
         "name": "runtime",
         "rawType": "float64",
         "type": "float"
        },
        {
         "name": "gap",
         "rawType": "float64",
         "type": "float"
        },
        {
         "name": "success_prob",
         "rawType": "float64",
         "type": "float"
        },
        {
         "name": "solution",
         "rawType": "object",
         "type": "string"
        }
       ],
       "ref": "4c4d2764-f4f9-4d94-86fd-b6c5efde593e",
       "rows": [
        [
         "580",
         "6",
         "3",
         "920.925626443",
         "0.0044991225891925",
         "0.60577392578125",
         "100110010000010000000000100110010000010000100000001001010000010000100001"
        ],
        [
         "427",
         "6",
         "3",
         "356.539263832",
         "0.0059299164809374",
         "0.4117965698242187",
         "100101010001010001000001100101010001001111011110001011001111001111100000"
        ],
        [
         "589",
         "6",
         "3",
         "1803.395644554",
         "0.007538081516287",
         "0.6183624267578125",
         "100111010000010000000000100110010000010000100001001001010000010000100000"
        ],
        [
         "292",
         "6",
         "3",
         "13.755543684",
         "0.0077864011173336",
         "0.4150390625",
         "100101001111010000000001100101010001010010011110001011010010001110100000"
        ],
        [
         "454",
         "6",
         "3",
         "1110.369220994",
         "0.0077864011173336",
         "0.4093170166015625",
         "100101010001010000000001100101001111001110011110001011001110010010100000"
        ],
        [
         "400",
         "6",
         "3",
         "180.175780866",
         "0.0078337000889616",
         "0.3978729248046875",
         "100101001110001110000001100101001110010010011110001011010001010001100000"
        ],
        [
         "553",
         "6",
         "3",
         "140.034823836",
         "0.0084604114630316",
         "0.67138671875",
         "100110010001010000000000100110001111001110100000001001001110010010100001"
        ],
        [
         "571",
         "6",
         "3",
         "478.47791412",
         "0.0084604114630316",
         "0.64544677734375",
         "100110010001010000000000100110001111001110100000001001001110010010100001"
        ],
        [
         "562",
         "6",
         "3",
         "253.655091798",
         "0.0084604114630316",
         "0.604248046875",
         "100110010001010000000000100110001111001110100000001001001110010010100001"
        ],
        [
         "544",
         "6",
         "3",
         "66.36904205",
         "0.0087205558069853",
         "0.48828125",
         "100110010001010000000000100110001111001110011111001010001110010010100001"
        ],
        [
         "373",
         "6",
         "3",
         "92.643013682",
         "0.0087560300357062",
         "0.4302978515625",
         "100110010010010010000000100110010010001110011111001010001111001111100001"
        ],
        [
         "445",
         "6",
         "3",
         "113.522578521",
         "0.0087678547786132",
         "0.0049591064453125",
         "100101010011010011000001100101010100001101011110001011001110001101100000"
        ],
        [
         "319",
         "6",
         "3",
         "25.291460442",
         "0.0087678547786132",
         "0.396728515625",
         "100101001101001101000001100101001100010011011110001011010010010011100000"
        ],
        [
         "499",
         "6",
         "3",
         "30.661416543",
         "0.0105652157004746",
         "1.5625",
         "100101010000001111000000100110001110001111011110001011001110010010100001"
        ],
        [
         "346",
         "6",
         "3",
         "48.286338139",
         "0.0107307621011723",
         "0.39215087890625",
         "100110001110001110000000100111001110010010011111001010010001010001100010"
        ],
        [
         "535",
         "6",
         "3",
         "39.95147569",
         "0.0127764426240803",
         "0.5126953125",
         "100110001100001101000000100110001101010101011111001010010100010010100001"
        ],
        [
         "211",
         "6",
         "3",
         "3.445207725",
         "0.0130957106825688",
         "0.5859375",
         "100110010000001111000000100110001110001111011111001011001111010011100000"
        ],
        [
         "265",
         "6",
         "3",
         "6.72014997",
         "0.0132021333687317",
         "0.390625",
         "100110001100001100000000100110001011010100011111001010010011010100100001"
        ],
        [
         "517",
         "6",
         "3",
         "30.927672975",
         "0.0138288447428017",
         "0.78125",
         "100100001110001110000010100011001110010011011110001010010010010001011110"
        ],
        [
         "526",
         "6",
         "3",
         "31.563809353",
         "0.0148812468615232",
         "0.732421875",
         "100101001110001111000000100111001111010010011101001101010001010000100010"
        ],
        [
         "238",
         "6",
         "3",
         "3.883457294",
         "0.0166076593259427",
         "0.537109375",
         "100110010000001111000000100110001110010000011111001011010000010010100001"
        ],
        [
         "184",
         "6",
         "3",
         "3.604752872",
         "0.0168559789269893",
         "0.78125",
         "100110001101001101000000100110001110010101011111001010010101010001100001"
        ],
        [
         "418",
         "6",
         "3",
         "35.795794009",
         "0.0178492573311758",
         "0.0066757202148437",
         "100101010011010010000001100101010010001100011110001011001101001111100001"
        ],
        [
         "508",
         "6",
         "3",
         "31.271573033",
         "0.0204979997423399",
         "0.5859375",
         "100110010011010001000000100110001111001011011111001010001011010011100001"
        ],
        [
         "337",
         "6",
         "3",
         "4.780723554",
         "0.0206162471714098",
         "0.00762939453125",
         "100100001110001111000001100101001110010010011101001100010001010001100000"
        ],
        [
         "364",
         "6",
         "3",
         "9.207356504",
         "0.0220825152918756",
         "0.00762939453125",
         "100101010000010000000001100101001111010000011110001011010000010010100001"
        ],
        [
         "391",
         "6",
         "3",
         "17.998981357",
         "0.0276637939439714",
         "0.0064849853515625",
         "100100001111010001000000100111010010010010011100001101010011001110100011"
        ],
        [
         "157",
         "6",
         "3",
         "3.175727665",
         "0.0303007116122285",
         "0.390625",
         "100110001111010000000001100101001111010001011111001011010001010010100000"
        ],
        [
         "310",
         "6",
         "3",
         "2.555274347",
         "0.0336825880836255",
         "0.0030517578125",
         "100111001101001110000000100110001110010100100001000111010100010000100001"
        ],
        [
         "103",
         "6",
         "3",
         "3.3041884",
         "0.0351015572324635",
         "0.0",
         "100010001100001101000101011111001101010101011101001010010100010010011010"
        ],
        [
         "49",
         "6",
         "3",
         "3.114491263",
         "0.0394175883935121",
         "0.0",
         "101000010000001111000000100011001110001111100100000100001101010010011100"
        ],
        [
         "283",
         "6",
         "3",
         "1.370708234",
         "0.04220822771956",
         "0.0",
         "100101001111010000000100011110010001010010100010000101010011001111011000"
        ],
        [
         "256",
         "6",
         "3",
         "0.662352613",
         "0.0457438258487478",
         "0.0",
         "101000010011010010000000100111010100001110100001001000001111001100100010"
        ],
        [
         "13",
         "6",
         "3",
         "0.304273594",
         "0.0457911248203757",
         "0.0",
         "100101001101001110000000100111001110010100011111001010010011010000100001"
        ],
        [
         "130",
         "6",
         "3",
         "3.315117683",
         "0.0474938877989812",
         "0.0",
         "100101010010010000000000100110001101001010011111001010001000010100100000"
        ],
        [
         "382",
         "6",
         "3",
         "1.862878976",
         "0.0486408878609585",
         "0.0",
         "100011010100010100000001100101010101001100011101001100001110001101100001"
        ],
        [
         "229",
         "6",
         "3",
         "0.413452978",
         "0.051738970502588",
         "0.0",
         "100001001100001101000101011110001110010110011011001100010101010001011010"
        ],
        [
         "202",
         "6",
         "3",
         "0.696422846",
         "0.0536664035964261",
         "0.0",
         "100111001110001110000000100111001101010010011111001100010010010011100011"
        ],
        [
         "490",
         "6",
         "3",
         "30.764556589",
         "0.0536664035964261",
         "0.0",
         "100100010110010101000101011101010101001001100000000111001011001101010111"
        ],
        [
         "409",
         "6",
         "3",
         "3.765404925",
         "0.0548725273729384",
         "0.0",
         "100010010100010011000101011111010100001101011011001100001110001101011011"
        ],
        [
         "193",
         "6",
         "3",
         "0.041801275",
         "0.0573675481263117",
         "0.0",
         "100011010101010101000101011110010111001011011110001010001101001010011010"
        ],
        [
         "436",
         "6",
         "3",
         "7.531442062",
         "0.059188558533987",
         "0.0",
         "100110001011001011000000100110001101010111011111001010010111010000100000"
        ],
        [
         "472",
         "6",
         "3",
         "30.728674841",
         "0.0599335173371269",
         "0.0",
         "101000000110000101000000100110000010011010100010000111010110011011100000"
        ],
        [
         "328",
         "6",
         "3",
         "0.500670045",
         "0.0669337651380606",
         "0.0",
         "100100010110010110000011011111010111001001100001000101001011001100011010"
        ],
        [
         "481",
         "6",
         "3",
         "31.33815978",
         "0.0674422290830609",
         "0.0",
         "100100001110001011000100011111000111001110011111001000001011011001011010"
        ],
        [
         "355",
         "6",
         "3",
         "1.003014894",
         "0.0700200230367831",
         "0.0",
         "100110001101001110000001100101001101010011100000000111010001010011100010"
        ],
        [
         "175",
         "6",
         "3",
         "0.724584703",
         "0.0703865900668995",
         "0.0",
         "100010010110010101000111011101010101001000011100001011001001001100011000"
        ],
        [
         "40",
         "6",
         "3",
         "0.330959521",
         "0.0724440953327145",
         "0.0",
         "100100010101010111000101011101011000001010100000000111001101001010010111"
        ],
        [
         "121",
         "6",
         "3",
         "0.323596833",
         "0.0771858172384145",
         "0.0",
         "100010010001001110000101011110001011001100011101001010001011011000011001"
        ],
        [
         "301",
         "6",
         "3",
         "0.263300492",
         "0.0779544255273684",
         "0.0",
         "100100001111010001000011100101010011010011011011001101010101001110100001"
        ]
       ],
       "shape": {
        "columns": 6,
        "rows": 66
       }
      },
      "text/html": [
       "<div>\n",
       "<style scoped>\n",
       "    .dataframe tbody tr th:only-of-type {\n",
       "        vertical-align: middle;\n",
       "    }\n",
       "\n",
       "    .dataframe tbody tr th {\n",
       "        vertical-align: top;\n",
       "    }\n",
       "\n",
       "    .dataframe thead th {\n",
       "        text-align: right;\n",
       "    }\n",
       "</style>\n",
       "<table border=\"1\" class=\"dataframe\">\n",
       "  <thead>\n",
       "    <tr style=\"text-align: right;\">\n",
       "      <th></th>\n",
       "      <th>precision</th>\n",
       "      <th>timepoints</th>\n",
       "      <th>runtime</th>\n",
       "      <th>gap</th>\n",
       "      <th>success_prob</th>\n",
       "      <th>solution</th>\n",
       "    </tr>\n",
       "  </thead>\n",
       "  <tbody>\n",
       "    <tr>\n",
       "      <th>580</th>\n",
       "      <td>6</td>\n",
       "      <td>3</td>\n",
       "      <td>920.925626</td>\n",
       "      <td>0.004499</td>\n",
       "      <td>0.605774</td>\n",
       "      <td>1001100100000100000000001001100100000100001000...</td>\n",
       "    </tr>\n",
       "    <tr>\n",
       "      <th>427</th>\n",
       "      <td>6</td>\n",
       "      <td>3</td>\n",
       "      <td>356.539264</td>\n",
       "      <td>0.005930</td>\n",
       "      <td>0.411797</td>\n",
       "      <td>1001010100010100010000011001010100010011110111...</td>\n",
       "    </tr>\n",
       "    <tr>\n",
       "      <th>589</th>\n",
       "      <td>6</td>\n",
       "      <td>3</td>\n",
       "      <td>1803.395645</td>\n",
       "      <td>0.007538</td>\n",
       "      <td>0.618362</td>\n",
       "      <td>1001110100000100000000001001100100000100001000...</td>\n",
       "    </tr>\n",
       "    <tr>\n",
       "      <th>292</th>\n",
       "      <td>6</td>\n",
       "      <td>3</td>\n",
       "      <td>13.755544</td>\n",
       "      <td>0.007786</td>\n",
       "      <td>0.415039</td>\n",
       "      <td>1001010011110100000000011001010100010100100111...</td>\n",
       "    </tr>\n",
       "    <tr>\n",
       "      <th>454</th>\n",
       "      <td>6</td>\n",
       "      <td>3</td>\n",
       "      <td>1110.369221</td>\n",
       "      <td>0.007786</td>\n",
       "      <td>0.409317</td>\n",
       "      <td>1001010100010100000000011001010011110011100111...</td>\n",
       "    </tr>\n",
       "    <tr>\n",
       "      <th>...</th>\n",
       "      <td>...</td>\n",
       "      <td>...</td>\n",
       "      <td>...</td>\n",
       "      <td>...</td>\n",
       "      <td>...</td>\n",
       "      <td>...</td>\n",
       "    </tr>\n",
       "    <tr>\n",
       "      <th>112</th>\n",
       "      <td>6</td>\n",
       "      <td>3</td>\n",
       "      <td>0.031555</td>\n",
       "      <td>0.194440</td>\n",
       "      <td>0.000000</td>\n",
       "      <td>1001110101100101110000001001110101100010110111...</td>\n",
       "    </tr>\n",
       "    <tr>\n",
       "      <th>31</th>\n",
       "      <td>6</td>\n",
       "      <td>3</td>\n",
       "      <td>0.035142</td>\n",
       "      <td>0.218858</td>\n",
       "      <td>0.000000</td>\n",
       "      <td>0111110101010110010001110111110111000010100110...</td>\n",
       "    </tr>\n",
       "    <tr>\n",
       "      <th>85</th>\n",
       "      <td>6</td>\n",
       "      <td>3</td>\n",
       "      <td>0.089471</td>\n",
       "      <td>0.232847</td>\n",
       "      <td>0.000000</td>\n",
       "      <td>1000010101110100100001100111100100000001010111...</td>\n",
       "    </tr>\n",
       "    <tr>\n",
       "      <th>58</th>\n",
       "      <td>6</td>\n",
       "      <td>3</td>\n",
       "      <td>0.037415</td>\n",
       "      <td>0.280926</td>\n",
       "      <td>0.000000</td>\n",
       "      <td>1001000010010011010001110111000011110110111000...</td>\n",
       "    </tr>\n",
       "    <tr>\n",
       "      <th>4</th>\n",
       "      <td>6</td>\n",
       "      <td>3</td>\n",
       "      <td>0.026704</td>\n",
       "      <td>0.461892</td>\n",
       "      <td>0.000000</td>\n",
       "      <td>1010000111011000010000001000101001100001111001...</td>\n",
       "    </tr>\n",
       "  </tbody>\n",
       "</table>\n",
       "<p>66 rows × 6 columns</p>\n",
       "</div>"
      ],
      "text/plain": [
       "     precision  timepoints      runtime       gap  success_prob  \\\n",
       "580          6           3   920.925626  0.004499      0.605774   \n",
       "427          6           3   356.539264  0.005930      0.411797   \n",
       "589          6           3  1803.395645  0.007538      0.618362   \n",
       "292          6           3    13.755544  0.007786      0.415039   \n",
       "454          6           3  1110.369221  0.007786      0.409317   \n",
       "..         ...         ...          ...       ...           ...   \n",
       "112          6           3     0.031555  0.194440      0.000000   \n",
       "31           6           3     0.035142  0.218858      0.000000   \n",
       "85           6           3     0.089471  0.232847      0.000000   \n",
       "58           6           3     0.037415  0.280926      0.000000   \n",
       "4            6           3     0.026704  0.461892      0.000000   \n",
       "\n",
       "                                              solution  \n",
       "580  1001100100000100000000001001100100000100001000...  \n",
       "427  1001010100010100010000011001010100010011110111...  \n",
       "589  1001110100000100000000001001100100000100001000...  \n",
       "292  1001010011110100000000011001010100010100100111...  \n",
       "454  1001010100010100000000011001010011110011100111...  \n",
       "..                                                 ...  \n",
       "112  1001110101100101110000001001110101100010110111...  \n",
       "31   0111110101010110010001110111110111000010100110...  \n",
       "85   1000010101110100100001100111100100000001010111...  \n",
       "58   1001000010010011010001110111000011110110111000...  \n",
       "4    1010000111011000010000001000101001100001111001...  \n",
       "\n",
       "[66 rows x 6 columns]"
      ]
     },
     "execution_count": 21,
     "metadata": {},
     "output_type": "execute_result"
    }
   ],
   "source": [
    "precision = 6\n",
    "timepoints = 3\n",
    "\n",
    "df_filtered =  df_cleaned[(df_cleaned.precision == precision) & (df_cleaned.timepoints == timepoints)]\n",
    "df_filtered"
   ]
  },
  {
   "cell_type": "code",
   "execution_count": null,
   "id": "1e6818a6",
   "metadata": {},
   "outputs": [
    {
     "name": "stdout",
     "output_type": "stream",
     "text": [
      "[[ 2. +0.j          0. +0.j         -0.5+0.j         -0. -1.11803399j\n",
      "   0. +0.j          0. +0.j        ]\n",
      " [ 0. +0.j          2. +0.j         -0. -1.11803399j  0.5+0.j\n",
      "   0. +0.j          0. +0.j        ]\n",
      " [-0.5-0.j         -0. +1.11803399j  2. +0.j          0. +0.j\n",
      "  -0.5+0.j         -0. -1.11803399j]\n",
      " [-0. +1.11803399j  0.5-0.j          0. +0.j          2. +0.j\n",
      "  -0. -1.11803399j  0.5+0.j        ]\n",
      " [ 0. +0.j          0. +0.j         -0.5-0.j         -0. +1.11803399j\n",
      "   1. +0.j          0. +0.j        ]\n",
      " [ 0. +0.j          0. +0.j         -0. +1.11803399j  0.5-0.j\n",
      "   0. +0.j          1. +0.j        ]]\n",
      "[[ 2.          0.          0.          0.         -0.5         0.\n",
      "  -0.         -1.11803399  0.          0.          0.          0.        ]\n",
      " [-0.          2.         -0.          0.         -0.         -0.5\n",
      "   1.11803399 -0.         -0.          0.         -0.          0.        ]\n",
      " [ 0.          0.          2.          0.         -0.         -1.11803399\n",
      "   0.5         0.          0.          0.          0.          0.        ]\n",
      " [-0.          0.         -0.          2.          1.11803399 -0.\n",
      "  -0.          0.5        -0.          0.         -0.          0.        ]\n",
      " [-0.5        -0.         -0.          1.11803399  2.          0.\n",
      "   0.          0.         -0.5         0.         -0.         -1.11803399]\n",
      " [ 0.         -0.5        -1.11803399 -0.         -0.          2.\n",
      "  -0.          0.         -0.         -0.5         1.11803399 -0.        ]\n",
      " [-0.          1.11803399  0.5        -0.          0.          0.\n",
      "   2.          0.         -0.         -1.11803399  0.5         0.        ]\n",
      " [-1.11803399 -0.          0.          0.5        -0.          0.\n",
      "  -0.          2.          1.11803399 -0.         -0.          0.5       ]\n",
      " [ 0.          0.          0.          0.         -0.5        -0.\n",
      "  -0.          1.11803399  1.          0.          0.          0.        ]\n",
      " [-0.          0.         -0.          0.          0.         -0.5\n",
      "  -1.11803399 -0.         -0.          1.         -0.          0.        ]\n",
      " [ 0.          0.          0.          0.         -0.          1.11803399\n",
      "   0.5        -0.          0.          0.          1.          0.        ]\n",
      " [-0.          0.         -0.          0.         -1.11803399 -0.\n",
      "   0.          0.5        -0.          0.         -0.          1.        ]]\n",
      "[[ 2. +0.j          0. +0.j         -0.5+0.j         -0. -1.11803399j\n",
      "   0. +0.j          0. +0.j          0. +0.j          0. +0.j        ]\n",
      " [ 0. +0.j          2. +0.j         -0. -1.11803399j  0.5+0.j\n",
      "   0. +0.j          0. +0.j          0. +0.j          0. +0.j        ]\n",
      " [-0.5-0.j         -0. +1.11803399j  2. +0.j          0. +0.j\n",
      "  -0.5+0.j         -0. -1.11803399j  0. +0.j          0. +0.j        ]\n",
      " [-0. +1.11803399j  0.5-0.j          0. +0.j          2. +0.j\n",
      "  -0. -1.11803399j  0.5+0.j          0. +0.j          0. +0.j        ]\n",
      " [ 0. +0.j          0. +0.j         -0.5-0.j         -0. +1.11803399j\n",
      "   2. +0.j          0. +0.j         -0.5+0.j         -0. -1.11803399j]\n",
      " [ 0. +0.j          0. +0.j         -0. +1.11803399j  0.5-0.j\n",
      "   0. +0.j          2. +0.j         -0. -1.11803399j  0.5+0.j        ]\n",
      " [ 0. +0.j          0. +0.j          0. +0.j          0. +0.j\n",
      "  -0.5-0.j         -0. +1.11803399j  1. +0.j          0. +0.j        ]\n",
      " [ 0. +0.j          0. +0.j          0. +0.j          0. +0.j\n",
      "  -0. +1.11803399j  0.5-0.j          0. +0.j          1. +0.j        ]]\n",
      "[[ 2.          0.          0.          0.         -0.5         0.\n",
      "  -0.         -1.11803399  0.          0.          0.          0.\n",
      "   0.          0.          0.          0.        ]\n",
      " [-0.          2.         -0.          0.         -0.         -0.5\n",
      "   1.11803399 -0.         -0.          0.         -0.          0.\n",
      "  -0.          0.         -0.          0.        ]\n",
      " [ 0.          0.          2.          0.         -0.         -1.11803399\n",
      "   0.5         0.          0.          0.          0.          0.\n",
      "   0.          0.          0.          0.        ]\n",
      " [-0.          0.         -0.          2.          1.11803399 -0.\n",
      "  -0.          0.5        -0.          0.         -0.          0.\n",
      "  -0.          0.         -0.          0.        ]\n",
      " [-0.5        -0.         -0.          1.11803399  2.          0.\n",
      "   0.          0.         -0.5         0.         -0.         -1.11803399\n",
      "   0.          0.          0.          0.        ]\n",
      " [ 0.         -0.5        -1.11803399 -0.         -0.          2.\n",
      "  -0.          0.         -0.         -0.5         1.11803399 -0.\n",
      "  -0.          0.         -0.          0.        ]\n",
      " [-0.          1.11803399  0.5        -0.          0.          0.\n",
      "   2.          0.         -0.         -1.11803399  0.5         0.\n",
      "   0.          0.          0.          0.        ]\n",
      " [-1.11803399 -0.          0.          0.5        -0.          0.\n",
      "  -0.          2.          1.11803399 -0.         -0.          0.5\n",
      "  -0.          0.         -0.          0.        ]\n",
      " [ 0.          0.          0.          0.         -0.5        -0.\n",
      "  -0.          1.11803399  2.          0.          0.          0.\n",
      "  -0.5         0.         -0.         -1.11803399]\n",
      " [-0.          0.         -0.          0.          0.         -0.5\n",
      "  -1.11803399 -0.         -0.          2.         -0.          0.\n",
      "  -0.         -0.5         1.11803399 -0.        ]\n",
      " [ 0.          0.          0.          0.         -0.          1.11803399\n",
      "   0.5        -0.          0.          0.          2.          0.\n",
      "  -0.         -1.11803399  0.5         0.        ]\n",
      " [-0.          0.         -0.          0.         -1.11803399 -0.\n",
      "   0.          0.5        -0.          0.         -0.          2.\n",
      "   1.11803399 -0.         -0.          0.5       ]\n",
      " [ 0.          0.          0.          0.          0.          0.\n",
      "   0.          0.         -0.5        -0.         -0.          1.11803399\n",
      "   1.          0.          0.          0.        ]\n",
      " [-0.          0.         -0.          0.         -0.          0.\n",
      "  -0.          0.          0.         -0.5        -1.11803399 -0.\n",
      "  -0.          1.         -0.          0.        ]\n",
      " [ 0.          0.          0.          0.          0.          0.\n",
      "   0.          0.         -0.          1.11803399  0.5        -0.\n",
      "   0.          0.          1.          0.        ]\n",
      " [-0.          0.         -0.          0.         -0.          0.\n",
      "  -0.          0.         -1.11803399 -0.          0.          0.5\n",
      "  -0.          0.         -0.          1.        ]]\n",
      "[[ 2. +0.j          0. +0.j         -0.5+0.j         -0. -1.11803399j\n",
      "   0. +0.j          0. +0.j        ]\n",
      " [ 0. +0.j          2. +0.j         -0. -1.11803399j  0.5+0.j\n",
      "   0. +0.j          0. +0.j        ]\n",
      " [-0.5-0.j         -0. +1.11803399j  2. +0.j          0. +0.j\n",
      "  -0.5+0.j         -0. -1.11803399j]\n",
      " [-0. +1.11803399j  0.5-0.j          0. +0.j          2. +0.j\n",
      "  -0. -1.11803399j  0.5+0.j        ]\n",
      " [ 0. +0.j          0. +0.j         -0.5-0.j         -0. +1.11803399j\n",
      "   1. +0.j          0. +0.j        ]\n",
      " [ 0. +0.j          0. +0.j         -0. +1.11803399j  0.5-0.j\n",
      "   0. +0.j          1. +0.j        ]]\n",
      "[[ 2.          0.          0.          0.         -0.5         0.\n",
      "  -0.         -1.11803399  0.          0.          0.          0.        ]\n",
      " [-0.          2.         -0.          0.         -0.         -0.5\n",
      "   1.11803399 -0.         -0.          0.         -0.          0.        ]\n",
      " [ 0.          0.          2.          0.         -0.         -1.11803399\n",
      "   0.5         0.          0.          0.          0.          0.        ]\n",
      " [-0.          0.         -0.          2.          1.11803399 -0.\n",
      "  -0.          0.5        -0.          0.         -0.          0.        ]\n",
      " [-0.5        -0.         -0.          1.11803399  2.          0.\n",
      "   0.          0.         -0.5         0.         -0.         -1.11803399]\n",
      " [ 0.         -0.5        -1.11803399 -0.         -0.          2.\n",
      "  -0.          0.         -0.         -0.5         1.11803399 -0.        ]\n",
      " [-0.          1.11803399  0.5        -0.          0.          0.\n",
      "   2.          0.         -0.         -1.11803399  0.5         0.        ]\n",
      " [-1.11803399 -0.          0.          0.5        -0.          0.\n",
      "  -0.          2.          1.11803399 -0.         -0.          0.5       ]\n",
      " [ 0.          0.          0.          0.         -0.5        -0.\n",
      "  -0.          1.11803399  1.          0.          0.          0.        ]\n",
      " [-0.          0.         -0.          0.          0.         -0.5\n",
      "  -1.11803399 -0.         -0.          1.         -0.          0.        ]\n",
      " [ 0.          0.          0.          0.         -0.          1.11803399\n",
      "   0.5        -0.          0.          0.          1.          0.        ]\n",
      " [-0.          0.         -0.          0.         -1.11803399 -0.\n",
      "   0.          0.5        -0.          0.         -0.          1.        ]]\n"
     ]
    },
    {
     "data": {
      "image/png": "[encoded data removed]",
      "text/plain": [
       "<Figure size 1500x500 with 3 Axes>"
      ]
     },
     "metadata": {},
     "output_type": "display_data"
    }
   ],
   "source": [
    "\n",
    "# Loop over all rows in velox_results and plot all dynamics on the same panel,\n",
    "# coloring each curve according to its best_energy.\n",
    "colors = [\"r\", \"g\", \"b\", \"c\", \"m\", \"y\", \"k\"]\n",
    "markers = [\"o\", \"s\", \"^\", \"D\", \"v\", \"<\", \">\"]\n",
    "\n",
    "plot_rows =  1\n",
    "plot_columns = 3\n",
    "# Create a single axis for the plot\n",
    "fig, axes = plt.subplots(plot_rows, plot_columns, figsize=(5*plot_columns, 5*plot_rows), sharey=False)\n",
    "\n",
    "SZ = np.array([[1, 0], [0, -1]])  \n",
    "axes = axes.flatten()\n",
    "tp_pairs = [(7,3),(7,4),(6,3)]\n",
    "\n",
    "for i, (precision,timepoints) in enumerate(tp_pairs):\n",
    "    ax = axes[i]\n",
    "\n",
    "    inst_obj = instance.Instance(system)\n",
    "\n",
    "    inst_obj.create_instance(precision=precision,number_time_points=timepoints)\n",
    "    qubo = inst_obj.get_qubo()\n",
    "\n",
    "\n",
    "    df_filtered =  df_cleaned[(df_cleaned.precision == precision) & (df_cleaned.timepoints == timepoints)]\n",
    "    for j in [0,1,2]:\n",
    "        raw_sample = df_filtered['solution'].values[j][::-1]\n",
    "        gap = round(df_filtered['gap'].values[j],ndigits=2)\n",
    "        sample_str = helpers.result_string_to_dict(raw_sample)\n",
    "        sample_vec = inst_obj.problem.interpret_sample(sample_str)\n",
    "        exact_expect = [(state.conj() @ SZ @ state).real for state in sample_vec]\n",
    "        ax.scatter(inst_obj.problem.times, exact_expect, color=colors[j % len(colors)], marker=markers[j % len(markers)], lw=2, s=300, facecolors=\"none\", label=f\"Velox, Gap = {gap}  \")\n",
    "\n",
    "\n",
    "    psi_0 = qp.basis(2, 0)\n",
    "\n",
    "    times = np.linspace(0, 4, 100)\n",
    "    baseline = qp.mesolve(qp.Qobj(inst_obj.H), psi_0, times, e_ops=[qp.sigmaz()]).expect[0]\n",
    "     \n",
    "\n",
    "    # Difference d.: We use complex conjugation to compute expected values. For this example it shouldn't matter though.\n",
    "    # Then, for the expectation values we take only the real part, because otherwise matplotlib would complain.\n",
    "    ax.plot(times, baseline, \"k--\", label=\"QuTiP (baseline)\")\n",
    "    ax.set_title(f\"precision: {precision} Time Points: {timepoints}\",fontsize=15)\n",
    "\n",
    "    ax.set_ylabel(r\"$\\langle \\sigma_z \\rangle$\")\n",
    "    ax.set_xlabel(\"$t$\")\n",
    "    ax.legend(loc=\"lower right\")\n",
    "fig.suptitle(r\"$\\sigma_z$\",fontsize=20)\n",
    "plt.show()"
   ]
  },
  {
   "cell_type": "code",
   "execution_count": 17,
   "id": "c92e1268",
   "metadata": {},
   "outputs": [
    {
     "name": "stdout",
     "output_type": "stream",
     "text": [
      "[[ 0.+0.j -1.+0.j]\n",
      " [ 1.+0.j  0.+0.j]]\n",
      "[[ 0.+0.j -1.+0.j]\n",
      " [ 1.+0.j  0.+0.j]]\n",
      "[[ 2.  0.  0.  0. -0.  0. -1.  0.  0.  0.  0.  0.]\n",
      " [-0.  2. -0.  0. -0. -0. -0. -1. -0.  0. -0.  0.]\n",
      " [ 0.  0.  2.  0.  1.  0. -0.  0.  0.  0.  0.  0.]\n",
      " [-0.  0. -0.  2. -0.  1. -0. -0. -0.  0. -0.  0.]\n",
      " [-0. -0.  1. -0.  2.  0.  0.  0. -0.  0. -1.  0.]\n",
      " [ 0. -0.  0.  1. -0.  2. -0.  0. -0. -0. -0. -1.]\n",
      " [-1. -0. -0. -0.  0.  0.  2.  0.  1.  0. -0.  0.]\n",
      " [ 0. -1.  0. -0. -0.  0. -0.  2. -0.  1. -0. -0.]\n",
      " [ 0.  0.  0.  0. -0. -0.  1. -0.  1.  0.  0.  0.]\n",
      " [-0.  0. -0.  0.  0. -0.  0.  1. -0.  1. -0.  0.]\n",
      " [ 0.  0.  0.  0. -1. -0. -0. -0.  0.  0.  1.  0.]\n",
      " [-0.  0. -0.  0.  0. -1.  0. -0. -0.  0. -0.  1.]]\n",
      "[[ 0.+0.j -1.+0.j]\n",
      " [ 1.+0.j  0.+0.j]]\n",
      "[[ 0.+0.j -1.+0.j]\n",
      " [ 1.+0.j  0.+0.j]]\n"
     ]
    },
    {
     "data": {
      "text/plain": [
       "array([[ 2.+0.j,  0.+0.j, -0.+0.j, -1.+0.j,  0.+0.j,  0.+0.j],\n",
       "       [ 0.+0.j,  2.+0.j,  1.+0.j, -0.+0.j,  0.+0.j,  0.+0.j],\n",
       "       [-0.-0.j,  1.-0.j,  2.+0.j,  0.+0.j, -0.+0.j, -1.+0.j],\n",
       "       [-1.-0.j, -0.-0.j,  0.+0.j,  2.+0.j,  1.+0.j, -0.+0.j],\n",
       "       [ 0.+0.j,  0.+0.j, -0.-0.j,  1.-0.j,  1.+0.j,  0.+0.j],\n",
       "       [ 0.+0.j,  0.+0.j, -1.-0.j, -0.-0.j,  0.+0.j,  1.+0.j]])"
      ]
     },
     "execution_count": 17,
     "metadata": {},
     "output_type": "execute_result"
    }
   ],
   "source": [
    "system =1\n",
    "inst_obj = instance.Instance(system)\n",
    "\n",
    "inst_obj.create_instance(precision=2,number_time_points=3)\n",
    "inst_obj.psi0 =1/np.sqrt(2)*np.array([1,1])\n",
    "qubo = inst_obj.get_qubo()\n",
    "\n",
    "inst_obj.problem.get_clock()"
   ]
  },
  {
   "cell_type": "code",
   "execution_count": 5,
   "id": "c79b2fa0",
   "metadata": {},
   "outputs": [
    {
     "data": {
      "text/html": [
       "<iframe src=http://127.0.0.1:18001/?problemId=021171b7-2ff6-4b10-a5ba-1b03bb800d14 width=\"100%\" height=640></iframe>"
      ],
      "text/plain": [
       "Serving Inspector on http://127.0.0.1:18001/?problemId=021171b7-2ff6-4b10-a5ba-1b03bb800d14"
      ]
     },
     "metadata": {},
     "output_type": "display_data"
    },
    {
     "data": {
      "text/plain": [
       "'http://127.0.0.1:18001/?problemId=021171b7-2ff6-4b10-a5ba-1b03bb800d14'"
      ]
     },
     "execution_count": 5,
     "metadata": {},
     "output_type": "execute_result"
    }
   ],
   "source": [
    "#dw_sampler = EmbeddingComposite(DWaveSampler( solver=\"Advantage2_prototype2.6\"))\n",
    "dw_sampler = EmbeddingComposite(DWaveSampler(solver=\"Advantage_system6.4\"))\n",
    "\n",
    "dw_result = dw_sampler.sample(qubo, num_reads=100, annealing_time=200)\n",
    "dwave.inspector.show(dw_result)"
   ]
  },
  {
   "cell_type": "code",
   "execution_count": 7,
   "id": "adb75185",
   "metadata": {},
   "outputs": [
    {
     "data": {
      "text/plain": [
       "{0: np.int8(1),\n",
       " 1: np.int8(0),\n",
       " 2: np.int8(0),\n",
       " 3: np.int8(1),\n",
       " 4: np.int8(0),\n",
       " 5: np.int8(1),\n",
       " 6: np.int8(0),\n",
       " 7: np.int8(1),\n",
       " 8: np.int8(0),\n",
       " 9: np.int8(1),\n",
       " 10: np.int8(0),\n",
       " 11: np.int8(1),\n",
       " 12: np.int8(1),\n",
       " 13: np.int8(0),\n",
       " 14: np.int8(0),\n",
       " 15: np.int8(1)}"
      ]
     },
     "execution_count": 7,
     "metadata": {},
     "output_type": "execute_result"
    }
   ],
   "source": [
    "dw_result.first.sample\n"
   ]
  },
  {
   "cell_type": "code",
   "execution_count": 50,
   "id": "36e6cc43",
   "metadata": {},
   "outputs": [
    {
     "data": {
      "text/plain": [
       "array([[1.+0.j, 0.+1.j],\n",
       "       [0.+0.j, 1.+1.j]])"
      ]
     },
     "execution_count": 50,
     "metadata": {},
     "output_type": "execute_result"
    }
   ],
   "source": [
    "problem.interpret_sample(dw_result.first.sample)"
   ]
  },
  {
   "cell_type": "code",
   "execution_count": 18,
   "id": "cc90f911",
   "metadata": {},
   "outputs": [
    {
     "data": {
      "text/plain": [
       "{'timing': {'qpu_sampling_time': 332120.0,\n",
       "  'qpu_anneal_time_per_sample': 200.0,\n",
       "  'qpu_readout_time_per_sample': 111.54,\n",
       "  'qpu_access_time': 348045.56,\n",
       "  'qpu_access_overhead_time': 2112.44,\n",
       "  'qpu_programming_time': 15925.56,\n",
       "  'qpu_delay_time_per_sample': 20.58,\n",
       "  'post_processing_overhead_time': 1.0,\n",
       "  'total_post_processing_time': 1.0},\n",
       " 'problem_id': '25c4564f-3392-479b-bed7-01de674fde5b',\n",
       " 'embedding_context': {'embedding': {1: (698,),\n",
       "   0: (4563,),\n",
       "   126: (4578,),\n",
       "   127: (713,),\n",
       "   3: (1016,),\n",
       "   2: (5029,),\n",
       "   124: (1001,),\n",
       "   125: (5014,),\n",
       "   5: (5108,),\n",
       "   4: (1616,),\n",
       "   68: (5123,),\n",
       "   69: (1601,),\n",
       "   7: (1349,),\n",
       "   6: (5647,),\n",
       "   70: (1334,),\n",
       "   71: (5662,),\n",
       "   9: (96,),\n",
       "   8: (4170,),\n",
       "   72: (111,),\n",
       "   73: (4185,),\n",
       "   11: (1042,),\n",
       "   10: (4385,),\n",
       "   74: (1027,),\n",
       "   75: (4400,),\n",
       "   13: (3736,),\n",
       "   12: (3721,),\n",
       "   76: (438,),\n",
       "   77: (423,),\n",
       "   15: (575,),\n",
       "   14: (590,),\n",
       "   78: (3917,),\n",
       "   79: (3902,),\n",
       "   17: (3606,),\n",
       "   16: (3621,),\n",
       "   80: (1323,),\n",
       "   81: (1338,),\n",
       "   19: (3112,),\n",
       "   18: (1410,),\n",
       "   82: (1425,),\n",
       "   83: (3097,),\n",
       "   21: (801,),\n",
       "   20: (4143,),\n",
       "   84: (4158,),\n",
       "   85: (786,),\n",
       "   23: (2595,),\n",
       "   22: (3193,),\n",
       "   86: (2580,),\n",
       "   87: (3208,),\n",
       "   25: (2678,),\n",
       "   24: (2693,),\n",
       "   88: (4574,),\n",
       "   89: (4589,),\n",
       "   27: (5141,),\n",
       "   26: (5156,),\n",
       "   90: (2157,),\n",
       "   91: (2142,),\n",
       "   29: (1125,),\n",
       "   28: (2961,),\n",
       "   92: (2946,),\n",
       "   93: (1110,),\n",
       "   31: (5576,),\n",
       "   30: (2234,),\n",
       "   94: (5561,),\n",
       "   95: (2249,),\n",
       "   33: (795,),\n",
       "   32: (3078,),\n",
       "   96: (3063,),\n",
       "   97: (780,),\n",
       "   35: (3759,),\n",
       "   34: (1819,),\n",
       "   98: (1804,),\n",
       "   99: (3774,),\n",
       "   37: (842,),\n",
       "   36: (3363,),\n",
       "   100: (3378,),\n",
       "   101: (857,),\n",
       "   39: (5262,),\n",
       "   38: (2427,),\n",
       "   102: (5277,),\n",
       "   103: (2412,),\n",
       "   41: (1781,),\n",
       "   40: (1796,),\n",
       "   104: (5034,),\n",
       "   105: (5019,),\n",
       "   43: (2726,),\n",
       "   42: (5009,),\n",
       "   106: (2711,),\n",
       "   107: (4994,),\n",
       "   45: (5348,),\n",
       "   44: (5363,),\n",
       "   108: (1633,),\n",
       "   109: (1648,),\n",
       "   47: (5535,),\n",
       "   46: (5520,),\n",
       "   110: (194,),\n",
       "   111: (209,),\n",
       "   49: (474,),\n",
       "   48: (4697,),\n",
       "   112: (459,),\n",
       "   113: (4682,),\n",
       "   51: (5436,),\n",
       "   50: (1213,),\n",
       "   114: (5451,),\n",
       "   115: (1228,),\n",
       "   53: (652,),\n",
       "   52: (4398,),\n",
       "   116: (637,),\n",
       "   117: (4383,),\n",
       "   55: (882,),\n",
       "   54: (897,),\n",
       "   118: (5239,),\n",
       "   119: (5224,),\n",
       "   57: (1707,),\n",
       "   56: (1692,),\n",
       "   120: (5334,),\n",
       "   121: (5319,),\n",
       "   59: (3981,),\n",
       "   58: (1280,),\n",
       "   122: (3966,),\n",
       "   123: (1265,),\n",
       "   61: (2569,),\n",
       "   60: (3778,),\n",
       "   66: (3763,),\n",
       "   67: (2554,),\n",
       "   63: (5617,),\n",
       "   62: (1379,),\n",
       "   64: (5632,),\n",
       "   65: (1364,)},\n",
       "  'chain_break_method': 'majority_vote',\n",
       "  'embedding_parameters': {},\n",
       "  'chain_strength': 1.676797729304283},\n",
       " 'warnings': []}"
      ]
     },
     "execution_count": 18,
     "metadata": {},
     "output_type": "execute_result"
    }
   ],
   "source": [
    "dw_result.info"
   ]
  },
  {
   "cell_type": "code",
   "execution_count": null,
   "id": "ff97d3df",
   "metadata": {},
   "outputs": [],
   "source": []
  },
  {
   "cell_type": "code",
   "execution_count": 50,
   "id": "5eb43d07",
   "metadata": {},
   "outputs": [
    {
     "ename": "ValueError",
     "evalue": "matmul: Input operand 1 has a mismatch in its core dimension 0, with gufunc signature (n?,k),(k,m?)->(n?,m?) (size 2 is different from 3)",
     "output_type": "error",
     "traceback": [
      "\u001b[31m---------------------------------------------------------------------------\u001b[39m",
      "\u001b[31mValueError\u001b[39m                                Traceback (most recent call last)",
      "\u001b[36mCell\u001b[39m\u001b[36m \u001b[39m\u001b[32mIn[50]\u001b[39m\u001b[32m, line 8\u001b[39m\n\u001b[32m      5\u001b[39m SZ = np.array([[\u001b[32m1\u001b[39m, \u001b[32m0\u001b[39m], [\u001b[32m0\u001b[39m, -\u001b[32m1\u001b[39m]])\n\u001b[32m      7\u001b[39m dw_vec = inst_obj.problem.interpret_sample(dw_result.first.sample)\n\u001b[32m----> \u001b[39m\u001b[32m8\u001b[39m dw_expect = [(\u001b[43mstate\u001b[49m\u001b[43m.\u001b[49m\u001b[43mconj\u001b[49m\u001b[43m(\u001b[49m\u001b[43m)\u001b[49m\u001b[43m \u001b[49m\u001b[43m@\u001b[49m\u001b[43m \u001b[49m\u001b[43mSZ\u001b[49m @ state).real \u001b[38;5;28;01mfor\u001b[39;00m state \u001b[38;5;129;01min\u001b[39;00m dw_vec]\n\u001b[32m      9\u001b[39m \u001b[38;5;28;01mfrom\u001b[39;00m\u001b[38;5;250m \u001b[39m\u001b[34;01mmatplotlib\u001b[39;00m\u001b[38;5;250m \u001b[39m\u001b[38;5;28;01mimport\u001b[39;00m pyplot \u001b[38;5;28;01mas\u001b[39;00m plt\n\u001b[32m     11\u001b[39m fig, axis = plt.subplots(figsize=(\u001b[32m8\u001b[39m, \u001b[32m4\u001b[39m))\n",
      "\u001b[31mValueError\u001b[39m: matmul: Input operand 1 has a mismatch in its core dimension 0, with gufunc signature (n?,k),(k,m?)->(n?,m?) (size 2 is different from 3)"
     ]
    }
   ],
   "source": [
    "times = np.linspace(0, inst_obj.number_time_points, 100)\n",
    "baseline = qp.mesolve(qp.Qobj(inst_obj.H), qp.Qobj(inst_obj.psi0), times, e_ops=[qp.sigmaz()]).expect[0]\n",
    "\n",
    "# Define sigma_z for manual computation of expected values\n",
    "SZ = np.array([[1, 0], [0, -1]])\n",
    "\n",
    "dw_vec = inst_obj.problem.interpret_sample(dw_result.first.sample)\n",
    "dw_expect = [(state.conj() @ SZ @ state).real for state in dw_vec]\n",
    "from matplotlib import pyplot as plt\n",
    "\n",
    "fig, axis = plt.subplots(figsize=(8, 4))\n",
    "\n",
    "axis.plot(times, baseline, \"k--\", label=\"QuTiP (baseline)\")\n",
    "\n",
    "#axis.scatter(inst_obj.problem.times, exact_expect, marker=\"^\", lw=2, s=300, edgecolors=\"b\", facecolors=\"none\", label=\"Exact solver\")\n",
    "#axis.scatter(problem.times, sa_expect, marker=\"o\", lw=2, s=100, edgecolors=\"r\", facecolors=\"none\", label=\"SA sampler\")\n",
    "axis.scatter(inst_obj.problem.times, dw_expect, marker=\"s\", lw=2, s=200, edgecolors=\"g\", facecolors=\"none\", label=\"D-Wave sampler\")\n",
    "axis.set_title(f\"System {system}\")\n",
    "axis.set_ylabel(r\"$\\langle \\sigma_z \\rangle$\")\n",
    "axis.set_xlabel(\"$t$\")\n",
    "axis.legend()"
   ]
  },
  {
   "cell_type": "code",
   "execution_count": 48,
   "id": "8f742049",
   "metadata": {},
   "outputs": [
    {
     "data": {
      "text/plain": [
       "array([[ 1.+0.j, -1.+0.j],\n",
       "       [ 1.+0.j,  1.+0.j],\n",
       "       [-1.+0.j,  1.+0.j],\n",
       "       [-1.+0.j,  0.+0.j],\n",
       "       [ 0.+0.j, -1.+0.j],\n",
       "       [ 1.+0.j,  0.+0.j],\n",
       "       [ 0.+0.j,  1.+0.j],\n",
       "       [-1.+0.j,  0.+0.j],\n",
       "       [ 0.+0.j, -1.+0.j],\n",
       "       [ 1.+0.j,  0.+0.j]])"
      ]
     },
     "execution_count": 48,
     "metadata": {},
     "output_type": "execute_result"
    }
   ],
   "source": [
    "inst_obj.problem.interpret_sample(dw_result.first.sample)"
   ]
  },
  {
   "cell_type": "code",
   "execution_count": null,
   "id": "74778fc8",
   "metadata": {},
   "outputs": [
    {
     "name": "stdout",
     "output_type": "stream",
     "text": [
      "-------\n",
      "sigma_y\n",
      "---------\n",
      "---------\n",
      "array([[ 0.54030231+0.j, -0.84147098+0.j],\n",
      "       [ 0.84147098+0.j,  0.54030231+0.j]])\n",
      "------\n",
      "array([[ 2.        +0.j,  0.        +0.j, -0.54030231+0.j,\n",
      "        -0.84147098+0.j],\n",
      "       [ 0.        +0.j,  2.        +0.j,  0.84147098+0.j,\n",
      "        -0.54030231+0.j],\n",
      "       [-0.54030231-0.j,  0.84147098-0.j,  1.        +0.j,\n",
      "         0.        +0.j],\n",
      "       [-0.84147098-0.j, -0.54030231-0.j,  0.        +0.j,\n",
      "         1.        +0.j]])\n",
      "-------\n",
      "sigma_y\n",
      "---------\n",
      "---------\n",
      "array([[ 0.54030231+0.j, -0.84147098+0.j],\n",
      "       [ 0.84147098+0.j,  0.54030231+0.j]])\n",
      "------\n",
      "---------\n",
      "array([[ 0.54030231+0.j, -0.84147098+0.j],\n",
      "       [ 0.84147098+0.j,  0.54030231+0.j]])\n",
      "------\n",
      "array([[ 2.        +0.j,  0.        +0.j, -0.54030231+0.j,\n",
      "        -0.84147098+0.j,  0.        +0.j,  0.        +0.j],\n",
      "       [ 0.        +0.j,  2.        +0.j,  0.84147098+0.j,\n",
      "        -0.54030231+0.j,  0.        +0.j,  0.        +0.j],\n",
      "       [-0.54030231-0.j,  0.84147098-0.j,  2.        +0.j,\n",
      "         0.        +0.j, -0.54030231+0.j, -0.84147098+0.j],\n",
      "       [-0.84147098-0.j, -0.54030231-0.j,  0.        +0.j,\n",
      "         2.        +0.j,  0.84147098+0.j, -0.54030231+0.j],\n",
      "       [ 0.        +0.j,  0.        +0.j, -0.54030231-0.j,\n",
      "         0.84147098-0.j,  1.        +0.j,  0.        +0.j],\n",
      "       [ 0.        +0.j,  0.        +0.j, -0.84147098-0.j,\n",
      "        -0.54030231-0.j,  0.        +0.j,  1.        +0.j]])\n",
      "-------\n",
      "sigma_y\n",
      "---------\n",
      "---------\n",
      "array([[ 0.54030231+0.j, -0.84147098+0.j],\n",
      "       [ 0.84147098+0.j,  0.54030231+0.j]])\n",
      "------\n",
      "---------\n",
      "array([[ 0.54030231+0.j, -0.84147098+0.j],\n",
      "       [ 0.84147098+0.j,  0.54030231+0.j]])\n",
      "------\n",
      "---------\n",
      "array([[ 0.54030231+0.j, -0.84147098+0.j],\n",
      "       [ 0.84147098+0.j,  0.54030231+0.j]])\n",
      "------\n",
      "array([[ 2.        +0.j,  0.        +0.j, -0.54030231+0.j,\n",
      "        -0.84147098+0.j,  0.        +0.j,  0.        +0.j,\n",
      "         0.        +0.j,  0.        +0.j],\n",
      "       [ 0.        +0.j,  2.        +0.j,  0.84147098+0.j,\n",
      "        -0.54030231+0.j,  0.        +0.j,  0.        +0.j,\n",
      "         0.        +0.j,  0.        +0.j],\n",
      "       [-0.54030231-0.j,  0.84147098-0.j,  2.        +0.j,\n",
      "         0.        +0.j, -0.54030231+0.j, -0.84147098+0.j,\n",
      "         0.        +0.j,  0.        +0.j],\n",
      "       [-0.84147098-0.j, -0.54030231-0.j,  0.        +0.j,\n",
      "         2.        +0.j,  0.84147098+0.j, -0.54030231+0.j,\n",
      "         0.        +0.j,  0.        +0.j],\n",
      "       [ 0.        +0.j,  0.        +0.j, -0.54030231-0.j,\n",
      "         0.84147098-0.j,  2.        +0.j,  0.        +0.j,\n",
      "        -0.54030231+0.j, -0.84147098+0.j],\n",
      "       [ 0.        +0.j,  0.        +0.j, -0.84147098-0.j,\n",
      "        -0.54030231-0.j,  0.        +0.j,  2.        +0.j,\n",
      "         0.84147098+0.j, -0.54030231+0.j],\n",
      "       [ 0.        +0.j,  0.        +0.j,  0.        +0.j,\n",
      "         0.        +0.j, -0.54030231-0.j,  0.84147098-0.j,\n",
      "         1.        +0.j,  0.        +0.j],\n",
      "       [ 0.        +0.j,  0.        +0.j,  0.        +0.j,\n",
      "         0.        +0.j, -0.84147098-0.j, -0.54030231-0.j,\n",
      "         0.        +0.j,  1.        +0.j]])\n",
      "-------\n",
      "sigma_y\n",
      "---------\n",
      "---------\n",
      "array([[ 0.54030231+0.j, -0.84147098+0.j],\n",
      "       [ 0.84147098+0.j,  0.54030231+0.j]])\n",
      "------\n",
      "---------\n",
      "array([[ 0.54030231+0.j, -0.84147098+0.j],\n",
      "       [ 0.84147098+0.j,  0.54030231+0.j]])\n",
      "------\n",
      "---------\n",
      "array([[ 0.54030231+0.j, -0.84147098+0.j],\n",
      "       [ 0.84147098+0.j,  0.54030231+0.j]])\n",
      "------\n",
      "---------\n",
      "array([[ 0.54030231+0.j, -0.84147098+0.j],\n",
      "       [ 0.84147098+0.j,  0.54030231+0.j]])\n",
      "------\n",
      "array([[ 2.        +0.j,  0.        +0.j, -0.54030231+0.j,\n",
      "        -0.84147098+0.j,  0.        +0.j,  0.        +0.j,\n",
      "         0.        +0.j,  0.        +0.j,  0.        +0.j,\n",
      "         0.        +0.j],\n",
      "       [ 0.        +0.j,  2.        +0.j,  0.84147098+0.j,\n",
      "        -0.54030231+0.j,  0.        +0.j,  0.        +0.j,\n",
      "         0.        +0.j,  0.        +0.j,  0.        +0.j,\n",
      "         0.        +0.j],\n",
      "       [-0.54030231-0.j,  0.84147098-0.j,  2.        +0.j,\n",
      "         0.        +0.j, -0.54030231+0.j, -0.84147098+0.j,\n",
      "         0.        +0.j,  0.        +0.j,  0.        +0.j,\n",
      "         0.        +0.j],\n",
      "       [-0.84147098-0.j, -0.54030231-0.j,  0.        +0.j,\n",
      "         2.        +0.j,  0.84147098+0.j, -0.54030231+0.j,\n",
      "         0.        +0.j,  0.        +0.j,  0.        +0.j,\n",
      "         0.        +0.j],\n",
      "       [ 0.        +0.j,  0.        +0.j, -0.54030231-0.j,\n",
      "         0.84147098-0.j,  2.        +0.j,  0.        +0.j,\n",
      "        -0.54030231+0.j, -0.84147098+0.j,  0.        +0.j,\n",
      "         0.        +0.j],\n",
      "       [ 0.        +0.j,  0.        +0.j, -0.84147098-0.j,\n",
      "        -0.54030231-0.j,  0.        +0.j,  2.        +0.j,\n",
      "         0.84147098+0.j, -0.54030231+0.j,  0.        +0.j,\n",
      "         0.        +0.j],\n",
      "       [ 0.        +0.j,  0.        +0.j,  0.        +0.j,\n",
      "         0.        +0.j, -0.54030231-0.j,  0.84147098-0.j,\n",
      "         2.        +0.j,  0.        +0.j, -0.54030231+0.j,\n",
      "        -0.84147098+0.j],\n",
      "       [ 0.        +0.j,  0.        +0.j,  0.        +0.j,\n",
      "         0.        +0.j, -0.84147098-0.j, -0.54030231-0.j,\n",
      "         0.        +0.j,  2.        +0.j,  0.84147098+0.j,\n",
      "        -0.54030231+0.j],\n",
      "       [ 0.        +0.j,  0.        +0.j,  0.        +0.j,\n",
      "         0.        +0.j,  0.        +0.j,  0.        +0.j,\n",
      "        -0.54030231-0.j,  0.84147098-0.j,  1.        +0.j,\n",
      "         0.        +0.j],\n",
      "       [ 0.        +0.j,  0.        +0.j,  0.        +0.j,\n",
      "         0.        +0.j,  0.        +0.j,  0.        +0.j,\n",
      "        -0.84147098-0.j, -0.54030231-0.j,  0.        +0.j,\n",
      "         1.        +0.j]])\n",
      "-------\n",
      "sigma_y\n",
      "---------\n",
      "---------\n",
      "array([[ 0.54030231+0.j, -0.84147098+0.j],\n",
      "       [ 0.84147098+0.j,  0.54030231+0.j]])\n",
      "------\n",
      "---------\n",
      "array([[ 0.54030231+0.j, -0.84147098+0.j],\n",
      "       [ 0.84147098+0.j,  0.54030231+0.j]])\n",
      "------\n",
      "---------\n",
      "array([[ 0.54030231+0.j, -0.84147098+0.j],\n",
      "       [ 0.84147098+0.j,  0.54030231+0.j]])\n",
      "------\n",
      "---------\n",
      "array([[ 0.54030231+0.j, -0.84147098+0.j],\n",
      "       [ 0.84147098+0.j,  0.54030231+0.j]])\n",
      "------\n",
      "---------\n",
      "array([[ 0.54030231+0.j, -0.84147098+0.j],\n",
      "       [ 0.84147098+0.j,  0.54030231+0.j]])\n",
      "------\n",
      "array([[ 2.        +0.j,  0.        +0.j, -0.54030231+0.j,\n",
      "        -0.84147098+0.j,  0.        +0.j,  0.        +0.j,\n",
      "         0.        +0.j,  0.        +0.j,  0.        +0.j,\n",
      "         0.        +0.j,  0.        +0.j,  0.        +0.j],\n",
      "       [ 0.        +0.j,  2.        +0.j,  0.84147098+0.j,\n",
      "        -0.54030231+0.j,  0.        +0.j,  0.        +0.j,\n",
      "         0.        +0.j,  0.        +0.j,  0.        +0.j,\n",
      "         0.        +0.j,  0.        +0.j,  0.        +0.j],\n",
      "       [-0.54030231-0.j,  0.84147098-0.j,  2.        +0.j,\n",
      "         0.        +0.j, -0.54030231+0.j, -0.84147098+0.j,\n",
      "         0.        +0.j,  0.        +0.j,  0.        +0.j,\n",
      "         0.        +0.j,  0.        +0.j,  0.        +0.j],\n",
      "       [-0.84147098-0.j, -0.54030231-0.j,  0.        +0.j,\n",
      "         2.        +0.j,  0.84147098+0.j, -0.54030231+0.j,\n",
      "         0.        +0.j,  0.        +0.j,  0.        +0.j,\n",
      "         0.        +0.j,  0.        +0.j,  0.        +0.j],\n",
      "       [ 0.        +0.j,  0.        +0.j, -0.54030231-0.j,\n",
      "         0.84147098-0.j,  2.        +0.j,  0.        +0.j,\n",
      "        -0.54030231+0.j, -0.84147098+0.j,  0.        +0.j,\n",
      "         0.        +0.j,  0.        +0.j,  0.        +0.j],\n",
      "       [ 0.        +0.j,  0.        +0.j, -0.84147098-0.j,\n",
      "        -0.54030231-0.j,  0.        +0.j,  2.        +0.j,\n",
      "         0.84147098+0.j, -0.54030231+0.j,  0.        +0.j,\n",
      "         0.        +0.j,  0.        +0.j,  0.        +0.j],\n",
      "       [ 0.        +0.j,  0.        +0.j,  0.        +0.j,\n",
      "         0.        +0.j, -0.54030231-0.j,  0.84147098-0.j,\n",
      "         2.        +0.j,  0.        +0.j, -0.54030231+0.j,\n",
      "        -0.84147098+0.j,  0.        +0.j,  0.        +0.j],\n",
      "       [ 0.        +0.j,  0.        +0.j,  0.        +0.j,\n",
      "         0.        +0.j, -0.84147098-0.j, -0.54030231-0.j,\n",
      "         0.        +0.j,  2.        +0.j,  0.84147098+0.j,\n",
      "        -0.54030231+0.j,  0.        +0.j,  0.        +0.j],\n",
      "       [ 0.        +0.j,  0.        +0.j,  0.        +0.j,\n",
      "         0.        +0.j,  0.        +0.j,  0.        +0.j,\n",
      "        -0.54030231-0.j,  0.84147098-0.j,  2.        +0.j,\n",
      "         0.        +0.j, -0.54030231+0.j, -0.84147098+0.j],\n",
      "       [ 0.        +0.j,  0.        +0.j,  0.        +0.j,\n",
      "         0.        +0.j,  0.        +0.j,  0.        +0.j,\n",
      "        -0.84147098-0.j, -0.54030231-0.j,  0.        +0.j,\n",
      "         2.        +0.j,  0.84147098+0.j, -0.54030231+0.j],\n",
      "       [ 0.        +0.j,  0.        +0.j,  0.        +0.j,\n",
      "         0.        +0.j,  0.        +0.j,  0.        +0.j,\n",
      "         0.        +0.j,  0.        +0.j, -0.54030231-0.j,\n",
      "         0.84147098-0.j,  1.        +0.j,  0.        +0.j],\n",
      "       [ 0.        +0.j,  0.        +0.j,  0.        +0.j,\n",
      "         0.        +0.j,  0.        +0.j,  0.        +0.j,\n",
      "         0.        +0.j,  0.        +0.j, -0.84147098-0.j,\n",
      "        -0.54030231-0.j,  0.        +0.j,  1.        +0.j]])\n"
     ]
    },
    {
     "data": {
      "text/plain": [
       "Text(0.5, 1.0, 'Density for system 8')"
      ]
     },
     "execution_count": 56,
     "metadata": {},
     "output_type": "execute_result"
    },
    {
     "data": {
      "image/png": "[encoded data removed]",
      "text/plain": [
       "<Figure size 640x480 with 1 Axes>"
      ]
     },
     "metadata": {},
     "output_type": "display_data"
    }
   ],
   "source": [
    "system = \n",
    "inst = instance.Instance(system)\n",
    "interactions = []\n",
    "max_interactions = []\n",
    "num_qubits = []\n",
    "for timepoints in range(2,10):\n",
    "    inst.create_instance(precision=3, number_time_points=timepoints)\n",
    "    vertices = inst.qubo.num_variables\n",
    "    if vertices > 60:\n",
    "        break\n",
    "    interactions.append(inst.qubo.num_interactions)\n",
    "    num_qubits.append(vertices)\n",
    "    max_int = (vertices * (vertices-1))/2\n",
    "    max_interactions.append(max_int)\n",
    "\n",
    "plt.plot(num_qubits, np.array(interactions)/np.array(max_interactions),marker='x')\n",
    "plt.ylabel('Density')\n",
    "plt.xlabel('Num qubits')\n",
    "plt.title(f\"Density for system {ſystem}\")"
   ]
  },
  {
   "cell_type": "code",
   "execution_count": 57,
   "id": "5229f4a8",
   "metadata": {},
   "outputs": [
    {
     "name": "stdout",
     "output_type": "stream",
     "text": [
      "[276.0, 630.0, 1128.0, 1770.0]\n"
     ]
    }
   ],
   "source": [
    "print(max_interactions)"
   ]
  },
  {
   "cell_type": "code",
   "execution_count": 59,
   "id": "31b46386",
   "metadata": {},
   "outputs": [
    {
     "name": "stdout",
     "output_type": "stream",
     "text": [
      "[96, 252, 408, 564]\n"
     ]
    }
   ],
   "source": [
    "print(interactions)"
   ]
  }
 ],
 "metadata": {
  "kernelspec": {
   "display_name": ".venv",
   "language": "python",
   "name": "python3"
  },
  "language_info": {
   "codemirror_mode": {
    "name": "ipython",
    "version": 3
   },
   "file_extension": ".py",
   "mimetype": "text/x-python",
   "name": "python",
   "nbconvert_exporter": "python",
   "pygments_lexer": "ipython3",
   "version": "3.13.3"
  }
 },
 "nbformat": 4,
 "nbformat_minor": 5
}
