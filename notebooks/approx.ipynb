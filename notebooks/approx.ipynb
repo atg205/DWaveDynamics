{
 "cells": [
  {
   "cell_type": "code",
   "execution_count": 3,
   "id": "760c5df1",
   "metadata": {},
   "outputs": [],
   "source": [
    "\n",
    "from dwdynamics import ComplexDynamicsProblem, Objective,helpers,fixed_point,instance # Difference a. We are using ComplexDynamicsProblem\n",
    "from dimod import ExactSolver\n",
    "import numpy as np\n",
    "import scipy\n",
    "import pandas as pd\n",
    "import numpy as np\n",
    "import scipy as sp\n",
    "import math\n",
    "import pprint\n",
    "import qutip as qp\n",
    "import dimod\n"
   ]
  },
  {
   "cell_type": "code",
   "execution_count": 18,
   "id": "43be2cad",
   "metadata": {},
   "outputs": [
    {
     "name": "stdout",
     "output_type": "stream",
     "text": [
      "-------\n",
      "sigma_y\n",
      "---------\n",
      "---------\n",
      "array([[ 0.54030231+0.j, -0.84147098+0.j],\n",
      "       [ 0.84147098+0.j,  0.54030231+0.j]])\n",
      "------\n",
      "0.4729068372958656\n",
      "[np.float64(1.0), np.float64(0.0)]\n"
     ]
    }
   ],
   "source": [
    "# Let's compute baseline using QuTiP\n",
    "import qutip as qp\n",
    "\n",
    "#instance = 8\n",
    "#PSI0_2 = np.array([1,0,0,0],dtype=np.complex128)\n",
    "#instance_dict = helpers.get_instance(instance)\n",
    "#H = instance_dict['H']\n",
    "#PSI0 = instance_dict['psi0']\n",
    "\n",
    "i = instance.Instance(8)\n",
    "i.create_instance(2,2)\n",
    "qubo = i.get_qubo()\n",
    "\n",
    "exact_solver = ExactSolver()            \n",
    "exact_result = exact_solver.sample(qubo)      \n",
    "print(exact_result.first.energy)\n",
    "\n",
    "psi_0 = qp.basis(2, 0)\n",
    "\n",
    "times = np.linspace(0, 1, 100)\n",
    "baseline = qp.mesolve(qp.Qobj(i.H), psi_0, times, e_ops=[qp.sigmaz()]).expect[0]\n",
    "# Define sigma_z for manual computation of expected values\n",
    "SZ = np.array([[1, 0], [0, -1]])\n",
    "\n",
    "# decode_sample returns flat vector, we use reshape to form an 6x2 array of states\n",
    "exact_vec = i.problem.interpret_sample(exact_result.first.sample)\n",
    "\n",
    "# Difference d.: We use complex conjugation to compute expected values. For this example it shouldn't matter though.\n",
    "# Then, for the expectation values we take only the real part, because otherwise matplotlib would complain.\n",
    "exact_expect = [(state.conj() @ SZ @ state).real for state in exact_vec]\n",
    "from matplotlib import pyplot as plt\n",
    "print(exact_expect)\n",
    "\n"
   ]
  },
  {
   "cell_type": "code",
   "execution_count": 13,
   "id": "0a25a5d4",
   "metadata": {},
   "outputs": [
    {
     "data": {
      "text/plain": [
       "{0: np.int8(1),\n",
       " 1: np.int8(0),\n",
       " 2: np.int8(0),\n",
       " 3: np.int8(1),\n",
       " 4: np.int8(0),\n",
       " 5: np.int8(1),\n",
       " 6: np.int8(0),\n",
       " 7: np.int8(1),\n",
       " 8: np.int8(1),\n",
       " 9: np.int8(0),\n",
       " 10: np.int8(0),\n",
       " 11: np.int8(1),\n",
       " 12: np.int8(1),\n",
       " 13: np.int8(0),\n",
       " 14: np.int8(0),\n",
       " 15: np.int8(1)}"
      ]
     },
     "execution_count": 13,
     "metadata": {},
     "output_type": "execute_result"
    }
   ],
   "source": [
    "exact_result.first.sample"
   ]
  },
  {
   "cell_type": "code",
   "execution_count": 8,
   "id": "5867cdd9",
   "metadata": {},
   "outputs": [
    {
     "data": {
      "image/png": "[encoded data removed]",
      "text/plain": [
       "<Figure size 800x400 with 1 Axes>"
      ]
     },
     "metadata": {},
     "output_type": "display_data"
    }
   ],
   "source": [
    "fig, axis = plt.subplots(figsize=(8, 4))\n",
    "\n",
    "axis.plot(times, baseline, \"k--\", label=\"QuTiP (baseline)\")\n",
    "\n",
    "axis.scatter(i.problem.times, exact_expect, marker=\"^\", lw=2, s=300, edgecolors=\"b\", facecolors=\"none\", label=\"Exact solver\")\n",
    "\n",
    "axis.set_ylabel(r\"$\\langle \\sigma_z \\rangle$\")\n",
    "axis.set_xlabel(\"$t$\")\n",
    "axis.legend()\n",
    "plt.show()"
   ]
  },
  {
   "cell_type": "code",
   "execution_count": 20,
   "id": "3594e359",
   "metadata": {},
   "outputs": [
    {
     "name": "stdout",
     "output_type": "stream",
     "text": [
      "/home/atg205/Documents/__Dokumente/Uni/UPMC/stage gl/DWaveDynamics2/notebooks\n"
     ]
    }
   ],
   "source": [
    "i.to_xubo()"
   ]
  },
  {
   "cell_type": "code",
   "execution_count": 12,
   "id": "9693749a",
   "metadata": {},
   "outputs": [
    {
     "name": "stdout",
     "output_type": "stream",
     "text": [
      "1010101010010101\n"
     ]
    },
    {
     "ename": "TypeError",
     "evalue": "unsupported operand type(s) for +: 'int' and 'str'",
     "output_type": "error",
     "traceback": [
      "\u001b[31m---------------------------------------------------------------------------\u001b[39m",
      "\u001b[31mTypeError\u001b[39m                                 Traceback (most recent call last)",
      "\u001b[36mCell\u001b[39m\u001b[36m \u001b[39m\u001b[32mIn[12]\u001b[39m\u001b[32m, line 3\u001b[39m\n\u001b[32m      1\u001b[39m \u001b[38;5;28;01mfor\u001b[39;00m state \u001b[38;5;129;01min\u001b[39;00m i.get_xubo_df()[\u001b[33m'\u001b[39m\u001b[33mState\u001b[39m\u001b[33m'\u001b[39m].head(\u001b[32m10\u001b[39m):\n\u001b[32m      2\u001b[39m     \u001b[38;5;28mprint\u001b[39m(state)\n\u001b[32m----> \u001b[39m\u001b[32m3\u001b[39m     sample_vec = \u001b[43mi\u001b[49m\u001b[43m.\u001b[49m\u001b[43mproblem\u001b[49m\u001b[43m.\u001b[49m\u001b[43minterpret_sample\u001b[49m\u001b[43m(\u001b[49m\u001b[43mstate\u001b[49m\u001b[43m)\u001b[49m\n\u001b[32m      4\u001b[39m     exact_expect = [(state.conj() @ SZ @ state).real \u001b[38;5;28;01mfor\u001b[39;00m state \u001b[38;5;129;01min\u001b[39;00m sample_vec]\n\u001b[32m      5\u001b[39m     \u001b[38;5;28mprint\u001b[39m(exact_expect)\n",
      "\u001b[36mFile \u001b[39m\u001b[32m~/Documents/__Dokumente/Uni/UPMC/stage gl/DWaveDynamics2/src/dwdynamics/problems.py:133\u001b[39m, in \u001b[36mComplexDynamicsProblem.interpret_sample\u001b[39m\u001b[34m(self, sample)\u001b[39m\n\u001b[32m    127\u001b[39m \u001b[38;5;28;01mdef\u001b[39;00m\u001b[38;5;250m \u001b[39m\u001b[34minterpret_sample\u001b[39m(\u001b[38;5;28mself\u001b[39m, sample: Mapping[\u001b[38;5;28mint\u001b[39m, \u001b[38;5;28mint\u001b[39m]) -> ComplexVector:\n\u001b[32m    128\u001b[39m \u001b[38;5;250m    \u001b[39m\u001b[33;03m\"\"\"Given a sampler (e.g. from the annealer) interpret it as a solution to this problem.\u001b[39;00m\n\u001b[32m    129\u001b[39m \n\u001b[32m    130\u001b[39m \u001b[33;03m    Solutions to this problem are complex arrays of shape (len(self.times), N), where N\u001b[39;00m\n\u001b[32m    131\u001b[39m \u001b[33;03m    is dimensionality of the system.\u001b[39;00m\n\u001b[32m    132\u001b[39m \u001b[33;03m    \"\"\"\u001b[39;00m\n\u001b[32m--> \u001b[39m\u001b[32m133\u001b[39m     flat_sol = \u001b[38;5;28;43mself\u001b[39;49m\u001b[43m.\u001b[49m\u001b[43mto_linear_eq_problem\u001b[49m\u001b[43m(\u001b[49m\u001b[43m)\u001b[49m\u001b[43m.\u001b[49m\u001b[43minterpret_sample\u001b[49m\u001b[43m(\u001b[49m\u001b[43msample\u001b[49m\u001b[43m)\u001b[49m\n\u001b[32m    134\u001b[39m     cplx_sol = flat_sol[\u001b[32m0\u001b[39m::\u001b[32m2\u001b[39m] + \u001b[32m1\u001b[39mj * flat_sol[\u001b[32m1\u001b[39m::\u001b[32m2\u001b[39m]\n\u001b[32m    135\u001b[39m     \u001b[38;5;28;01mreturn\u001b[39;00m cplx_sol.reshape(\u001b[38;5;28mlen\u001b[39m(\u001b[38;5;28mself\u001b[39m.times), -\u001b[32m1\u001b[39m)\n",
      "\u001b[36mFile \u001b[39m\u001b[32m~/Documents/__Dokumente/Uni/UPMC/stage gl/DWaveDynamics2/src/dwdynamics/problems.py:52\u001b[39m, in \u001b[36mRealLinearEquationProblem.interpret_sample\u001b[39m\u001b[34m(self, sample)\u001b[39m\n\u001b[32m     50\u001b[39m \u001b[38;5;28;01mdef\u001b[39;00m\u001b[38;5;250m \u001b[39m\u001b[34minterpret_sample\u001b[39m(\u001b[38;5;28mself\u001b[39m, sample: Mapping[\u001b[38;5;28mint\u001b[39m, \u001b[38;5;28mint\u001b[39m]) -> Vector[np.float64]:\n\u001b[32m     51\u001b[39m \u001b[38;5;250m    \u001b[39m\u001b[33;03m\"\"\"Given a binary sample, convert it to a vector of real numbers representing solution to this problem.\"\"\"\u001b[39;00m\n\u001b[32m---> \u001b[39m\u001b[32m52\u001b[39m     \u001b[38;5;28;01mreturn\u001b[39;00m np.asarray(\u001b[43mdecode_sample\u001b[49m\u001b[43m(\u001b[49m\u001b[43msample\u001b[49m\u001b[43m,\u001b[49m\u001b[43m \u001b[49m\u001b[38;5;28;43mself\u001b[39;49m\u001b[43m.\u001b[49m\u001b[43mnum_bits_per_var\u001b[49m\u001b[43m)\u001b[49m)\n",
      "\u001b[36mFile \u001b[39m\u001b[32m~/Documents/__Dokumente/Uni/UPMC/stage gl/DWaveDynamics2/src/dwdynamics/fixed_point.py:51\u001b[39m, in \u001b[36mdecode_sample\u001b[39m\u001b[34m(sample, n_bits_per_var, exp_offset)\u001b[39m\n\u001b[32m     49\u001b[39m \u001b[38;5;28;01mfor\u001b[39;00m i \u001b[38;5;129;01min\u001b[39;00m \u001b[38;5;28mrange\u001b[39m(N):\n\u001b[32m     50\u001b[39m     subsample = [sample[q(i,r)] \u001b[38;5;28;01mfor\u001b[39;00m r \u001b[38;5;129;01min\u001b[39;00m \u001b[38;5;28mrange\u001b[39m(n_bits_per_var)]\n\u001b[32m---> \u001b[39m\u001b[32m51\u001b[39m     result[i] = \u001b[43mdecode_number\u001b[49m\u001b[43m(\u001b[49m\u001b[43msubsample\u001b[49m\u001b[43m,\u001b[49m\u001b[43m \u001b[49m\u001b[43mexp_offset\u001b[49m\u001b[43m)\u001b[49m\n\u001b[32m     52\u001b[39m \u001b[38;5;28;01mreturn\u001b[39;00m result\n",
      "\u001b[36mFile \u001b[39m\u001b[32m~/Documents/__Dokumente/Uni/UPMC/stage gl/DWaveDynamics2/src/dwdynamics/fixed_point.py:25\u001b[39m, in \u001b[36mdecode_number\u001b[39m\u001b[34m(bits, exp_offset)\u001b[39m\n\u001b[32m     15\u001b[39m \u001b[38;5;28;01mdef\u001b[39;00m\u001b[38;5;250m \u001b[39m\u001b[34mdecode_number\u001b[39m(bits: Sequence[\u001b[38;5;28mint\u001b[39m], exp_offset: \u001b[38;5;28mint\u001b[39m = \u001b[32m0\u001b[39m) -> \u001b[38;5;28mfloat\u001b[39m:\n\u001b[32m     16\u001b[39m \u001b[38;5;250m    \u001b[39m\u001b[33;03m\"\"\"Given bits of a fixed-point encoded number, decode it to float.\u001b[39;00m\n\u001b[32m     17\u001b[39m \n\u001b[32m     18\u001b[39m \u001b[33;03m    Args:\u001b[39;00m\n\u001b[32m   (...)\u001b[39m\u001b[32m     23\u001b[39m \u001b[33;03m        Decoded number, as float.\u001b[39;00m\n\u001b[32m     24\u001b[39m \u001b[33;03m    \"\"\"\u001b[39;00m\n\u001b[32m---> \u001b[39m\u001b[32m25\u001b[39m     number_decoded = \u001b[32m2\u001b[39m ** exp_offset * (\u001b[32m2\u001b[39m * \u001b[38;5;28msum\u001b[39m(\u001b[32m2\u001b[39m ** (-alpha) * bit \n\u001b[32m     26\u001b[39m                                       \u001b[38;5;28;01mfor\u001b[39;00m alpha, bit \u001b[38;5;129;01min\u001b[39;00m \u001b[38;5;28menumerate\u001b[39m(bits)) - \u001b[32m1\u001b[39m)\n\u001b[32m     27\u001b[39m     \u001b[38;5;28;01mreturn\u001b[39;00m number_decoded\n",
      "\u001b[31mTypeError\u001b[39m: unsupported operand type(s) for +: 'int' and 'str'"
     ]
    }
   ],
   "source": [
    "for state in i.get_xubo_df()['State'].head(10):\n",
    "    print(state)\n",
    "    sample_vec = i.problem.interpret_sample(state)\n",
    "    exact_expect = [(state.conj() @ SZ @ state).real for state in sample_vec]\n",
    "    print(exact_expect)\n",
    "    print(\"---------\")\n",
    "\n",
    "    "
   ]
  }
 ],
 "metadata": {
  "kernelspec": {
   "display_name": ".venv",
   "language": "python",
   "name": "python3"
  },
  "language_info": {
   "codemirror_mode": {
    "name": "ipython",
    "version": 3
   },
   "file_extension": ".py",
   "mimetype": "text/x-python",
   "name": "python",
   "nbconvert_exporter": "python",
   "pygments_lexer": "ipython3",
   "version": "3.11.0rc1"
  }
 },
 "nbformat": 4,
 "nbformat_minor": 5
}
